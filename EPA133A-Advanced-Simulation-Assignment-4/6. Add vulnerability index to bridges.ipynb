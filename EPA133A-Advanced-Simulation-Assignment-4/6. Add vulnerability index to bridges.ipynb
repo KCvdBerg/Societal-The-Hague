{
 "cells": [
  {
   "cell_type": "code",
   "execution_count": 1,
   "id": "initial_id",
   "metadata": {
    "collapsed": true,
    "ExecuteTime": {
     "end_time": "2024-04-02T19:17:18.128429Z",
     "start_time": "2024-04-02T19:17:17.257093400Z"
    }
   },
   "outputs": [],
   "source": [
    "import geopandas as gpd\n",
    "import pandas as pd\n",
    "import matplotlib.pyplot as plt"
   ]
  },
  {
   "cell_type": "code",
   "outputs": [],
   "source": [
    "shape_0 = gpd.read_file('../data/semi-processed/shape_cat_0.shp')\n",
    "(shape_0.to_crs(epsg=4326, inplace=True))\n",
    "shape_0_open = shape_0.geometry.unary_union"
   ],
   "metadata": {
    "collapsed": false,
    "ExecuteTime": {
     "end_time": "2024-04-02T19:17:18.314572400Z",
     "start_time": "2024-04-02T19:17:18.133268200Z"
    }
   },
   "id": "ecb81c43b8e94244",
   "execution_count": 2
  },
  {
   "cell_type": "code",
   "outputs": [],
   "source": [
    "shape_1 = gpd.read_file('../data/semi-processed/shape_cat_1.shp')\n",
    "shape_1.to_crs(epsg=4326, inplace=True)\n",
    "shape_1_open = shape_1.geometry.unary_union"
   ],
   "metadata": {
    "collapsed": false,
    "ExecuteTime": {
     "end_time": "2024-04-02T19:17:18.371419100Z",
     "start_time": "2024-04-02T19:17:18.316572600Z"
    }
   },
   "id": "2205c21315c6b83b",
   "execution_count": 3
  },
  {
   "cell_type": "code",
   "outputs": [],
   "source": [
    "shape_2 = gpd.read_file('../data/semi-processed/shape_cat_2.shp')\n",
    "shape_2.to_crs(epsg=4326, inplace=True)\n",
    "shape_2_open = shape_2.geometry.unary_union"
   ],
   "metadata": {
    "collapsed": false,
    "ExecuteTime": {
     "end_time": "2024-04-02T19:17:18.480507200Z",
     "start_time": "2024-04-02T19:17:18.371419100Z"
    }
   },
   "id": "44ab15e4d187e2c8",
   "execution_count": 4
  },
  {
   "cell_type": "code",
   "outputs": [],
   "source": [
    "shape_3 = gpd.read_file('../data/semi-processed/shape_cat_3.shp')\n",
    "shape_3.to_crs(epsg=4326, inplace=True)\n",
    "shape_3_open = shape_3.geometry.unary_union"
   ],
   "metadata": {
    "collapsed": false,
    "ExecuteTime": {
     "end_time": "2024-04-02T19:17:18.571412500Z",
     "start_time": "2024-04-02T19:17:18.480507200Z"
    }
   },
   "id": "f82e86693a719f93",
   "execution_count": 5
  },
  {
   "cell_type": "code",
   "outputs": [
    {
     "data": {
      "text/plain": "      Unnamed: 0  road      km               type  LRPName  \\\n0              0  R250   8.107        Box Culvert  LRP008a   \n1              1  R250  12.648        Box Culvert  LRP013a   \n2              2  R250  15.317        Box Culvert  LRP015b   \n3              3  R250  14.563        Box Culvert  LRP015a   \n4              4  R250  14.032        Box Culvert  LRP014a   \n...          ...   ...     ...                ...      ...   \n2380        2380  N204  29.610        Box Culvert  LRP035c   \n2381        2381  N204  31.801        Box Culvert  LRP038a   \n2382        2382  N204  32.210  RCC Girder Bridge  LRP038b   \n2383        2383  N204  33.550        Box Culvert  LRP040a   \n2384        2384  N204  34.300       Slab Culvert  LRP041a   \n\n                               name  length condition  structureNr  \\\n0             HELAL PUR BOX CULVERT    4.50         A       100489   \n1                 SUKNA BOX CULVERT    3.00         A       100487   \n2               FULBARI BOX CULVERT    3.00         A       100491   \n3               FULBARI BOX CULVERT    3.00         A       100490   \n4              BOYTIKOL BOX CULVERT    3.00         A       100488   \n...                             ...     ...       ...          ...   \n2380                        CRIKOTA    1.55         A       104081   \n2381                       DURGAPUR    1.50         A       104084   \n2382      DORGAPUR RCC GIDER BRIDGE   17.80         C       104082   \n2383  NEAR SHAIS TAGAMJ BOX CULVERT    4.50         A       104077   \n2384           UBAHATA SLAB CULVERT    4.30         A       104085   \n\n                                            roadName  ...  constructionYear  \\\n0            Sylhet-Golapganj-Charkhai-Jakiganj Road  ...            1995.0   \n1            Sylhet-Golapganj-Charkhai-Jakiganj Road  ...            1995.0   \n2            Sylhet-Golapganj-Charkhai-Jakiganj Road  ...            1995.0   \n3            Sylhet-Golapganj-Charkhai-Jakiganj Road  ...            1995.0   \n4            Sylhet-Golapganj-Charkhai-Jakiganj Road  ...            1995.0   \n...                                              ...  ...               ...   \n2380  Jagadishpur-Chunarughat-Shaistaganj (old part)  ...            1965.0   \n2381  Jagadishpur-Chunarughat-Shaistaganj (old part)  ...            1965.0   \n2382  Jagadishpur-Chunarughat-Shaistaganj (old part)  ...            1965.0   \n2383  Jagadishpur-Chunarughat-Shaistaganj (old part)  ...            1988.0   \n2384  Jagadishpur-Chunarughat-Shaistaganj (old part)  ...            1964.0   \n\n      spans    zone         circle  division sub-division        lat  \\\n0       1.0  Sylhet         Sylhet    Sylhet    Golapganj  24.852237   \n1       1.0  Sylhet         Sylhet    Sylhet    Golapganj  24.853910   \n2       1.0  Sylhet         Sylhet    Sylhet    Golapganj  24.854289   \n3       1.0  Sylhet         Sylhet    Sylhet    Golapganj  24.856098   \n4       1.0  Sylhet         Sylhet    Sylhet    Golapganj  24.857246   \n...     ...     ...            ...       ...          ...        ...   \n2380    1.0  Sylhet  Moulavi Bazar  Habiganj  Shaistagonj  24.232763   \n2381    1.0  Sylhet  Moulavi Bazar  Habiganj  Shaistagonj  24.249896   \n2382    1.0  Sylhet  Moulavi Bazar  Habiganj  Shaistagonj  24.252372   \n2383    1.0  Sylhet  Moulavi Bazar  Habiganj  Shaistagonj  24.261595   \n2384    1.0  Sylhet  Moulavi Bazar  Habiganj  Shaistagonj  24.266583   \n\n            lon  EstimatedLoc  lanes  \n0     91.934565   interpolate    2.0  \n1     91.976418   interpolate    2.0  \n2     92.001478   interpolate    2.0  \n3     91.994234   interpolate    2.0  \n4     91.989462   interpolate    2.0  \n...         ...           ...    ...  \n2380  91.504116   interpolate    2.0  \n2381  91.493845   interpolate    2.0  \n2382  91.491274   interpolate    2.0  \n2383  91.482321   interpolate    2.0  \n2384  91.476944          bcs1    2.0  \n\n[2385 rows x 22 columns]",
      "text/html": "<div>\n<style scoped>\n    .dataframe tbody tr th:only-of-type {\n        vertical-align: middle;\n    }\n\n    .dataframe tbody tr th {\n        vertical-align: top;\n    }\n\n    .dataframe thead th {\n        text-align: right;\n    }\n</style>\n<table border=\"1\" class=\"dataframe\">\n  <thead>\n    <tr style=\"text-align: right;\">\n      <th></th>\n      <th>Unnamed: 0</th>\n      <th>road</th>\n      <th>km</th>\n      <th>type</th>\n      <th>LRPName</th>\n      <th>name</th>\n      <th>length</th>\n      <th>condition</th>\n      <th>structureNr</th>\n      <th>roadName</th>\n      <th>...</th>\n      <th>constructionYear</th>\n      <th>spans</th>\n      <th>zone</th>\n      <th>circle</th>\n      <th>division</th>\n      <th>sub-division</th>\n      <th>lat</th>\n      <th>lon</th>\n      <th>EstimatedLoc</th>\n      <th>lanes</th>\n    </tr>\n  </thead>\n  <tbody>\n    <tr>\n      <th>0</th>\n      <td>0</td>\n      <td>R250</td>\n      <td>8.107</td>\n      <td>Box Culvert</td>\n      <td>LRP008a</td>\n      <td>HELAL PUR BOX CULVERT</td>\n      <td>4.50</td>\n      <td>A</td>\n      <td>100489</td>\n      <td>Sylhet-Golapganj-Charkhai-Jakiganj Road</td>\n      <td>...</td>\n      <td>1995.0</td>\n      <td>1.0</td>\n      <td>Sylhet</td>\n      <td>Sylhet</td>\n      <td>Sylhet</td>\n      <td>Golapganj</td>\n      <td>24.852237</td>\n      <td>91.934565</td>\n      <td>interpolate</td>\n      <td>2.0</td>\n    </tr>\n    <tr>\n      <th>1</th>\n      <td>1</td>\n      <td>R250</td>\n      <td>12.648</td>\n      <td>Box Culvert</td>\n      <td>LRP013a</td>\n      <td>SUKNA BOX CULVERT</td>\n      <td>3.00</td>\n      <td>A</td>\n      <td>100487</td>\n      <td>Sylhet-Golapganj-Charkhai-Jakiganj Road</td>\n      <td>...</td>\n      <td>1995.0</td>\n      <td>1.0</td>\n      <td>Sylhet</td>\n      <td>Sylhet</td>\n      <td>Sylhet</td>\n      <td>Golapganj</td>\n      <td>24.853910</td>\n      <td>91.976418</td>\n      <td>interpolate</td>\n      <td>2.0</td>\n    </tr>\n    <tr>\n      <th>2</th>\n      <td>2</td>\n      <td>R250</td>\n      <td>15.317</td>\n      <td>Box Culvert</td>\n      <td>LRP015b</td>\n      <td>FULBARI BOX CULVERT</td>\n      <td>3.00</td>\n      <td>A</td>\n      <td>100491</td>\n      <td>Sylhet-Golapganj-Charkhai-Jakiganj Road</td>\n      <td>...</td>\n      <td>1995.0</td>\n      <td>1.0</td>\n      <td>Sylhet</td>\n      <td>Sylhet</td>\n      <td>Sylhet</td>\n      <td>Golapganj</td>\n      <td>24.854289</td>\n      <td>92.001478</td>\n      <td>interpolate</td>\n      <td>2.0</td>\n    </tr>\n    <tr>\n      <th>3</th>\n      <td>3</td>\n      <td>R250</td>\n      <td>14.563</td>\n      <td>Box Culvert</td>\n      <td>LRP015a</td>\n      <td>FULBARI BOX CULVERT</td>\n      <td>3.00</td>\n      <td>A</td>\n      <td>100490</td>\n      <td>Sylhet-Golapganj-Charkhai-Jakiganj Road</td>\n      <td>...</td>\n      <td>1995.0</td>\n      <td>1.0</td>\n      <td>Sylhet</td>\n      <td>Sylhet</td>\n      <td>Sylhet</td>\n      <td>Golapganj</td>\n      <td>24.856098</td>\n      <td>91.994234</td>\n      <td>interpolate</td>\n      <td>2.0</td>\n    </tr>\n    <tr>\n      <th>4</th>\n      <td>4</td>\n      <td>R250</td>\n      <td>14.032</td>\n      <td>Box Culvert</td>\n      <td>LRP014a</td>\n      <td>BOYTIKOL BOX CULVERT</td>\n      <td>3.00</td>\n      <td>A</td>\n      <td>100488</td>\n      <td>Sylhet-Golapganj-Charkhai-Jakiganj Road</td>\n      <td>...</td>\n      <td>1995.0</td>\n      <td>1.0</td>\n      <td>Sylhet</td>\n      <td>Sylhet</td>\n      <td>Sylhet</td>\n      <td>Golapganj</td>\n      <td>24.857246</td>\n      <td>91.989462</td>\n      <td>interpolate</td>\n      <td>2.0</td>\n    </tr>\n    <tr>\n      <th>...</th>\n      <td>...</td>\n      <td>...</td>\n      <td>...</td>\n      <td>...</td>\n      <td>...</td>\n      <td>...</td>\n      <td>...</td>\n      <td>...</td>\n      <td>...</td>\n      <td>...</td>\n      <td>...</td>\n      <td>...</td>\n      <td>...</td>\n      <td>...</td>\n      <td>...</td>\n      <td>...</td>\n      <td>...</td>\n      <td>...</td>\n      <td>...</td>\n      <td>...</td>\n      <td>...</td>\n    </tr>\n    <tr>\n      <th>2380</th>\n      <td>2380</td>\n      <td>N204</td>\n      <td>29.610</td>\n      <td>Box Culvert</td>\n      <td>LRP035c</td>\n      <td>CRIKOTA</td>\n      <td>1.55</td>\n      <td>A</td>\n      <td>104081</td>\n      <td>Jagadishpur-Chunarughat-Shaistaganj (old part)</td>\n      <td>...</td>\n      <td>1965.0</td>\n      <td>1.0</td>\n      <td>Sylhet</td>\n      <td>Moulavi Bazar</td>\n      <td>Habiganj</td>\n      <td>Shaistagonj</td>\n      <td>24.232763</td>\n      <td>91.504116</td>\n      <td>interpolate</td>\n      <td>2.0</td>\n    </tr>\n    <tr>\n      <th>2381</th>\n      <td>2381</td>\n      <td>N204</td>\n      <td>31.801</td>\n      <td>Box Culvert</td>\n      <td>LRP038a</td>\n      <td>DURGAPUR</td>\n      <td>1.50</td>\n      <td>A</td>\n      <td>104084</td>\n      <td>Jagadishpur-Chunarughat-Shaistaganj (old part)</td>\n      <td>...</td>\n      <td>1965.0</td>\n      <td>1.0</td>\n      <td>Sylhet</td>\n      <td>Moulavi Bazar</td>\n      <td>Habiganj</td>\n      <td>Shaistagonj</td>\n      <td>24.249896</td>\n      <td>91.493845</td>\n      <td>interpolate</td>\n      <td>2.0</td>\n    </tr>\n    <tr>\n      <th>2382</th>\n      <td>2382</td>\n      <td>N204</td>\n      <td>32.210</td>\n      <td>RCC Girder Bridge</td>\n      <td>LRP038b</td>\n      <td>DORGAPUR RCC GIDER BRIDGE</td>\n      <td>17.80</td>\n      <td>C</td>\n      <td>104082</td>\n      <td>Jagadishpur-Chunarughat-Shaistaganj (old part)</td>\n      <td>...</td>\n      <td>1965.0</td>\n      <td>1.0</td>\n      <td>Sylhet</td>\n      <td>Moulavi Bazar</td>\n      <td>Habiganj</td>\n      <td>Shaistagonj</td>\n      <td>24.252372</td>\n      <td>91.491274</td>\n      <td>interpolate</td>\n      <td>2.0</td>\n    </tr>\n    <tr>\n      <th>2383</th>\n      <td>2383</td>\n      <td>N204</td>\n      <td>33.550</td>\n      <td>Box Culvert</td>\n      <td>LRP040a</td>\n      <td>NEAR SHAIS TAGAMJ BOX CULVERT</td>\n      <td>4.50</td>\n      <td>A</td>\n      <td>104077</td>\n      <td>Jagadishpur-Chunarughat-Shaistaganj (old part)</td>\n      <td>...</td>\n      <td>1988.0</td>\n      <td>1.0</td>\n      <td>Sylhet</td>\n      <td>Moulavi Bazar</td>\n      <td>Habiganj</td>\n      <td>Shaistagonj</td>\n      <td>24.261595</td>\n      <td>91.482321</td>\n      <td>interpolate</td>\n      <td>2.0</td>\n    </tr>\n    <tr>\n      <th>2384</th>\n      <td>2384</td>\n      <td>N204</td>\n      <td>34.300</td>\n      <td>Slab Culvert</td>\n      <td>LRP041a</td>\n      <td>UBAHATA SLAB CULVERT</td>\n      <td>4.30</td>\n      <td>A</td>\n      <td>104085</td>\n      <td>Jagadishpur-Chunarughat-Shaistaganj (old part)</td>\n      <td>...</td>\n      <td>1964.0</td>\n      <td>1.0</td>\n      <td>Sylhet</td>\n      <td>Moulavi Bazar</td>\n      <td>Habiganj</td>\n      <td>Shaistagonj</td>\n      <td>24.266583</td>\n      <td>91.476944</td>\n      <td>bcs1</td>\n      <td>2.0</td>\n    </tr>\n  </tbody>\n</table>\n<p>2385 rows × 22 columns</p>\n</div>"
     },
     "execution_count": 6,
     "metadata": {},
     "output_type": "execute_result"
    }
   ],
   "source": [
    "bridges = pd.read_csv('../data/semi-processed/cleaned_bridges_final.csv')\n",
    "bridges"
   ],
   "metadata": {
    "collapsed": false,
    "ExecuteTime": {
     "end_time": "2024-04-02T19:17:18.626166900Z",
     "start_time": "2024-04-02T19:17:18.571412500Z"
    }
   },
   "id": "8969c42d9fff721f",
   "execution_count": 6
  },
  {
   "cell_type": "code",
   "outputs": [],
   "source": [
    "# Make geometry points from the lon-lat coordinates of the bridges \n",
    "df_points = gpd.GeoDataFrame(bridges, \n",
    "                             geometry=gpd.points_from_xy(bridges.lon, bridges.lat),\n",
    "                             crs='EPSG:4326')"
   ],
   "metadata": {
    "collapsed": false,
    "ExecuteTime": {
     "end_time": "2024-04-02T19:17:18.634457900Z",
     "start_time": "2024-04-02T19:17:18.627665300Z"
    }
   },
   "id": "bacf9394c3d6b3e0",
   "execution_count": 7
  },
  {
   "cell_type": "markdown",
   "source": [
    "# Make the visualisations for one shapefile"
   ],
   "metadata": {
    "collapsed": false
   },
   "id": "f3b7a2615b78f888"
  },
  {
   "cell_type": "code",
   "outputs": [],
   "source": [
    "within_cat_0 = df_points[df_points.geometry.within(shape_0_open)]\n",
    "outside_cat_0 = df_points[~df_points.geometry.within(shape_0_open)]"
   ],
   "metadata": {
    "collapsed": false,
    "ExecuteTime": {
     "end_time": "2024-04-02T19:17:20.302386100Z",
     "start_time": "2024-04-02T19:17:18.634457900Z"
    }
   },
   "id": "aa38d3cf98e02067",
   "execution_count": 8
  },
  {
   "cell_type": "code",
   "outputs": [
    {
     "data": {
      "text/plain": "      Unnamed: 0 road   km         type  LRPName name  length condition  \\\n2000        2000   N1  1.8  Box Culvert  LRP001a    .    11.3         A   \n\n      structureNr                                           roadName  ...  \\\n2000       117861  Dhaka (Jatrabari)-Comilla (Mainamati)-Chittago...  ...   \n\n      spans   zone  circle     division   sub-division        lat        lon  \\\n2000    2.0  Dhaka   Dhaka  Narayanganj  Narayanganj-1  23.698739  90.458861   \n\n     EstimatedLoc  lanes                   geometry  \n2000  interpolate    6.0  POINT (90.45886 23.69874)  \n\n[1 rows x 23 columns]",
      "text/html": "<div>\n<style scoped>\n    .dataframe tbody tr th:only-of-type {\n        vertical-align: middle;\n    }\n\n    .dataframe tbody tr th {\n        vertical-align: top;\n    }\n\n    .dataframe thead th {\n        text-align: right;\n    }\n</style>\n<table border=\"1\" class=\"dataframe\">\n  <thead>\n    <tr style=\"text-align: right;\">\n      <th></th>\n      <th>Unnamed: 0</th>\n      <th>road</th>\n      <th>km</th>\n      <th>type</th>\n      <th>LRPName</th>\n      <th>name</th>\n      <th>length</th>\n      <th>condition</th>\n      <th>structureNr</th>\n      <th>roadName</th>\n      <th>...</th>\n      <th>spans</th>\n      <th>zone</th>\n      <th>circle</th>\n      <th>division</th>\n      <th>sub-division</th>\n      <th>lat</th>\n      <th>lon</th>\n      <th>EstimatedLoc</th>\n      <th>lanes</th>\n      <th>geometry</th>\n    </tr>\n  </thead>\n  <tbody>\n    <tr>\n      <th>2000</th>\n      <td>2000</td>\n      <td>N1</td>\n      <td>1.8</td>\n      <td>Box Culvert</td>\n      <td>LRP001a</td>\n      <td>.</td>\n      <td>11.3</td>\n      <td>A</td>\n      <td>117861</td>\n      <td>Dhaka (Jatrabari)-Comilla (Mainamati)-Chittago...</td>\n      <td>...</td>\n      <td>2.0</td>\n      <td>Dhaka</td>\n      <td>Dhaka</td>\n      <td>Narayanganj</td>\n      <td>Narayanganj-1</td>\n      <td>23.698739</td>\n      <td>90.458861</td>\n      <td>interpolate</td>\n      <td>6.0</td>\n      <td>POINT (90.45886 23.69874)</td>\n    </tr>\n  </tbody>\n</table>\n<p>1 rows × 23 columns</p>\n</div>"
     },
     "execution_count": 9,
     "metadata": {},
     "output_type": "execute_result"
    }
   ],
   "source": [
    "within_cat_0"
   ],
   "metadata": {
    "collapsed": false,
    "ExecuteTime": {
     "end_time": "2024-04-02T19:17:20.323775600Z",
     "start_time": "2024-04-02T19:17:20.303385400Z"
    }
   },
   "id": "431fcbfb20784af1",
   "execution_count": 9
  },
  {
   "cell_type": "code",
   "outputs": [
    {
     "data": {
      "text/plain": "<Figure size 640x480 with 1 Axes>",
      "image/png": "[encoded data removed]"
     },
     "metadata": {},
     "output_type": "display_data"
    }
   ],
   "source": [
    "ax = shape_0.plot(color='white', edgecolor='black')\n",
    "within_cat_0.plot(ax=ax, color='blue', markersize=1)\n",
    "plt.show()"
   ],
   "metadata": {
    "collapsed": false,
    "ExecuteTime": {
     "end_time": "2024-04-02T19:17:20.628115300Z",
     "start_time": "2024-04-02T19:17:20.321775300Z"
    }
   },
   "id": "313fcfe392e3c671",
   "execution_count": 10
  },
  {
   "cell_type": "code",
   "outputs": [
    {
     "data": {
      "text/plain": "<Figure size 640x480 with 1 Axes>",
      "image/png": "[encoded data removed]"
     },
     "metadata": {},
     "output_type": "display_data"
    }
   ],
   "source": [
    "ax = shape_0.plot(color='white', edgecolor='black')\n",
    "outside_cat_0.plot(ax=ax, color='blue', markersize=1)\n",
    "plt.show()"
   ],
   "metadata": {
    "collapsed": false,
    "ExecuteTime": {
     "end_time": "2024-04-02T19:17:20.823424600Z",
     "start_time": "2024-04-02T19:17:20.625269900Z"
    }
   },
   "id": "3f2ae45e2c00f72a",
   "execution_count": 11
  },
  {
   "cell_type": "code",
   "outputs": [],
   "source": [
    "within_cat_1 = df_points[df_points.geometry.within(shape_1_open)]\n",
    "outside_cat_1 = df_points[~df_points.geometry.within(shape_1_open)]"
   ],
   "metadata": {
    "collapsed": false,
    "ExecuteTime": {
     "end_time": "2024-04-02T19:17:23.468645900Z",
     "start_time": "2024-04-02T19:17:20.822424500Z"
    }
   },
   "id": "d2a257635efe1a51",
   "execution_count": 12
  },
  {
   "cell_type": "code",
   "outputs": [],
   "source": [
    "within_cat_2 = df_points[df_points.geometry.within(shape_2_open)]\n",
    "outside_cat_2 = df_points[~df_points.geometry.within(shape_2_open)]"
   ],
   "metadata": {
    "collapsed": false,
    "ExecuteTime": {
     "end_time": "2024-04-02T19:17:43.582453Z",
     "start_time": "2024-04-02T19:17:23.473249400Z"
    }
   },
   "id": "b79947d9e6ccf894",
   "execution_count": 13
  },
  {
   "cell_type": "code",
   "outputs": [],
   "source": [
    "within_cat_3 = df_points[df_points.geometry.within(shape_3_open)]\n",
    "outside_cat_3 = df_points[~df_points.geometry.within(shape_3_open)]"
   ],
   "metadata": {
    "collapsed": false,
    "ExecuteTime": {
     "end_time": "2024-04-02T19:17:51.561892600Z",
     "start_time": "2024-04-02T19:17:43.589206100Z"
    }
   },
   "id": "36e7c3fcec77078e",
   "execution_count": 14
  },
  {
   "cell_type": "markdown",
   "source": [
    "# Add vulnerability catagories based on the structure numbers"
   ],
   "metadata": {
    "collapsed": false
   },
   "id": "f464559002d28dee"
  },
  {
   "cell_type": "code",
   "outputs": [],
   "source": [
    "cat_0_list = within_cat_0['structureNr'].to_list()\n",
    "cat_1_list = within_cat_1['structureNr'].to_list()\n",
    "cat_2_list = within_cat_2['structureNr'].to_list()\n",
    "cat_3_list = within_cat_3['structureNr'].to_list()"
   ],
   "metadata": {
    "collapsed": false,
    "ExecuteTime": {
     "end_time": "2024-04-02T19:17:51.579301600Z",
     "start_time": "2024-04-02T19:17:51.564819600Z"
    }
   },
   "id": "1ab997391d43ad14",
   "execution_count": 15
  },
  {
   "cell_type": "code",
   "outputs": [],
   "source": [
    "def add_vul_cat(dataframe, list0, list1, list2, list3):\n",
    "    df = dataframe.copy() \n",
    "    for row in range(len(df)):\n",
    "        if df.loc[row, 'structureNr'] in list0:\n",
    "            df.at[row, 'vul_cat'] = 0\n",
    "        elif df.loc[row, 'structureNr'] in list1:\n",
    "            df.at[row, 'vul_cat'] = 1\n",
    "        elif df.loc[row, 'structureNr'] in list2:\n",
    "            df.at[row, 'vul_cat'] = 2\n",
    "        elif df.loc[row, 'structureNr'] in list3:\n",
    "            df.at[row, 'vul_cat'] = 3\n",
    "    return df"
   ],
   "metadata": {
    "collapsed": false,
    "ExecuteTime": {
     "end_time": "2024-04-02T19:17:51.579801200Z",
     "start_time": "2024-04-02T19:17:51.572187400Z"
    }
   },
   "id": "cce5ca9f797361f",
   "execution_count": 16
  },
  {
   "cell_type": "code",
   "outputs": [
    {
     "data": {
      "text/plain": "      Unnamed: 0  road      km               type  LRPName  \\\n0              0  R250   8.107        Box Culvert  LRP008a   \n1              1  R250  12.648        Box Culvert  LRP013a   \n2              2  R250  15.317        Box Culvert  LRP015b   \n3              3  R250  14.563        Box Culvert  LRP015a   \n4              4  R250  14.032        Box Culvert  LRP014a   \n...          ...   ...     ...                ...      ...   \n2380        2380  N204  29.610        Box Culvert  LRP035c   \n2381        2381  N204  31.801        Box Culvert  LRP038a   \n2382        2382  N204  32.210  RCC Girder Bridge  LRP038b   \n2383        2383  N204  33.550        Box Culvert  LRP040a   \n2384        2384  N204  34.300       Slab Culvert  LRP041a   \n\n                               name  length condition  structureNr  \\\n0             HELAL PUR BOX CULVERT    4.50         A       100489   \n1                 SUKNA BOX CULVERT    3.00         A       100487   \n2               FULBARI BOX CULVERT    3.00         A       100491   \n3               FULBARI BOX CULVERT    3.00         A       100490   \n4              BOYTIKOL BOX CULVERT    3.00         A       100488   \n...                             ...     ...       ...          ...   \n2380                        CRIKOTA    1.55         A       104081   \n2381                       DURGAPUR    1.50         A       104084   \n2382      DORGAPUR RCC GIDER BRIDGE   17.80         C       104082   \n2383  NEAR SHAIS TAGAMJ BOX CULVERT    4.50         A       104077   \n2384           UBAHATA SLAB CULVERT    4.30         A       104085   \n\n                                            roadName  ...  spans    zone  \\\n0            Sylhet-Golapganj-Charkhai-Jakiganj Road  ...    1.0  Sylhet   \n1            Sylhet-Golapganj-Charkhai-Jakiganj Road  ...    1.0  Sylhet   \n2            Sylhet-Golapganj-Charkhai-Jakiganj Road  ...    1.0  Sylhet   \n3            Sylhet-Golapganj-Charkhai-Jakiganj Road  ...    1.0  Sylhet   \n4            Sylhet-Golapganj-Charkhai-Jakiganj Road  ...    1.0  Sylhet   \n...                                              ...  ...    ...     ...   \n2380  Jagadishpur-Chunarughat-Shaistaganj (old part)  ...    1.0  Sylhet   \n2381  Jagadishpur-Chunarughat-Shaistaganj (old part)  ...    1.0  Sylhet   \n2382  Jagadishpur-Chunarughat-Shaistaganj (old part)  ...    1.0  Sylhet   \n2383  Jagadishpur-Chunarughat-Shaistaganj (old part)  ...    1.0  Sylhet   \n2384  Jagadishpur-Chunarughat-Shaistaganj (old part)  ...    1.0  Sylhet   \n\n             circle  division sub-division        lat        lon EstimatedLoc  \\\n0            Sylhet    Sylhet    Golapganj  24.852237  91.934565  interpolate   \n1            Sylhet    Sylhet    Golapganj  24.853910  91.976418  interpolate   \n2            Sylhet    Sylhet    Golapganj  24.854289  92.001478  interpolate   \n3            Sylhet    Sylhet    Golapganj  24.856098  91.994234  interpolate   \n4            Sylhet    Sylhet    Golapganj  24.857246  91.989462  interpolate   \n...             ...       ...          ...        ...        ...          ...   \n2380  Moulavi Bazar  Habiganj  Shaistagonj  24.232763  91.504116  interpolate   \n2381  Moulavi Bazar  Habiganj  Shaistagonj  24.249896  91.493845  interpolate   \n2382  Moulavi Bazar  Habiganj  Shaistagonj  24.252372  91.491274  interpolate   \n2383  Moulavi Bazar  Habiganj  Shaistagonj  24.261595  91.482321  interpolate   \n2384  Moulavi Bazar  Habiganj  Shaistagonj  24.266583  91.476944         bcs1   \n\n      lanes  vul_cat  \n0       2.0      2.0  \n1       2.0      2.0  \n2       2.0      2.0  \n3       2.0      2.0  \n4       2.0      2.0  \n...     ...      ...  \n2380    2.0      2.0  \n2381    2.0      2.0  \n2382    2.0      2.0  \n2383    2.0      2.0  \n2384    2.0      2.0  \n\n[2385 rows x 23 columns]",
      "text/html": "<div>\n<style scoped>\n    .dataframe tbody tr th:only-of-type {\n        vertical-align: middle;\n    }\n\n    .dataframe tbody tr th {\n        vertical-align: top;\n    }\n\n    .dataframe thead th {\n        text-align: right;\n    }\n</style>\n<table border=\"1\" class=\"dataframe\">\n  <thead>\n    <tr style=\"text-align: right;\">\n      <th></th>\n      <th>Unnamed: 0</th>\n      <th>road</th>\n      <th>km</th>\n      <th>type</th>\n      <th>LRPName</th>\n      <th>name</th>\n      <th>length</th>\n      <th>condition</th>\n      <th>structureNr</th>\n      <th>roadName</th>\n      <th>...</th>\n      <th>spans</th>\n      <th>zone</th>\n      <th>circle</th>\n      <th>division</th>\n      <th>sub-division</th>\n      <th>lat</th>\n      <th>lon</th>\n      <th>EstimatedLoc</th>\n      <th>lanes</th>\n      <th>vul_cat</th>\n    </tr>\n  </thead>\n  <tbody>\n    <tr>\n      <th>0</th>\n      <td>0</td>\n      <td>R250</td>\n      <td>8.107</td>\n      <td>Box Culvert</td>\n      <td>LRP008a</td>\n      <td>HELAL PUR BOX CULVERT</td>\n      <td>4.50</td>\n      <td>A</td>\n      <td>100489</td>\n      <td>Sylhet-Golapganj-Charkhai-Jakiganj Road</td>\n      <td>...</td>\n      <td>1.0</td>\n      <td>Sylhet</td>\n      <td>Sylhet</td>\n      <td>Sylhet</td>\n      <td>Golapganj</td>\n      <td>24.852237</td>\n      <td>91.934565</td>\n      <td>interpolate</td>\n      <td>2.0</td>\n      <td>2.0</td>\n    </tr>\n    <tr>\n      <th>1</th>\n      <td>1</td>\n      <td>R250</td>\n      <td>12.648</td>\n      <td>Box Culvert</td>\n      <td>LRP013a</td>\n      <td>SUKNA BOX CULVERT</td>\n      <td>3.00</td>\n      <td>A</td>\n      <td>100487</td>\n      <td>Sylhet-Golapganj-Charkhai-Jakiganj Road</td>\n      <td>...</td>\n      <td>1.0</td>\n      <td>Sylhet</td>\n      <td>Sylhet</td>\n      <td>Sylhet</td>\n      <td>Golapganj</td>\n      <td>24.853910</td>\n      <td>91.976418</td>\n      <td>interpolate</td>\n      <td>2.0</td>\n      <td>2.0</td>\n    </tr>\n    <tr>\n      <th>2</th>\n      <td>2</td>\n      <td>R250</td>\n      <td>15.317</td>\n      <td>Box Culvert</td>\n      <td>LRP015b</td>\n      <td>FULBARI BOX CULVERT</td>\n      <td>3.00</td>\n      <td>A</td>\n      <td>100491</td>\n      <td>Sylhet-Golapganj-Charkhai-Jakiganj Road</td>\n      <td>...</td>\n      <td>1.0</td>\n      <td>Sylhet</td>\n      <td>Sylhet</td>\n      <td>Sylhet</td>\n      <td>Golapganj</td>\n      <td>24.854289</td>\n      <td>92.001478</td>\n      <td>interpolate</td>\n      <td>2.0</td>\n      <td>2.0</td>\n    </tr>\n    <tr>\n      <th>3</th>\n      <td>3</td>\n      <td>R250</td>\n      <td>14.563</td>\n      <td>Box Culvert</td>\n      <td>LRP015a</td>\n      <td>FULBARI BOX CULVERT</td>\n      <td>3.00</td>\n      <td>A</td>\n      <td>100490</td>\n      <td>Sylhet-Golapganj-Charkhai-Jakiganj Road</td>\n      <td>...</td>\n      <td>1.0</td>\n      <td>Sylhet</td>\n      <td>Sylhet</td>\n      <td>Sylhet</td>\n      <td>Golapganj</td>\n      <td>24.856098</td>\n      <td>91.994234</td>\n      <td>interpolate</td>\n      <td>2.0</td>\n      <td>2.0</td>\n    </tr>\n    <tr>\n      <th>4</th>\n      <td>4</td>\n      <td>R250</td>\n      <td>14.032</td>\n      <td>Box Culvert</td>\n      <td>LRP014a</td>\n      <td>BOYTIKOL BOX CULVERT</td>\n      <td>3.00</td>\n      <td>A</td>\n      <td>100488</td>\n      <td>Sylhet-Golapganj-Charkhai-Jakiganj Road</td>\n      <td>...</td>\n      <td>1.0</td>\n      <td>Sylhet</td>\n      <td>Sylhet</td>\n      <td>Sylhet</td>\n      <td>Golapganj</td>\n      <td>24.857246</td>\n      <td>91.989462</td>\n      <td>interpolate</td>\n      <td>2.0</td>\n      <td>2.0</td>\n    </tr>\n    <tr>\n      <th>...</th>\n      <td>...</td>\n      <td>...</td>\n      <td>...</td>\n      <td>...</td>\n      <td>...</td>\n      <td>...</td>\n      <td>...</td>\n      <td>...</td>\n      <td>...</td>\n      <td>...</td>\n      <td>...</td>\n      <td>...</td>\n      <td>...</td>\n      <td>...</td>\n      <td>...</td>\n      <td>...</td>\n      <td>...</td>\n      <td>...</td>\n      <td>...</td>\n      <td>...</td>\n      <td>...</td>\n    </tr>\n    <tr>\n      <th>2380</th>\n      <td>2380</td>\n      <td>N204</td>\n      <td>29.610</td>\n      <td>Box Culvert</td>\n      <td>LRP035c</td>\n      <td>CRIKOTA</td>\n      <td>1.55</td>\n      <td>A</td>\n      <td>104081</td>\n      <td>Jagadishpur-Chunarughat-Shaistaganj (old part)</td>\n      <td>...</td>\n      <td>1.0</td>\n      <td>Sylhet</td>\n      <td>Moulavi Bazar</td>\n      <td>Habiganj</td>\n      <td>Shaistagonj</td>\n      <td>24.232763</td>\n      <td>91.504116</td>\n      <td>interpolate</td>\n      <td>2.0</td>\n      <td>2.0</td>\n    </tr>\n    <tr>\n      <th>2381</th>\n      <td>2381</td>\n      <td>N204</td>\n      <td>31.801</td>\n      <td>Box Culvert</td>\n      <td>LRP038a</td>\n      <td>DURGAPUR</td>\n      <td>1.50</td>\n      <td>A</td>\n      <td>104084</td>\n      <td>Jagadishpur-Chunarughat-Shaistaganj (old part)</td>\n      <td>...</td>\n      <td>1.0</td>\n      <td>Sylhet</td>\n      <td>Moulavi Bazar</td>\n      <td>Habiganj</td>\n      <td>Shaistagonj</td>\n      <td>24.249896</td>\n      <td>91.493845</td>\n      <td>interpolate</td>\n      <td>2.0</td>\n      <td>2.0</td>\n    </tr>\n    <tr>\n      <th>2382</th>\n      <td>2382</td>\n      <td>N204</td>\n      <td>32.210</td>\n      <td>RCC Girder Bridge</td>\n      <td>LRP038b</td>\n      <td>DORGAPUR RCC GIDER BRIDGE</td>\n      <td>17.80</td>\n      <td>C</td>\n      <td>104082</td>\n      <td>Jagadishpur-Chunarughat-Shaistaganj (old part)</td>\n      <td>...</td>\n      <td>1.0</td>\n      <td>Sylhet</td>\n      <td>Moulavi Bazar</td>\n      <td>Habiganj</td>\n      <td>Shaistagonj</td>\n      <td>24.252372</td>\n      <td>91.491274</td>\n      <td>interpolate</td>\n      <td>2.0</td>\n      <td>2.0</td>\n    </tr>\n    <tr>\n      <th>2383</th>\n      <td>2383</td>\n      <td>N204</td>\n      <td>33.550</td>\n      <td>Box Culvert</td>\n      <td>LRP040a</td>\n      <td>NEAR SHAIS TAGAMJ BOX CULVERT</td>\n      <td>4.50</td>\n      <td>A</td>\n      <td>104077</td>\n      <td>Jagadishpur-Chunarughat-Shaistaganj (old part)</td>\n      <td>...</td>\n      <td>1.0</td>\n      <td>Sylhet</td>\n      <td>Moulavi Bazar</td>\n      <td>Habiganj</td>\n      <td>Shaistagonj</td>\n      <td>24.261595</td>\n      <td>91.482321</td>\n      <td>interpolate</td>\n      <td>2.0</td>\n      <td>2.0</td>\n    </tr>\n    <tr>\n      <th>2384</th>\n      <td>2384</td>\n      <td>N204</td>\n      <td>34.300</td>\n      <td>Slab Culvert</td>\n      <td>LRP041a</td>\n      <td>UBAHATA SLAB CULVERT</td>\n      <td>4.30</td>\n      <td>A</td>\n      <td>104085</td>\n      <td>Jagadishpur-Chunarughat-Shaistaganj (old part)</td>\n      <td>...</td>\n      <td>1.0</td>\n      <td>Sylhet</td>\n      <td>Moulavi Bazar</td>\n      <td>Habiganj</td>\n      <td>Shaistagonj</td>\n      <td>24.266583</td>\n      <td>91.476944</td>\n      <td>bcs1</td>\n      <td>2.0</td>\n      <td>2.0</td>\n    </tr>\n  </tbody>\n</table>\n<p>2385 rows × 23 columns</p>\n</div>"
     },
     "execution_count": 17,
     "metadata": {},
     "output_type": "execute_result"
    }
   ],
   "source": [
    "bridges_vul_index = add_vul_cat(bridges, cat_0_list, cat_1_list, cat_2_list, cat_3_list)\n",
    "bridges_vul_index"
   ],
   "metadata": {
    "collapsed": false,
    "ExecuteTime": {
     "end_time": "2024-04-02T19:17:51.787923200Z",
     "start_time": "2024-04-02T19:17:51.574001700Z"
    }
   },
   "id": "f3de9c704ac5a27c",
   "execution_count": 17
  },
  {
   "cell_type": "code",
   "outputs": [
    {
     "data": {
      "text/plain": "Unnamed: 0           0\nroad                 0\nkm                   0\ntype                 0\nLRPName              0\nname                 0\nlength               0\ncondition            0\nstructureNr          0\nroadName             0\nchainage             0\nwidth               18\nconstructionYear    18\nspans               18\nzone                 0\ncircle               0\ndivision             0\nsub-division         0\nlat                  0\nlon                  0\nEstimatedLoc         0\nlanes                0\nvul_cat              0\ndtype: int64"
     },
     "execution_count": 18,
     "metadata": {},
     "output_type": "execute_result"
    }
   ],
   "source": [
    "bridges_vul_index.isna().sum()"
   ],
   "metadata": {
    "collapsed": false,
    "ExecuteTime": {
     "end_time": "2024-04-02T19:17:51.798627700Z",
     "start_time": "2024-04-02T19:17:51.787923200Z"
    }
   },
   "id": "3189e5599eb3882e",
   "execution_count": 18
  },
  {
   "cell_type": "code",
   "outputs": [
    {
     "data": {
      "text/plain": "vul_cat\n2.0    1755\n1.0     586\n3.0      43\n0.0       1\nName: count, dtype: int64"
     },
     "execution_count": 19,
     "metadata": {},
     "output_type": "execute_result"
    }
   ],
   "source": [
    "bridges_vul_index['vul_cat'].value_counts()"
   ],
   "metadata": {
    "collapsed": false,
    "ExecuteTime": {
     "end_time": "2024-04-02T19:17:51.818408100Z",
     "start_time": "2024-04-02T19:17:51.797714500Z"
    }
   },
   "id": "20abf07f3fc2da60",
   "execution_count": 19
  },
  {
   "cell_type": "code",
   "outputs": [
    {
     "data": {
      "text/plain": "43"
     },
     "execution_count": 20,
     "metadata": {},
     "output_type": "execute_result"
    }
   ],
   "source": [
    "len(cat_3_list)"
   ],
   "metadata": {
    "collapsed": false,
    "ExecuteTime": {
     "end_time": "2024-04-02T19:17:51.818408100Z",
     "start_time": "2024-04-02T19:17:51.804987100Z"
    }
   },
   "id": "4943727d5b2d0a94",
   "execution_count": 20
  },
  {
   "cell_type": "code",
   "outputs": [],
   "source": [
    "bridges_vul_index.to_csv('../data/semi-processed/bridges_vul_index.csv')"
   ],
   "metadata": {
    "collapsed": false,
    "ExecuteTime": {
     "end_time": "2024-04-02T19:17:51.847074500Z",
     "start_time": "2024-04-02T19:17:51.813314800Z"
    }
   },
   "id": "ec1690d24f2f1de6",
   "execution_count": 21
  }
 ],
 "metadata": {
  "kernelspec": {
   "display_name": "Python 3",
   "language": "python",
   "name": "python3"
  },
  "language_info": {
   "codemirror_mode": {
    "name": "ipython",
    "version": 2
   },
   "file_extension": ".py",
   "mimetype": "text/x-python",
   "name": "python",
   "nbconvert_exporter": "python",
   "pygments_lexer": "ipython2",
   "version": "2.7.6"
  }
 },
 "nbformat": 4,
 "nbformat_minor": 5
}
