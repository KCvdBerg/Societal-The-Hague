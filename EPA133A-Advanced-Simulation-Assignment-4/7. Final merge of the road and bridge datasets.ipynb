{
 "cells": [
  {
   "cell_type": "markdown",
   "source": [
    "# Final merge of the road and bridge datsets"
   ],
   "metadata": {
    "collapsed": false
   },
   "id": "c6ab96052b7f3d1d"
  },
  {
   "cell_type": "code",
   "execution_count": 53,
   "outputs": [],
   "source": [
    "import pandas as pd\n",
    "import numpy as np\n",
    "from haversine import haversine, Unit"
   ],
   "metadata": {
    "collapsed": false,
    "ExecuteTime": {
     "end_time": "2024-04-03T12:38:48.114396800Z",
     "start_time": "2024-04-03T12:38:47.678165200Z"
    }
   },
   "id": "5a6897e7ff04b790"
  },
  {
   "cell_type": "code",
   "execution_count": 54,
   "outputs": [
    {
     "data": {
      "text/plain": "26"
     },
     "execution_count": 54,
     "metadata": {},
     "output_type": "execute_result"
    }
   ],
   "source": [
    "documented_intersections_start_end = pd.read_csv('../data/semi-processed/identified_roads_final.csv')\n",
    "roads_in_simulation = documented_intersections_start_end.road.unique().tolist()\n",
    "len(roads_in_simulation)"
   ],
   "metadata": {
    "collapsed": false,
    "ExecuteTime": {
     "end_time": "2024-04-03T12:38:48.336911300Z",
     "start_time": "2024-04-03T12:38:47.693989100Z"
    }
   },
   "id": "3a192beb311e9be9"
  },
  {
   "cell_type": "code",
   "execution_count": 55,
   "outputs": [
    {
     "data": {
      "text/plain": "     Unnamed: 0   road  chainage  LRPName        lat        lon  gap  \\\n0             0     N1     0.000     LRPS  23.706028  90.443333  NaN   \n1            55     N1     8.763  LRP009a  23.706083  90.521527  NaN   \n2            56     N1    45.322  LRP046a  23.530749  90.781610  NaN   \n3            57     N1    47.224  LRP047a  23.530694  90.792444  NaN   \n4            58     N1    55.477  LRP056c  23.512667  90.871416  NaN   \n..          ...    ...       ...      ...        ...        ...  ...   \n109          49  Z1402    43.849     LRPE  23.530749  90.781610  NaN   \n110          87  Z1402    45.322     LRPE  23.530749  90.781610  NaN   \n111          50  Z2013     0.000     LRPS  24.867305  91.856806  NaN   \n112          51  Z2013    25.045     LRPE  24.657222  91.828222  NaN   \n113         110  Z2013   225.373     LRPS  24.867305  91.856806  NaN   \n\n               type                                               name  \\\n0            Others  Start of Road  after Jatrabari Flyover infront...   \n1     sideroad,left                                Road to Sylhet (N2)   \n2    sideroad,right                              Z1402, road to Pennai   \n3    sideroad,right                                              Z1044   \n4     sideroad,left                        Z1042, road to Bancharampur   \n..              ...                                                ...   \n109          Others                             Meet with N1 at Pennai   \n110          Others                             Meet with N1 at Pennai   \n111          Others            Road Start From N2 at Chandipool Sylhet   \n112          Others                      Road End With Borobaga River.   \n113          Others            Road Start From N2 at Chandipool Sylhet   \n\n    road_to  distance_to_closest  closest_lat  closest_lon closest_lrp  \\\n0       NaN                  NaN          NaN          NaN         NaN   \n1        N2            20.374160    23.705917    90.521444        LRPS   \n2     Z1402             0.000000    23.530749    90.781610        LRPE   \n3     Z1044             0.000000    23.530694    90.792444        LRPS   \n4     Z1042             3.091223    23.512639    90.871416        LRPS   \n..      ...                  ...          ...          ...         ...   \n109     NaN                  NaN          NaN          NaN         NaN   \n110      N1             0.000000    23.530749    90.781610     LRP046a   \n111     NaN                  NaN          NaN          NaN         NaN   \n112     NaN                  NaN          NaN          NaN         NaN   \n113      N2             0.000000    24.867305    91.856806     LRP225b   \n\n                            closest_name closest_type  closest_chainage  \\\n0                                    NaN          NaN               NaN   \n1         Road Start from N1 at Katchpur       Others             0.000   \n2                 Meet with N1 at Pennai       Others            43.849   \n3      Start of Road From N1 at Gouripur       Others             0.000   \n4    Start of Road from N1 at Eliotganj.       Others             0.000   \n..                                   ...          ...               ...   \n109                                  NaN          NaN               NaN   \n110                                  NaN          NaN            43.849   \n111                                  NaN          NaN               NaN   \n112                                  NaN          NaN               NaN   \n113                                  NaN          NaN             0.000   \n\n     intersection     trios       model_type  \n0             NaN   group 1       sourcesink  \n1    intersection  group 19       sourcesink  \n2    intersection  group 19  intersourcesink  \n3    intersection  group 20       sourcesink  \n4    intersection  group 20       sourcesink  \n..            ...       ...              ...  \n109           NaN  group 17       sourcesink  \n110           NaN       NaN     intersection  \n111           NaN  group 17  intersourcesink  \n112           NaN  group 18       sourcesink  \n113           NaN       NaN     intersection  \n\n[114 rows x 20 columns]",
      "text/html": "<div>\n<style scoped>\n    .dataframe tbody tr th:only-of-type {\n        vertical-align: middle;\n    }\n\n    .dataframe tbody tr th {\n        vertical-align: top;\n    }\n\n    .dataframe thead th {\n        text-align: right;\n    }\n</style>\n<table border=\"1\" class=\"dataframe\">\n  <thead>\n    <tr style=\"text-align: right;\">\n      <th></th>\n      <th>Unnamed: 0</th>\n      <th>road</th>\n      <th>chainage</th>\n      <th>LRPName</th>\n      <th>lat</th>\n      <th>lon</th>\n      <th>gap</th>\n      <th>type</th>\n      <th>name</th>\n      <th>road_to</th>\n      <th>distance_to_closest</th>\n      <th>closest_lat</th>\n      <th>closest_lon</th>\n      <th>closest_lrp</th>\n      <th>closest_name</th>\n      <th>closest_type</th>\n      <th>closest_chainage</th>\n      <th>intersection</th>\n      <th>trios</th>\n      <th>model_type</th>\n    </tr>\n  </thead>\n  <tbody>\n    <tr>\n      <th>0</th>\n      <td>0</td>\n      <td>N1</td>\n      <td>0.000</td>\n      <td>LRPS</td>\n      <td>23.706028</td>\n      <td>90.443333</td>\n      <td>NaN</td>\n      <td>Others</td>\n      <td>Start of Road  after Jatrabari Flyover infront...</td>\n      <td>NaN</td>\n      <td>NaN</td>\n      <td>NaN</td>\n      <td>NaN</td>\n      <td>NaN</td>\n      <td>NaN</td>\n      <td>NaN</td>\n      <td>NaN</td>\n      <td>NaN</td>\n      <td>group 1</td>\n      <td>sourcesink</td>\n    </tr>\n    <tr>\n      <th>1</th>\n      <td>55</td>\n      <td>N1</td>\n      <td>8.763</td>\n      <td>LRP009a</td>\n      <td>23.706083</td>\n      <td>90.521527</td>\n      <td>NaN</td>\n      <td>sideroad,left</td>\n      <td>Road to Sylhet (N2)</td>\n      <td>N2</td>\n      <td>20.374160</td>\n      <td>23.705917</td>\n      <td>90.521444</td>\n      <td>LRPS</td>\n      <td>Road Start from N1 at Katchpur</td>\n      <td>Others</td>\n      <td>0.000</td>\n      <td>intersection</td>\n      <td>group 19</td>\n      <td>sourcesink</td>\n    </tr>\n    <tr>\n      <th>2</th>\n      <td>56</td>\n      <td>N1</td>\n      <td>45.322</td>\n      <td>LRP046a</td>\n      <td>23.530749</td>\n      <td>90.781610</td>\n      <td>NaN</td>\n      <td>sideroad,right</td>\n      <td>Z1402, road to Pennai</td>\n      <td>Z1402</td>\n      <td>0.000000</td>\n      <td>23.530749</td>\n      <td>90.781610</td>\n      <td>LRPE</td>\n      <td>Meet with N1 at Pennai</td>\n      <td>Others</td>\n      <td>43.849</td>\n      <td>intersection</td>\n      <td>group 19</td>\n      <td>intersourcesink</td>\n    </tr>\n    <tr>\n      <th>3</th>\n      <td>57</td>\n      <td>N1</td>\n      <td>47.224</td>\n      <td>LRP047a</td>\n      <td>23.530694</td>\n      <td>90.792444</td>\n      <td>NaN</td>\n      <td>sideroad,right</td>\n      <td>Z1044</td>\n      <td>Z1044</td>\n      <td>0.000000</td>\n      <td>23.530694</td>\n      <td>90.792444</td>\n      <td>LRPS</td>\n      <td>Start of Road From N1 at Gouripur</td>\n      <td>Others</td>\n      <td>0.000</td>\n      <td>intersection</td>\n      <td>group 20</td>\n      <td>sourcesink</td>\n    </tr>\n    <tr>\n      <th>4</th>\n      <td>58</td>\n      <td>N1</td>\n      <td>55.477</td>\n      <td>LRP056c</td>\n      <td>23.512667</td>\n      <td>90.871416</td>\n      <td>NaN</td>\n      <td>sideroad,left</td>\n      <td>Z1042, road to Bancharampur</td>\n      <td>Z1042</td>\n      <td>3.091223</td>\n      <td>23.512639</td>\n      <td>90.871416</td>\n      <td>LRPS</td>\n      <td>Start of Road from N1 at Eliotganj.</td>\n      <td>Others</td>\n      <td>0.000</td>\n      <td>intersection</td>\n      <td>group 20</td>\n      <td>sourcesink</td>\n    </tr>\n    <tr>\n      <th>...</th>\n      <td>...</td>\n      <td>...</td>\n      <td>...</td>\n      <td>...</td>\n      <td>...</td>\n      <td>...</td>\n      <td>...</td>\n      <td>...</td>\n      <td>...</td>\n      <td>...</td>\n      <td>...</td>\n      <td>...</td>\n      <td>...</td>\n      <td>...</td>\n      <td>...</td>\n      <td>...</td>\n      <td>...</td>\n      <td>...</td>\n      <td>...</td>\n      <td>...</td>\n    </tr>\n    <tr>\n      <th>109</th>\n      <td>49</td>\n      <td>Z1402</td>\n      <td>43.849</td>\n      <td>LRPE</td>\n      <td>23.530749</td>\n      <td>90.781610</td>\n      <td>NaN</td>\n      <td>Others</td>\n      <td>Meet with N1 at Pennai</td>\n      <td>NaN</td>\n      <td>NaN</td>\n      <td>NaN</td>\n      <td>NaN</td>\n      <td>NaN</td>\n      <td>NaN</td>\n      <td>NaN</td>\n      <td>NaN</td>\n      <td>NaN</td>\n      <td>group 17</td>\n      <td>sourcesink</td>\n    </tr>\n    <tr>\n      <th>110</th>\n      <td>87</td>\n      <td>Z1402</td>\n      <td>45.322</td>\n      <td>LRPE</td>\n      <td>23.530749</td>\n      <td>90.781610</td>\n      <td>NaN</td>\n      <td>Others</td>\n      <td>Meet with N1 at Pennai</td>\n      <td>N1</td>\n      <td>0.000000</td>\n      <td>23.530749</td>\n      <td>90.781610</td>\n      <td>LRP046a</td>\n      <td>NaN</td>\n      <td>NaN</td>\n      <td>43.849</td>\n      <td>NaN</td>\n      <td>NaN</td>\n      <td>intersection</td>\n    </tr>\n    <tr>\n      <th>111</th>\n      <td>50</td>\n      <td>Z2013</td>\n      <td>0.000</td>\n      <td>LRPS</td>\n      <td>24.867305</td>\n      <td>91.856806</td>\n      <td>NaN</td>\n      <td>Others</td>\n      <td>Road Start From N2 at Chandipool Sylhet</td>\n      <td>NaN</td>\n      <td>NaN</td>\n      <td>NaN</td>\n      <td>NaN</td>\n      <td>NaN</td>\n      <td>NaN</td>\n      <td>NaN</td>\n      <td>NaN</td>\n      <td>NaN</td>\n      <td>group 17</td>\n      <td>intersourcesink</td>\n    </tr>\n    <tr>\n      <th>112</th>\n      <td>51</td>\n      <td>Z2013</td>\n      <td>25.045</td>\n      <td>LRPE</td>\n      <td>24.657222</td>\n      <td>91.828222</td>\n      <td>NaN</td>\n      <td>Others</td>\n      <td>Road End With Borobaga River.</td>\n      <td>NaN</td>\n      <td>NaN</td>\n      <td>NaN</td>\n      <td>NaN</td>\n      <td>NaN</td>\n      <td>NaN</td>\n      <td>NaN</td>\n      <td>NaN</td>\n      <td>NaN</td>\n      <td>group 18</td>\n      <td>sourcesink</td>\n    </tr>\n    <tr>\n      <th>113</th>\n      <td>110</td>\n      <td>Z2013</td>\n      <td>225.373</td>\n      <td>LRPS</td>\n      <td>24.867305</td>\n      <td>91.856806</td>\n      <td>NaN</td>\n      <td>Others</td>\n      <td>Road Start From N2 at Chandipool Sylhet</td>\n      <td>N2</td>\n      <td>0.000000</td>\n      <td>24.867305</td>\n      <td>91.856806</td>\n      <td>LRP225b</td>\n      <td>NaN</td>\n      <td>NaN</td>\n      <td>0.000</td>\n      <td>NaN</td>\n      <td>NaN</td>\n      <td>intersection</td>\n    </tr>\n  </tbody>\n</table>\n<p>114 rows × 20 columns</p>\n</div>"
     },
     "execution_count": 55,
     "metadata": {},
     "output_type": "execute_result"
    }
   ],
   "source": [
    "documented_intersections_start_end"
   ],
   "metadata": {
    "collapsed": false,
    "ExecuteTime": {
     "end_time": "2024-04-03T12:38:48.336911300Z",
     "start_time": "2024-04-03T12:38:47.741993800Z"
    }
   },
   "id": "afa3bdb72bbf8c38"
  },
  {
   "cell_type": "code",
   "execution_count": 56,
   "outputs": [
    {
     "data": {
      "text/plain": "          model_type road_to   road\n0         sourcesink     NaN     N1\n1         sourcesink      N2     N1\n2    intersourcesink   Z1402     N1\n3         sourcesink   Z1044     N1\n4         sourcesink   Z1042     N1\n..               ...     ...    ...\n109       sourcesink     NaN  Z1402\n110     intersection      N1  Z1402\n111  intersourcesink     NaN  Z2013\n112       sourcesink     NaN  Z2013\n113     intersection      N2  Z2013\n\n[114 rows x 3 columns]",
      "text/html": "<div>\n<style scoped>\n    .dataframe tbody tr th:only-of-type {\n        vertical-align: middle;\n    }\n\n    .dataframe tbody tr th {\n        vertical-align: top;\n    }\n\n    .dataframe thead th {\n        text-align: right;\n    }\n</style>\n<table border=\"1\" class=\"dataframe\">\n  <thead>\n    <tr style=\"text-align: right;\">\n      <th></th>\n      <th>model_type</th>\n      <th>road_to</th>\n      <th>road</th>\n    </tr>\n  </thead>\n  <tbody>\n    <tr>\n      <th>0</th>\n      <td>sourcesink</td>\n      <td>NaN</td>\n      <td>N1</td>\n    </tr>\n    <tr>\n      <th>1</th>\n      <td>sourcesink</td>\n      <td>N2</td>\n      <td>N1</td>\n    </tr>\n    <tr>\n      <th>2</th>\n      <td>intersourcesink</td>\n      <td>Z1402</td>\n      <td>N1</td>\n    </tr>\n    <tr>\n      <th>3</th>\n      <td>sourcesink</td>\n      <td>Z1044</td>\n      <td>N1</td>\n    </tr>\n    <tr>\n      <th>4</th>\n      <td>sourcesink</td>\n      <td>Z1042</td>\n      <td>N1</td>\n    </tr>\n    <tr>\n      <th>...</th>\n      <td>...</td>\n      <td>...</td>\n      <td>...</td>\n    </tr>\n    <tr>\n      <th>109</th>\n      <td>sourcesink</td>\n      <td>NaN</td>\n      <td>Z1402</td>\n    </tr>\n    <tr>\n      <th>110</th>\n      <td>intersection</td>\n      <td>N1</td>\n      <td>Z1402</td>\n    </tr>\n    <tr>\n      <th>111</th>\n      <td>intersourcesink</td>\n      <td>NaN</td>\n      <td>Z2013</td>\n    </tr>\n    <tr>\n      <th>112</th>\n      <td>sourcesink</td>\n      <td>NaN</td>\n      <td>Z2013</td>\n    </tr>\n    <tr>\n      <th>113</th>\n      <td>intersection</td>\n      <td>N2</td>\n      <td>Z2013</td>\n    </tr>\n  </tbody>\n</table>\n<p>114 rows × 3 columns</p>\n</div>"
     },
     "execution_count": 56,
     "metadata": {},
     "output_type": "execute_result"
    }
   ],
   "source": [
    "documented_intersections_start_end[['model_type','road_to','road']]"
   ],
   "metadata": {
    "collapsed": false,
    "ExecuteTime": {
     "end_time": "2024-04-03T12:38:48.336911300Z",
     "start_time": "2024-04-03T12:38:47.777014900Z"
    }
   },
   "id": "dc84a50c1685d647"
  },
  {
   "cell_type": "code",
   "execution_count": 57,
   "outputs": [
    {
     "data": {
      "text/plain": "model_type\nintersection       48\nsourcesink         44\nintersourcesink    22\nName: count, dtype: int64"
     },
     "execution_count": 57,
     "metadata": {},
     "output_type": "execute_result"
    }
   ],
   "source": [
    "documented_intersections_start_end.model_type.value_counts()"
   ],
   "metadata": {
    "collapsed": false,
    "ExecuteTime": {
     "end_time": "2024-04-03T12:38:48.336911300Z",
     "start_time": "2024-04-03T12:38:47.809953300Z"
    }
   },
   "id": "2cfd01d0732d3d1a"
  },
  {
   "cell_type": "code",
   "execution_count": 58,
   "outputs": [
    {
     "data": {
      "text/plain": "model_type\nintersection       48\nsourcesink         44\nintersourcesink    22\nName: count, dtype: int64"
     },
     "execution_count": 58,
     "metadata": {},
     "output_type": "execute_result"
    }
   ],
   "source": [
    "documented_intersections_start_end.model_type.value_counts()"
   ],
   "metadata": {
    "collapsed": false,
    "ExecuteTime": {
     "end_time": "2024-04-03T12:38:48.336911300Z",
     "start_time": "2024-04-03T12:38:47.825232600Z"
    }
   },
   "id": "c94b4dc4f12d1d14"
  },
  {
   "cell_type": "code",
   "execution_count": 59,
   "outputs": [
    {
     "data": {
      "text/plain": "      Unnamed: 0.1  road      km               type  LRPName  \\\n0                0  R250   8.107        Box Culvert  LRP008a   \n1                1  R250  12.648        Box Culvert  LRP013a   \n2                2  R250  15.317        Box Culvert  LRP015b   \n3                3  R250  14.563        Box Culvert  LRP015a   \n4                4  R250  14.032        Box Culvert  LRP014a   \n...            ...   ...     ...                ...      ...   \n2380          2380  N204  29.610        Box Culvert  LRP035c   \n2381          2381  N204  31.801        Box Culvert  LRP038a   \n2382          2382  N204  32.210  RCC Girder Bridge  LRP038b   \n2383          2383  N204  33.550        Box Culvert  LRP040a   \n2384          2384  N204  34.300       Slab Culvert  LRP041a   \n\n                               name  length condition  structureNr  \\\n0             HELAL PUR BOX CULVERT    4.50         A       100489   \n1                 SUKNA BOX CULVERT    3.00         A       100487   \n2               FULBARI BOX CULVERT    3.00         A       100491   \n3               FULBARI BOX CULVERT    3.00         A       100490   \n4              BOYTIKOL BOX CULVERT    3.00         A       100488   \n...                             ...     ...       ...          ...   \n2380                        CRIKOTA    1.55         A       104081   \n2381                       DURGAPUR    1.50         A       104084   \n2382      DORGAPUR RCC GIDER BRIDGE   17.80         C       104082   \n2383  NEAR SHAIS TAGAMJ BOX CULVERT    4.50         A       104077   \n2384           UBAHATA SLAB CULVERT    4.30         A       104085   \n\n                                            roadName  ...    zone  \\\n0            Sylhet-Golapganj-Charkhai-Jakiganj Road  ...  Sylhet   \n1            Sylhet-Golapganj-Charkhai-Jakiganj Road  ...  Sylhet   \n2            Sylhet-Golapganj-Charkhai-Jakiganj Road  ...  Sylhet   \n3            Sylhet-Golapganj-Charkhai-Jakiganj Road  ...  Sylhet   \n4            Sylhet-Golapganj-Charkhai-Jakiganj Road  ...  Sylhet   \n...                                              ...  ...     ...   \n2380  Jagadishpur-Chunarughat-Shaistaganj (old part)  ...  Sylhet   \n2381  Jagadishpur-Chunarughat-Shaistaganj (old part)  ...  Sylhet   \n2382  Jagadishpur-Chunarughat-Shaistaganj (old part)  ...  Sylhet   \n2383  Jagadishpur-Chunarughat-Shaistaganj (old part)  ...  Sylhet   \n2384  Jagadishpur-Chunarughat-Shaistaganj (old part)  ...  Sylhet   \n\n             circle  division  sub-division        lat        lon  \\\n0            Sylhet    Sylhet     Golapganj  24.852237  91.934565   \n1            Sylhet    Sylhet     Golapganj  24.853910  91.976418   \n2            Sylhet    Sylhet     Golapganj  24.854289  92.001478   \n3            Sylhet    Sylhet     Golapganj  24.856098  91.994234   \n4            Sylhet    Sylhet     Golapganj  24.857246  91.989462   \n...             ...       ...           ...        ...        ...   \n2380  Moulavi Bazar  Habiganj   Shaistagonj  24.232763  91.504116   \n2381  Moulavi Bazar  Habiganj   Shaistagonj  24.249896  91.493845   \n2382  Moulavi Bazar  Habiganj   Shaistagonj  24.252372  91.491274   \n2383  Moulavi Bazar  Habiganj   Shaistagonj  24.261595  91.482321   \n2384  Moulavi Bazar  Habiganj   Shaistagonj  24.266583  91.476944   \n\n     EstimatedLoc lanes  vul_cat  model_type  \n0     interpolate   2.0      2.0      bridge  \n1     interpolate   2.0      2.0      bridge  \n2     interpolate   2.0      2.0      bridge  \n3     interpolate   2.0      2.0      bridge  \n4     interpolate   2.0      2.0      bridge  \n...           ...   ...      ...         ...  \n2380  interpolate   2.0      2.0      bridge  \n2381  interpolate   2.0      2.0      bridge  \n2382  interpolate   2.0      2.0      bridge  \n2383  interpolate   2.0      2.0      bridge  \n2384         bcs1   2.0      2.0      bridge  \n\n[2385 rows x 24 columns]",
      "text/html": "<div>\n<style scoped>\n    .dataframe tbody tr th:only-of-type {\n        vertical-align: middle;\n    }\n\n    .dataframe tbody tr th {\n        vertical-align: top;\n    }\n\n    .dataframe thead th {\n        text-align: right;\n    }\n</style>\n<table border=\"1\" class=\"dataframe\">\n  <thead>\n    <tr style=\"text-align: right;\">\n      <th></th>\n      <th>Unnamed: 0.1</th>\n      <th>road</th>\n      <th>km</th>\n      <th>type</th>\n      <th>LRPName</th>\n      <th>name</th>\n      <th>length</th>\n      <th>condition</th>\n      <th>structureNr</th>\n      <th>roadName</th>\n      <th>...</th>\n      <th>zone</th>\n      <th>circle</th>\n      <th>division</th>\n      <th>sub-division</th>\n      <th>lat</th>\n      <th>lon</th>\n      <th>EstimatedLoc</th>\n      <th>lanes</th>\n      <th>vul_cat</th>\n      <th>model_type</th>\n    </tr>\n  </thead>\n  <tbody>\n    <tr>\n      <th>0</th>\n      <td>0</td>\n      <td>R250</td>\n      <td>8.107</td>\n      <td>Box Culvert</td>\n      <td>LRP008a</td>\n      <td>HELAL PUR BOX CULVERT</td>\n      <td>4.50</td>\n      <td>A</td>\n      <td>100489</td>\n      <td>Sylhet-Golapganj-Charkhai-Jakiganj Road</td>\n      <td>...</td>\n      <td>Sylhet</td>\n      <td>Sylhet</td>\n      <td>Sylhet</td>\n      <td>Golapganj</td>\n      <td>24.852237</td>\n      <td>91.934565</td>\n      <td>interpolate</td>\n      <td>2.0</td>\n      <td>2.0</td>\n      <td>bridge</td>\n    </tr>\n    <tr>\n      <th>1</th>\n      <td>1</td>\n      <td>R250</td>\n      <td>12.648</td>\n      <td>Box Culvert</td>\n      <td>LRP013a</td>\n      <td>SUKNA BOX CULVERT</td>\n      <td>3.00</td>\n      <td>A</td>\n      <td>100487</td>\n      <td>Sylhet-Golapganj-Charkhai-Jakiganj Road</td>\n      <td>...</td>\n      <td>Sylhet</td>\n      <td>Sylhet</td>\n      <td>Sylhet</td>\n      <td>Golapganj</td>\n      <td>24.853910</td>\n      <td>91.976418</td>\n      <td>interpolate</td>\n      <td>2.0</td>\n      <td>2.0</td>\n      <td>bridge</td>\n    </tr>\n    <tr>\n      <th>2</th>\n      <td>2</td>\n      <td>R250</td>\n      <td>15.317</td>\n      <td>Box Culvert</td>\n      <td>LRP015b</td>\n      <td>FULBARI BOX CULVERT</td>\n      <td>3.00</td>\n      <td>A</td>\n      <td>100491</td>\n      <td>Sylhet-Golapganj-Charkhai-Jakiganj Road</td>\n      <td>...</td>\n      <td>Sylhet</td>\n      <td>Sylhet</td>\n      <td>Sylhet</td>\n      <td>Golapganj</td>\n      <td>24.854289</td>\n      <td>92.001478</td>\n      <td>interpolate</td>\n      <td>2.0</td>\n      <td>2.0</td>\n      <td>bridge</td>\n    </tr>\n    <tr>\n      <th>3</th>\n      <td>3</td>\n      <td>R250</td>\n      <td>14.563</td>\n      <td>Box Culvert</td>\n      <td>LRP015a</td>\n      <td>FULBARI BOX CULVERT</td>\n      <td>3.00</td>\n      <td>A</td>\n      <td>100490</td>\n      <td>Sylhet-Golapganj-Charkhai-Jakiganj Road</td>\n      <td>...</td>\n      <td>Sylhet</td>\n      <td>Sylhet</td>\n      <td>Sylhet</td>\n      <td>Golapganj</td>\n      <td>24.856098</td>\n      <td>91.994234</td>\n      <td>interpolate</td>\n      <td>2.0</td>\n      <td>2.0</td>\n      <td>bridge</td>\n    </tr>\n    <tr>\n      <th>4</th>\n      <td>4</td>\n      <td>R250</td>\n      <td>14.032</td>\n      <td>Box Culvert</td>\n      <td>LRP014a</td>\n      <td>BOYTIKOL BOX CULVERT</td>\n      <td>3.00</td>\n      <td>A</td>\n      <td>100488</td>\n      <td>Sylhet-Golapganj-Charkhai-Jakiganj Road</td>\n      <td>...</td>\n      <td>Sylhet</td>\n      <td>Sylhet</td>\n      <td>Sylhet</td>\n      <td>Golapganj</td>\n      <td>24.857246</td>\n      <td>91.989462</td>\n      <td>interpolate</td>\n      <td>2.0</td>\n      <td>2.0</td>\n      <td>bridge</td>\n    </tr>\n    <tr>\n      <th>...</th>\n      <td>...</td>\n      <td>...</td>\n      <td>...</td>\n      <td>...</td>\n      <td>...</td>\n      <td>...</td>\n      <td>...</td>\n      <td>...</td>\n      <td>...</td>\n      <td>...</td>\n      <td>...</td>\n      <td>...</td>\n      <td>...</td>\n      <td>...</td>\n      <td>...</td>\n      <td>...</td>\n      <td>...</td>\n      <td>...</td>\n      <td>...</td>\n      <td>...</td>\n      <td>...</td>\n    </tr>\n    <tr>\n      <th>2380</th>\n      <td>2380</td>\n      <td>N204</td>\n      <td>29.610</td>\n      <td>Box Culvert</td>\n      <td>LRP035c</td>\n      <td>CRIKOTA</td>\n      <td>1.55</td>\n      <td>A</td>\n      <td>104081</td>\n      <td>Jagadishpur-Chunarughat-Shaistaganj (old part)</td>\n      <td>...</td>\n      <td>Sylhet</td>\n      <td>Moulavi Bazar</td>\n      <td>Habiganj</td>\n      <td>Shaistagonj</td>\n      <td>24.232763</td>\n      <td>91.504116</td>\n      <td>interpolate</td>\n      <td>2.0</td>\n      <td>2.0</td>\n      <td>bridge</td>\n    </tr>\n    <tr>\n      <th>2381</th>\n      <td>2381</td>\n      <td>N204</td>\n      <td>31.801</td>\n      <td>Box Culvert</td>\n      <td>LRP038a</td>\n      <td>DURGAPUR</td>\n      <td>1.50</td>\n      <td>A</td>\n      <td>104084</td>\n      <td>Jagadishpur-Chunarughat-Shaistaganj (old part)</td>\n      <td>...</td>\n      <td>Sylhet</td>\n      <td>Moulavi Bazar</td>\n      <td>Habiganj</td>\n      <td>Shaistagonj</td>\n      <td>24.249896</td>\n      <td>91.493845</td>\n      <td>interpolate</td>\n      <td>2.0</td>\n      <td>2.0</td>\n      <td>bridge</td>\n    </tr>\n    <tr>\n      <th>2382</th>\n      <td>2382</td>\n      <td>N204</td>\n      <td>32.210</td>\n      <td>RCC Girder Bridge</td>\n      <td>LRP038b</td>\n      <td>DORGAPUR RCC GIDER BRIDGE</td>\n      <td>17.80</td>\n      <td>C</td>\n      <td>104082</td>\n      <td>Jagadishpur-Chunarughat-Shaistaganj (old part)</td>\n      <td>...</td>\n      <td>Sylhet</td>\n      <td>Moulavi Bazar</td>\n      <td>Habiganj</td>\n      <td>Shaistagonj</td>\n      <td>24.252372</td>\n      <td>91.491274</td>\n      <td>interpolate</td>\n      <td>2.0</td>\n      <td>2.0</td>\n      <td>bridge</td>\n    </tr>\n    <tr>\n      <th>2383</th>\n      <td>2383</td>\n      <td>N204</td>\n      <td>33.550</td>\n      <td>Box Culvert</td>\n      <td>LRP040a</td>\n      <td>NEAR SHAIS TAGAMJ BOX CULVERT</td>\n      <td>4.50</td>\n      <td>A</td>\n      <td>104077</td>\n      <td>Jagadishpur-Chunarughat-Shaistaganj (old part)</td>\n      <td>...</td>\n      <td>Sylhet</td>\n      <td>Moulavi Bazar</td>\n      <td>Habiganj</td>\n      <td>Shaistagonj</td>\n      <td>24.261595</td>\n      <td>91.482321</td>\n      <td>interpolate</td>\n      <td>2.0</td>\n      <td>2.0</td>\n      <td>bridge</td>\n    </tr>\n    <tr>\n      <th>2384</th>\n      <td>2384</td>\n      <td>N204</td>\n      <td>34.300</td>\n      <td>Slab Culvert</td>\n      <td>LRP041a</td>\n      <td>UBAHATA SLAB CULVERT</td>\n      <td>4.30</td>\n      <td>A</td>\n      <td>104085</td>\n      <td>Jagadishpur-Chunarughat-Shaistaganj (old part)</td>\n      <td>...</td>\n      <td>Sylhet</td>\n      <td>Moulavi Bazar</td>\n      <td>Habiganj</td>\n      <td>Shaistagonj</td>\n      <td>24.266583</td>\n      <td>91.476944</td>\n      <td>bcs1</td>\n      <td>2.0</td>\n      <td>2.0</td>\n      <td>bridge</td>\n    </tr>\n  </tbody>\n</table>\n<p>2385 rows × 24 columns</p>\n</div>"
     },
     "execution_count": 59,
     "metadata": {},
     "output_type": "execute_result"
    }
   ],
   "source": [
    "bridges = pd.read_csv('../data/semi-processed/bridges_vul_index.csv')\n",
    "bridges['model_type']='bridge'\n",
    "bridges.drop(columns=['Unnamed: 0'], inplace=True)\n",
    "# This is to filter out the cleaning we did at the distance to closest< threshold which was not done with the list used for the bridges\n",
    "bridges = bridges[bridges['road'].isin(roads_in_simulation)]\n",
    "bridges"
   ],
   "metadata": {
    "collapsed": false,
    "ExecuteTime": {
     "end_time": "2024-04-03T12:38:48.344911200Z",
     "start_time": "2024-04-03T12:38:47.838434900Z"
    }
   },
   "id": "794c829ae5c7c007"
  },
  {
   "cell_type": "code",
   "execution_count": 60,
   "outputs": [
    {
     "data": {
      "text/plain": "      Unnamed: 0.1   road      km              type  LRPName  \\\n2385           NaN     N1     NaN            Others     LRPS   \n2000        2000.0     N1   1.800       Box Culvert  LRP001a   \n1998        1998.0     N1   4.925       Box Culvert  LRP004b   \n2386           NaN     N1     NaN     sideroad,left  LRP009a   \n2001        2001.0     N1   8.976  PC Girder Bridge  LRP008b   \n...            ...    ...     ...               ...      ...   \n2080        2080.0  Z2013  18.148       Box Culvert  LRP018a   \n2079        2079.0  Z2013  18.732       Box Culvert  LRP018b   \n2078        2078.0  Z2013  18.995       Box Culvert  LRP018c   \n2497           NaN  Z2013     NaN            Others     LRPE   \n2498           NaN  Z2013     NaN            Others     LRPS   \n\n                                                   name  length condition  \\\n2385  Start of Road  after Jatrabari Flyover infront...     NaN       NaN   \n2000                                                  .    11.3         A   \n1998                                                  .     6.6         A   \n2386                                Road to Sylhet (N2)     NaN       NaN   \n2001                          KANCHPUR PC GIRDER BRIDGE   397.0         C   \n...                                                 ...     ...       ...   \n2080                                           AZIZADUR     6.0         A   \n2079                                    LONGIRA CULVERT     3.0         A   \n2078                                    LONGIRA CULVERT     6.0         A   \n2497                      Road End With Borobaga River.     NaN       NaN   \n2498            Road Start From N2 at Chandipool Sylhet     NaN       NaN   \n\n      structureNr                                           roadName  ...  \\\n2385          NaN                                                NaN  ...   \n2000     117861.0  Dhaka (Jatrabari)-Comilla (Mainamati)-Chittago...  ...   \n1998     117862.0  Dhaka (Jatrabari)-Comilla (Mainamati)-Chittago...  ...   \n2386          NaN                                                NaN  ...   \n2001     101102.0  Dhaka (Jatrabari)-Comilla (Mainamati)-Chittago...  ...   \n...           ...                                                ...  ...   \n2080     105443.0          Sylhet (Telikhal)-Sultanpur-Balaganj Road  ...   \n2079     105445.0          Sylhet (Telikhal)-Sultanpur-Balaganj Road  ...   \n2078     105447.0          Sylhet (Telikhal)-Sultanpur-Balaganj Road  ...   \n2497          NaN                                                NaN  ...   \n2498          NaN                                                NaN  ...   \n\n      road_to  distance_to_closest  closest_lat  closest_lon closest_lrp  \\\n2385      NaN                  NaN          NaN          NaN         NaN   \n2000      NaN                  NaN          NaN          NaN         NaN   \n1998      NaN                  NaN          NaN          NaN         NaN   \n2386       N2             20.37416    23.705917    90.521444        LRPS   \n2001      NaN                  NaN          NaN          NaN         NaN   \n...       ...                  ...          ...          ...         ...   \n2080      NaN                  NaN          NaN          NaN         NaN   \n2079      NaN                  NaN          NaN          NaN         NaN   \n2078      NaN                  NaN          NaN          NaN         NaN   \n2497      NaN                  NaN          NaN          NaN         NaN   \n2498       N2              0.00000    24.867305    91.856806     LRP225b   \n\n                        closest_name closest_type closest_chainage  \\\n2385                             NaN          NaN              NaN   \n2000                             NaN          NaN              NaN   \n1998                             NaN          NaN              NaN   \n2386  Road Start from N1 at Katchpur       Others              0.0   \n2001                             NaN          NaN              NaN   \n...                              ...          ...              ...   \n2080                             NaN          NaN              NaN   \n2079                             NaN          NaN              NaN   \n2078                             NaN          NaN              NaN   \n2497                             NaN          NaN              NaN   \n2498                             NaN          NaN              0.0   \n\n      intersection     trios  \n2385           NaN   group 1  \n2000           NaN       NaN  \n1998           NaN       NaN  \n2386  intersection  group 19  \n2001           NaN       NaN  \n...            ...       ...  \n2080           NaN       NaN  \n2079           NaN       NaN  \n2078           NaN       NaN  \n2497           NaN  group 18  \n2498           NaN       NaN  \n\n[2499 rows x 36 columns]",
      "text/html": "<div>\n<style scoped>\n    .dataframe tbody tr th:only-of-type {\n        vertical-align: middle;\n    }\n\n    .dataframe tbody tr th {\n        vertical-align: top;\n    }\n\n    .dataframe thead th {\n        text-align: right;\n    }\n</style>\n<table border=\"1\" class=\"dataframe\">\n  <thead>\n    <tr style=\"text-align: right;\">\n      <th></th>\n      <th>Unnamed: 0.1</th>\n      <th>road</th>\n      <th>km</th>\n      <th>type</th>\n      <th>LRPName</th>\n      <th>name</th>\n      <th>length</th>\n      <th>condition</th>\n      <th>structureNr</th>\n      <th>roadName</th>\n      <th>...</th>\n      <th>road_to</th>\n      <th>distance_to_closest</th>\n      <th>closest_lat</th>\n      <th>closest_lon</th>\n      <th>closest_lrp</th>\n      <th>closest_name</th>\n      <th>closest_type</th>\n      <th>closest_chainage</th>\n      <th>intersection</th>\n      <th>trios</th>\n    </tr>\n  </thead>\n  <tbody>\n    <tr>\n      <th>2385</th>\n      <td>NaN</td>\n      <td>N1</td>\n      <td>NaN</td>\n      <td>Others</td>\n      <td>LRPS</td>\n      <td>Start of Road  after Jatrabari Flyover infront...</td>\n      <td>NaN</td>\n      <td>NaN</td>\n      <td>NaN</td>\n      <td>NaN</td>\n      <td>...</td>\n      <td>NaN</td>\n      <td>NaN</td>\n      <td>NaN</td>\n      <td>NaN</td>\n      <td>NaN</td>\n      <td>NaN</td>\n      <td>NaN</td>\n      <td>NaN</td>\n      <td>NaN</td>\n      <td>group 1</td>\n    </tr>\n    <tr>\n      <th>2000</th>\n      <td>2000.0</td>\n      <td>N1</td>\n      <td>1.800</td>\n      <td>Box Culvert</td>\n      <td>LRP001a</td>\n      <td>.</td>\n      <td>11.3</td>\n      <td>A</td>\n      <td>117861.0</td>\n      <td>Dhaka (Jatrabari)-Comilla (Mainamati)-Chittago...</td>\n      <td>...</td>\n      <td>NaN</td>\n      <td>NaN</td>\n      <td>NaN</td>\n      <td>NaN</td>\n      <td>NaN</td>\n      <td>NaN</td>\n      <td>NaN</td>\n      <td>NaN</td>\n      <td>NaN</td>\n      <td>NaN</td>\n    </tr>\n    <tr>\n      <th>1998</th>\n      <td>1998.0</td>\n      <td>N1</td>\n      <td>4.925</td>\n      <td>Box Culvert</td>\n      <td>LRP004b</td>\n      <td>.</td>\n      <td>6.6</td>\n      <td>A</td>\n      <td>117862.0</td>\n      <td>Dhaka (Jatrabari)-Comilla (Mainamati)-Chittago...</td>\n      <td>...</td>\n      <td>NaN</td>\n      <td>NaN</td>\n      <td>NaN</td>\n      <td>NaN</td>\n      <td>NaN</td>\n      <td>NaN</td>\n      <td>NaN</td>\n      <td>NaN</td>\n      <td>NaN</td>\n      <td>NaN</td>\n    </tr>\n    <tr>\n      <th>2386</th>\n      <td>NaN</td>\n      <td>N1</td>\n      <td>NaN</td>\n      <td>sideroad,left</td>\n      <td>LRP009a</td>\n      <td>Road to Sylhet (N2)</td>\n      <td>NaN</td>\n      <td>NaN</td>\n      <td>NaN</td>\n      <td>NaN</td>\n      <td>...</td>\n      <td>N2</td>\n      <td>20.37416</td>\n      <td>23.705917</td>\n      <td>90.521444</td>\n      <td>LRPS</td>\n      <td>Road Start from N1 at Katchpur</td>\n      <td>Others</td>\n      <td>0.0</td>\n      <td>intersection</td>\n      <td>group 19</td>\n    </tr>\n    <tr>\n      <th>2001</th>\n      <td>2001.0</td>\n      <td>N1</td>\n      <td>8.976</td>\n      <td>PC Girder Bridge</td>\n      <td>LRP008b</td>\n      <td>KANCHPUR PC GIRDER BRIDGE</td>\n      <td>397.0</td>\n      <td>C</td>\n      <td>101102.0</td>\n      <td>Dhaka (Jatrabari)-Comilla (Mainamati)-Chittago...</td>\n      <td>...</td>\n      <td>NaN</td>\n      <td>NaN</td>\n      <td>NaN</td>\n      <td>NaN</td>\n      <td>NaN</td>\n      <td>NaN</td>\n      <td>NaN</td>\n      <td>NaN</td>\n      <td>NaN</td>\n      <td>NaN</td>\n    </tr>\n    <tr>\n      <th>...</th>\n      <td>...</td>\n      <td>...</td>\n      <td>...</td>\n      <td>...</td>\n      <td>...</td>\n      <td>...</td>\n      <td>...</td>\n      <td>...</td>\n      <td>...</td>\n      <td>...</td>\n      <td>...</td>\n      <td>...</td>\n      <td>...</td>\n      <td>...</td>\n      <td>...</td>\n      <td>...</td>\n      <td>...</td>\n      <td>...</td>\n      <td>...</td>\n      <td>...</td>\n      <td>...</td>\n    </tr>\n    <tr>\n      <th>2080</th>\n      <td>2080.0</td>\n      <td>Z2013</td>\n      <td>18.148</td>\n      <td>Box Culvert</td>\n      <td>LRP018a</td>\n      <td>AZIZADUR</td>\n      <td>6.0</td>\n      <td>A</td>\n      <td>105443.0</td>\n      <td>Sylhet (Telikhal)-Sultanpur-Balaganj Road</td>\n      <td>...</td>\n      <td>NaN</td>\n      <td>NaN</td>\n      <td>NaN</td>\n      <td>NaN</td>\n      <td>NaN</td>\n      <td>NaN</td>\n      <td>NaN</td>\n      <td>NaN</td>\n      <td>NaN</td>\n      <td>NaN</td>\n    </tr>\n    <tr>\n      <th>2079</th>\n      <td>2079.0</td>\n      <td>Z2013</td>\n      <td>18.732</td>\n      <td>Box Culvert</td>\n      <td>LRP018b</td>\n      <td>LONGIRA CULVERT</td>\n      <td>3.0</td>\n      <td>A</td>\n      <td>105445.0</td>\n      <td>Sylhet (Telikhal)-Sultanpur-Balaganj Road</td>\n      <td>...</td>\n      <td>NaN</td>\n      <td>NaN</td>\n      <td>NaN</td>\n      <td>NaN</td>\n      <td>NaN</td>\n      <td>NaN</td>\n      <td>NaN</td>\n      <td>NaN</td>\n      <td>NaN</td>\n      <td>NaN</td>\n    </tr>\n    <tr>\n      <th>2078</th>\n      <td>2078.0</td>\n      <td>Z2013</td>\n      <td>18.995</td>\n      <td>Box Culvert</td>\n      <td>LRP018c</td>\n      <td>LONGIRA CULVERT</td>\n      <td>6.0</td>\n      <td>A</td>\n      <td>105447.0</td>\n      <td>Sylhet (Telikhal)-Sultanpur-Balaganj Road</td>\n      <td>...</td>\n      <td>NaN</td>\n      <td>NaN</td>\n      <td>NaN</td>\n      <td>NaN</td>\n      <td>NaN</td>\n      <td>NaN</td>\n      <td>NaN</td>\n      <td>NaN</td>\n      <td>NaN</td>\n      <td>NaN</td>\n    </tr>\n    <tr>\n      <th>2497</th>\n      <td>NaN</td>\n      <td>Z2013</td>\n      <td>NaN</td>\n      <td>Others</td>\n      <td>LRPE</td>\n      <td>Road End With Borobaga River.</td>\n      <td>NaN</td>\n      <td>NaN</td>\n      <td>NaN</td>\n      <td>NaN</td>\n      <td>...</td>\n      <td>NaN</td>\n      <td>NaN</td>\n      <td>NaN</td>\n      <td>NaN</td>\n      <td>NaN</td>\n      <td>NaN</td>\n      <td>NaN</td>\n      <td>NaN</td>\n      <td>NaN</td>\n      <td>group 18</td>\n    </tr>\n    <tr>\n      <th>2498</th>\n      <td>NaN</td>\n      <td>Z2013</td>\n      <td>NaN</td>\n      <td>Others</td>\n      <td>LRPS</td>\n      <td>Road Start From N2 at Chandipool Sylhet</td>\n      <td>NaN</td>\n      <td>NaN</td>\n      <td>NaN</td>\n      <td>NaN</td>\n      <td>...</td>\n      <td>N2</td>\n      <td>0.00000</td>\n      <td>24.867305</td>\n      <td>91.856806</td>\n      <td>LRP225b</td>\n      <td>NaN</td>\n      <td>NaN</td>\n      <td>0.0</td>\n      <td>NaN</td>\n      <td>NaN</td>\n    </tr>\n  </tbody>\n</table>\n<p>2499 rows × 36 columns</p>\n</div>"
     },
     "execution_count": 60,
     "metadata": {},
     "output_type": "execute_result"
    }
   ],
   "source": [
    "data_points = pd.concat([bridges, documented_intersections_start_end], ignore_index=True)\n",
    "data_points.sort_values(by=['road','chainage'], inplace=True)\n",
    "data_points"
   ],
   "metadata": {
    "collapsed": false,
    "ExecuteTime": {
     "end_time": "2024-04-03T12:38:48.368911300Z",
     "start_time": "2024-04-03T12:38:47.908732100Z"
    }
   },
   "id": "8a6605f387f6c85"
  },
  {
   "cell_type": "markdown",
   "source": [
    "## Now, lets add the inbetween links and calculate the length of the links"
   ],
   "metadata": {
    "collapsed": false
   },
   "id": "a6d18641ba94f2a3"
  },
  {
   "cell_type": "code",
   "execution_count": 61,
   "outputs": [
    {
     "data": {
      "text/plain": "     Unnamed: 0.1   road      km         type  LRPName  \\\n0             NaN     N1     NaN       Others     LRPS   \n1             NaN    NaN     NaN          NaN      NaN   \n2          2000.0     N1     1.8  Box Culvert  LRP001a   \n3             NaN    NaN     NaN          NaN      NaN   \n4          1998.0     N1   4.925  Box Culvert  LRP004b   \n...           ...    ...     ...          ...      ...   \n4992       2078.0  Z2013  18.995  Box Culvert  LRP018c   \n4993          NaN    NaN     NaN          NaN      NaN   \n4994          NaN  Z2013     NaN       Others     LRPE   \n4995          NaN    NaN     NaN          NaN      NaN   \n4996          NaN  Z2013     NaN       Others     LRPS   \n\n                                                   name length condition  \\\n0     Start of Road  after Jatrabari Flyover infront...    NaN       NaN   \n1                                                   NaN    NaN       NaN   \n2                                                     .   11.3         A   \n3                                                   NaN    NaN       NaN   \n4                                                     .    6.6         A   \n...                                                 ...    ...       ...   \n4992                                    LONGIRA CULVERT    6.0         A   \n4993                                                NaN    NaN       NaN   \n4994                      Road End With Borobaga River.    NaN       NaN   \n4995                                                NaN    NaN       NaN   \n4996            Road Start From N2 at Chandipool Sylhet    NaN       NaN   \n\n     structureNr                                           roadName  ...  \\\n0            NaN                                                NaN  ...   \n1            NaN                                                NaN  ...   \n2       117861.0  Dhaka (Jatrabari)-Comilla (Mainamati)-Chittago...  ...   \n3            NaN                                                NaN  ...   \n4       117862.0  Dhaka (Jatrabari)-Comilla (Mainamati)-Chittago...  ...   \n...          ...                                                ...  ...   \n4992    105447.0          Sylhet (Telikhal)-Sultanpur-Balaganj Road  ...   \n4993         NaN                                                NaN  ...   \n4994         NaN                                                NaN  ...   \n4995         NaN                                                NaN  ...   \n4996         NaN                                                NaN  ...   \n\n     road_to distance_to_closest closest_lat closest_lon closest_lrp  \\\n0        NaN                 NaN         NaN         NaN         NaN   \n1        NaN                 NaN         NaN         NaN         NaN   \n2        NaN                 NaN         NaN         NaN         NaN   \n3        NaN                 NaN         NaN         NaN         NaN   \n4        NaN                 NaN         NaN         NaN         NaN   \n...      ...                 ...         ...         ...         ...   \n4992     NaN                 NaN         NaN         NaN         NaN   \n4993     NaN                 NaN         NaN         NaN         NaN   \n4994     NaN                 NaN         NaN         NaN         NaN   \n4995     NaN                 NaN         NaN         NaN         NaN   \n4996      N2                 0.0   24.867305   91.856806     LRP225b   \n\n     closest_name closest_type closest_chainage intersection     trios  \n0             NaN          NaN              NaN          NaN   group 1  \n1             NaN          NaN              NaN          NaN       NaN  \n2             NaN          NaN              NaN          NaN       NaN  \n3             NaN          NaN              NaN          NaN       NaN  \n4             NaN          NaN              NaN          NaN       NaN  \n...           ...          ...              ...          ...       ...  \n4992          NaN          NaN              NaN          NaN       NaN  \n4993          NaN          NaN              NaN          NaN       NaN  \n4994          NaN          NaN              NaN          NaN  group 18  \n4995          NaN          NaN              NaN          NaN       NaN  \n4996          NaN          NaN              0.0          NaN       NaN  \n\n[4997 rows x 36 columns]",
      "text/html": "<div>\n<style scoped>\n    .dataframe tbody tr th:only-of-type {\n        vertical-align: middle;\n    }\n\n    .dataframe tbody tr th {\n        vertical-align: top;\n    }\n\n    .dataframe thead th {\n        text-align: right;\n    }\n</style>\n<table border=\"1\" class=\"dataframe\">\n  <thead>\n    <tr style=\"text-align: right;\">\n      <th></th>\n      <th>Unnamed: 0.1</th>\n      <th>road</th>\n      <th>km</th>\n      <th>type</th>\n      <th>LRPName</th>\n      <th>name</th>\n      <th>length</th>\n      <th>condition</th>\n      <th>structureNr</th>\n      <th>roadName</th>\n      <th>...</th>\n      <th>road_to</th>\n      <th>distance_to_closest</th>\n      <th>closest_lat</th>\n      <th>closest_lon</th>\n      <th>closest_lrp</th>\n      <th>closest_name</th>\n      <th>closest_type</th>\n      <th>closest_chainage</th>\n      <th>intersection</th>\n      <th>trios</th>\n    </tr>\n  </thead>\n  <tbody>\n    <tr>\n      <th>0</th>\n      <td>NaN</td>\n      <td>N1</td>\n      <td>NaN</td>\n      <td>Others</td>\n      <td>LRPS</td>\n      <td>Start of Road  after Jatrabari Flyover infront...</td>\n      <td>NaN</td>\n      <td>NaN</td>\n      <td>NaN</td>\n      <td>NaN</td>\n      <td>...</td>\n      <td>NaN</td>\n      <td>NaN</td>\n      <td>NaN</td>\n      <td>NaN</td>\n      <td>NaN</td>\n      <td>NaN</td>\n      <td>NaN</td>\n      <td>NaN</td>\n      <td>NaN</td>\n      <td>group 1</td>\n    </tr>\n    <tr>\n      <th>1</th>\n      <td>NaN</td>\n      <td>NaN</td>\n      <td>NaN</td>\n      <td>NaN</td>\n      <td>NaN</td>\n      <td>NaN</td>\n      <td>NaN</td>\n      <td>NaN</td>\n      <td>NaN</td>\n      <td>NaN</td>\n      <td>...</td>\n      <td>NaN</td>\n      <td>NaN</td>\n      <td>NaN</td>\n      <td>NaN</td>\n      <td>NaN</td>\n      <td>NaN</td>\n      <td>NaN</td>\n      <td>NaN</td>\n      <td>NaN</td>\n      <td>NaN</td>\n    </tr>\n    <tr>\n      <th>2</th>\n      <td>2000.0</td>\n      <td>N1</td>\n      <td>1.8</td>\n      <td>Box Culvert</td>\n      <td>LRP001a</td>\n      <td>.</td>\n      <td>11.3</td>\n      <td>A</td>\n      <td>117861.0</td>\n      <td>Dhaka (Jatrabari)-Comilla (Mainamati)-Chittago...</td>\n      <td>...</td>\n      <td>NaN</td>\n      <td>NaN</td>\n      <td>NaN</td>\n      <td>NaN</td>\n      <td>NaN</td>\n      <td>NaN</td>\n      <td>NaN</td>\n      <td>NaN</td>\n      <td>NaN</td>\n      <td>NaN</td>\n    </tr>\n    <tr>\n      <th>3</th>\n      <td>NaN</td>\n      <td>NaN</td>\n      <td>NaN</td>\n      <td>NaN</td>\n      <td>NaN</td>\n      <td>NaN</td>\n      <td>NaN</td>\n      <td>NaN</td>\n      <td>NaN</td>\n      <td>NaN</td>\n      <td>...</td>\n      <td>NaN</td>\n      <td>NaN</td>\n      <td>NaN</td>\n      <td>NaN</td>\n      <td>NaN</td>\n      <td>NaN</td>\n      <td>NaN</td>\n      <td>NaN</td>\n      <td>NaN</td>\n      <td>NaN</td>\n    </tr>\n    <tr>\n      <th>4</th>\n      <td>1998.0</td>\n      <td>N1</td>\n      <td>4.925</td>\n      <td>Box Culvert</td>\n      <td>LRP004b</td>\n      <td>.</td>\n      <td>6.6</td>\n      <td>A</td>\n      <td>117862.0</td>\n      <td>Dhaka (Jatrabari)-Comilla (Mainamati)-Chittago...</td>\n      <td>...</td>\n      <td>NaN</td>\n      <td>NaN</td>\n      <td>NaN</td>\n      <td>NaN</td>\n      <td>NaN</td>\n      <td>NaN</td>\n      <td>NaN</td>\n      <td>NaN</td>\n      <td>NaN</td>\n      <td>NaN</td>\n    </tr>\n    <tr>\n      <th>...</th>\n      <td>...</td>\n      <td>...</td>\n      <td>...</td>\n      <td>...</td>\n      <td>...</td>\n      <td>...</td>\n      <td>...</td>\n      <td>...</td>\n      <td>...</td>\n      <td>...</td>\n      <td>...</td>\n      <td>...</td>\n      <td>...</td>\n      <td>...</td>\n      <td>...</td>\n      <td>...</td>\n      <td>...</td>\n      <td>...</td>\n      <td>...</td>\n      <td>...</td>\n      <td>...</td>\n    </tr>\n    <tr>\n      <th>4992</th>\n      <td>2078.0</td>\n      <td>Z2013</td>\n      <td>18.995</td>\n      <td>Box Culvert</td>\n      <td>LRP018c</td>\n      <td>LONGIRA CULVERT</td>\n      <td>6.0</td>\n      <td>A</td>\n      <td>105447.0</td>\n      <td>Sylhet (Telikhal)-Sultanpur-Balaganj Road</td>\n      <td>...</td>\n      <td>NaN</td>\n      <td>NaN</td>\n      <td>NaN</td>\n      <td>NaN</td>\n      <td>NaN</td>\n      <td>NaN</td>\n      <td>NaN</td>\n      <td>NaN</td>\n      <td>NaN</td>\n      <td>NaN</td>\n    </tr>\n    <tr>\n      <th>4993</th>\n      <td>NaN</td>\n      <td>NaN</td>\n      <td>NaN</td>\n      <td>NaN</td>\n      <td>NaN</td>\n      <td>NaN</td>\n      <td>NaN</td>\n      <td>NaN</td>\n      <td>NaN</td>\n      <td>NaN</td>\n      <td>...</td>\n      <td>NaN</td>\n      <td>NaN</td>\n      <td>NaN</td>\n      <td>NaN</td>\n      <td>NaN</td>\n      <td>NaN</td>\n      <td>NaN</td>\n      <td>NaN</td>\n      <td>NaN</td>\n      <td>NaN</td>\n    </tr>\n    <tr>\n      <th>4994</th>\n      <td>NaN</td>\n      <td>Z2013</td>\n      <td>NaN</td>\n      <td>Others</td>\n      <td>LRPE</td>\n      <td>Road End With Borobaga River.</td>\n      <td>NaN</td>\n      <td>NaN</td>\n      <td>NaN</td>\n      <td>NaN</td>\n      <td>...</td>\n      <td>NaN</td>\n      <td>NaN</td>\n      <td>NaN</td>\n      <td>NaN</td>\n      <td>NaN</td>\n      <td>NaN</td>\n      <td>NaN</td>\n      <td>NaN</td>\n      <td>NaN</td>\n      <td>group 18</td>\n    </tr>\n    <tr>\n      <th>4995</th>\n      <td>NaN</td>\n      <td>NaN</td>\n      <td>NaN</td>\n      <td>NaN</td>\n      <td>NaN</td>\n      <td>NaN</td>\n      <td>NaN</td>\n      <td>NaN</td>\n      <td>NaN</td>\n      <td>NaN</td>\n      <td>...</td>\n      <td>NaN</td>\n      <td>NaN</td>\n      <td>NaN</td>\n      <td>NaN</td>\n      <td>NaN</td>\n      <td>NaN</td>\n      <td>NaN</td>\n      <td>NaN</td>\n      <td>NaN</td>\n      <td>NaN</td>\n    </tr>\n    <tr>\n      <th>4996</th>\n      <td>NaN</td>\n      <td>Z2013</td>\n      <td>NaN</td>\n      <td>Others</td>\n      <td>LRPS</td>\n      <td>Road Start From N2 at Chandipool Sylhet</td>\n      <td>NaN</td>\n      <td>NaN</td>\n      <td>NaN</td>\n      <td>NaN</td>\n      <td>...</td>\n      <td>N2</td>\n      <td>0.0</td>\n      <td>24.867305</td>\n      <td>91.856806</td>\n      <td>LRP225b</td>\n      <td>NaN</td>\n      <td>NaN</td>\n      <td>0.0</td>\n      <td>NaN</td>\n      <td>NaN</td>\n    </tr>\n  </tbody>\n</table>\n<p>4997 rows × 36 columns</p>\n</div>"
     },
     "execution_count": 61,
     "metadata": {},
     "output_type": "execute_result"
    }
   ],
   "source": [
    "def add_links_rows(df):\n",
    "    nans = np.where(np.empty_like(df.values), np.nan, np.nan)    \n",
    "    data = np.hstack([df.values, nans]).reshape(-1, df.shape[1])\n",
    "    new_df = pd.DataFrame(data, columns=df.columns)\n",
    "    return new_df.iloc[:-1, :]\n",
    "\n",
    "N1N2_empty_links = add_links_rows(data_points)\n",
    "N1N2_empty_links"
   ],
   "metadata": {
    "collapsed": false,
    "ExecuteTime": {
     "end_time": "2024-04-03T12:38:48.368911300Z",
     "start_time": "2024-04-03T12:38:47.946825200Z"
    }
   },
   "id": "df53f46d9cf3c594"
  },
  {
   "cell_type": "code",
   "execution_count": 62,
   "outputs": [
    {
     "data": {
      "text/plain": "     Unnamed: 0.1   road      km         type  LRPName  \\\n0             NaN     N1     NaN       Others     LRPS   \n1             NaN     N1     NaN          NaN      NaN   \n2          2000.0     N1     1.8  Box Culvert  LRP001a   \n3             NaN     N1     NaN          NaN      NaN   \n4          1998.0     N1   4.925  Box Culvert  LRP004b   \n...           ...    ...     ...          ...      ...   \n4992       2078.0  Z2013  18.995  Box Culvert  LRP018c   \n4993          NaN  Z2013     NaN          NaN      NaN   \n4994          NaN  Z2013     NaN       Others     LRPE   \n4995          NaN  Z2013     NaN          NaN      NaN   \n4996          NaN  Z2013     NaN       Others     LRPS   \n\n                                                   name        length  \\\n0     Start of Road  after Jatrabari Flyover infront...           NaN   \n1                                                link 1   1776.650373   \n2                                                     .          11.3   \n3                                                link 2   2978.663177   \n4                                                     .           6.6   \n...                                                 ...           ...   \n4992                                    LONGIRA CULVERT           6.0   \n4993                                            link 25   5331.997408   \n4994                      Road End With Borobaga River.           NaN   \n4995                                                NaN  23537.780069   \n4996            Road Start From N2 at Chandipool Sylhet           NaN   \n\n     condition structureNr                                           roadName  \\\n0          NaN         NaN                                                NaN   \n1          NaN         NaN                                                NaN   \n2            A    117861.0  Dhaka (Jatrabari)-Comilla (Mainamati)-Chittago...   \n3          NaN         NaN                                                NaN   \n4            A    117862.0  Dhaka (Jatrabari)-Comilla (Mainamati)-Chittago...   \n...        ...         ...                                                ...   \n4992         A    105447.0          Sylhet (Telikhal)-Sultanpur-Balaganj Road   \n4993       NaN         NaN                                                NaN   \n4994       NaN         NaN                                                NaN   \n4995       NaN         NaN                                                NaN   \n4996       NaN         NaN                                                NaN   \n\n      ... road_to distance_to_closest closest_lat closest_lon closest_lrp  \\\n0     ...     NaN                 NaN         NaN         NaN         NaN   \n1     ...     NaN                 NaN         NaN         NaN         NaN   \n2     ...     NaN                 NaN         NaN         NaN         NaN   \n3     ...     NaN                 NaN         NaN         NaN         NaN   \n4     ...     NaN                 NaN         NaN         NaN         NaN   \n...   ...     ...                 ...         ...         ...         ...   \n4992  ...     NaN                 NaN         NaN         NaN         NaN   \n4993  ...     NaN                 NaN         NaN         NaN         NaN   \n4994  ...     NaN                 NaN         NaN         NaN         NaN   \n4995  ...     NaN                 NaN         NaN         NaN         NaN   \n4996  ...      N2                 0.0   24.867305   91.856806     LRP225b   \n\n     closest_name closest_type closest_chainage intersection     trios  \n0             NaN          NaN              NaN          NaN   group 1  \n1             NaN          NaN              NaN          NaN       NaN  \n2             NaN          NaN              NaN          NaN       NaN  \n3             NaN          NaN              NaN          NaN       NaN  \n4             NaN          NaN              NaN          NaN       NaN  \n...           ...          ...              ...          ...       ...  \n4992          NaN          NaN              NaN          NaN       NaN  \n4993          NaN          NaN              NaN          NaN       NaN  \n4994          NaN          NaN              NaN          NaN  group 18  \n4995          NaN          NaN              NaN          NaN       NaN  \n4996          NaN          NaN              0.0          NaN       NaN  \n\n[4997 rows x 36 columns]",
      "text/html": "<div>\n<style scoped>\n    .dataframe tbody tr th:only-of-type {\n        vertical-align: middle;\n    }\n\n    .dataframe tbody tr th {\n        vertical-align: top;\n    }\n\n    .dataframe thead th {\n        text-align: right;\n    }\n</style>\n<table border=\"1\" class=\"dataframe\">\n  <thead>\n    <tr style=\"text-align: right;\">\n      <th></th>\n      <th>Unnamed: 0.1</th>\n      <th>road</th>\n      <th>km</th>\n      <th>type</th>\n      <th>LRPName</th>\n      <th>name</th>\n      <th>length</th>\n      <th>condition</th>\n      <th>structureNr</th>\n      <th>roadName</th>\n      <th>...</th>\n      <th>road_to</th>\n      <th>distance_to_closest</th>\n      <th>closest_lat</th>\n      <th>closest_lon</th>\n      <th>closest_lrp</th>\n      <th>closest_name</th>\n      <th>closest_type</th>\n      <th>closest_chainage</th>\n      <th>intersection</th>\n      <th>trios</th>\n    </tr>\n  </thead>\n  <tbody>\n    <tr>\n      <th>0</th>\n      <td>NaN</td>\n      <td>N1</td>\n      <td>NaN</td>\n      <td>Others</td>\n      <td>LRPS</td>\n      <td>Start of Road  after Jatrabari Flyover infront...</td>\n      <td>NaN</td>\n      <td>NaN</td>\n      <td>NaN</td>\n      <td>NaN</td>\n      <td>...</td>\n      <td>NaN</td>\n      <td>NaN</td>\n      <td>NaN</td>\n      <td>NaN</td>\n      <td>NaN</td>\n      <td>NaN</td>\n      <td>NaN</td>\n      <td>NaN</td>\n      <td>NaN</td>\n      <td>group 1</td>\n    </tr>\n    <tr>\n      <th>1</th>\n      <td>NaN</td>\n      <td>N1</td>\n      <td>NaN</td>\n      <td>NaN</td>\n      <td>NaN</td>\n      <td>link 1</td>\n      <td>1776.650373</td>\n      <td>NaN</td>\n      <td>NaN</td>\n      <td>NaN</td>\n      <td>...</td>\n      <td>NaN</td>\n      <td>NaN</td>\n      <td>NaN</td>\n      <td>NaN</td>\n      <td>NaN</td>\n      <td>NaN</td>\n      <td>NaN</td>\n      <td>NaN</td>\n      <td>NaN</td>\n      <td>NaN</td>\n    </tr>\n    <tr>\n      <th>2</th>\n      <td>2000.0</td>\n      <td>N1</td>\n      <td>1.8</td>\n      <td>Box Culvert</td>\n      <td>LRP001a</td>\n      <td>.</td>\n      <td>11.3</td>\n      <td>A</td>\n      <td>117861.0</td>\n      <td>Dhaka (Jatrabari)-Comilla (Mainamati)-Chittago...</td>\n      <td>...</td>\n      <td>NaN</td>\n      <td>NaN</td>\n      <td>NaN</td>\n      <td>NaN</td>\n      <td>NaN</td>\n      <td>NaN</td>\n      <td>NaN</td>\n      <td>NaN</td>\n      <td>NaN</td>\n      <td>NaN</td>\n    </tr>\n    <tr>\n      <th>3</th>\n      <td>NaN</td>\n      <td>N1</td>\n      <td>NaN</td>\n      <td>NaN</td>\n      <td>NaN</td>\n      <td>link 2</td>\n      <td>2978.663177</td>\n      <td>NaN</td>\n      <td>NaN</td>\n      <td>NaN</td>\n      <td>...</td>\n      <td>NaN</td>\n      <td>NaN</td>\n      <td>NaN</td>\n      <td>NaN</td>\n      <td>NaN</td>\n      <td>NaN</td>\n      <td>NaN</td>\n      <td>NaN</td>\n      <td>NaN</td>\n      <td>NaN</td>\n    </tr>\n    <tr>\n      <th>4</th>\n      <td>1998.0</td>\n      <td>N1</td>\n      <td>4.925</td>\n      <td>Box Culvert</td>\n      <td>LRP004b</td>\n      <td>.</td>\n      <td>6.6</td>\n      <td>A</td>\n      <td>117862.0</td>\n      <td>Dhaka (Jatrabari)-Comilla (Mainamati)-Chittago...</td>\n      <td>...</td>\n      <td>NaN</td>\n      <td>NaN</td>\n      <td>NaN</td>\n      <td>NaN</td>\n      <td>NaN</td>\n      <td>NaN</td>\n      <td>NaN</td>\n      <td>NaN</td>\n      <td>NaN</td>\n      <td>NaN</td>\n    </tr>\n    <tr>\n      <th>...</th>\n      <td>...</td>\n      <td>...</td>\n      <td>...</td>\n      <td>...</td>\n      <td>...</td>\n      <td>...</td>\n      <td>...</td>\n      <td>...</td>\n      <td>...</td>\n      <td>...</td>\n      <td>...</td>\n      <td>...</td>\n      <td>...</td>\n      <td>...</td>\n      <td>...</td>\n      <td>...</td>\n      <td>...</td>\n      <td>...</td>\n      <td>...</td>\n      <td>...</td>\n      <td>...</td>\n    </tr>\n    <tr>\n      <th>4992</th>\n      <td>2078.0</td>\n      <td>Z2013</td>\n      <td>18.995</td>\n      <td>Box Culvert</td>\n      <td>LRP018c</td>\n      <td>LONGIRA CULVERT</td>\n      <td>6.0</td>\n      <td>A</td>\n      <td>105447.0</td>\n      <td>Sylhet (Telikhal)-Sultanpur-Balaganj Road</td>\n      <td>...</td>\n      <td>NaN</td>\n      <td>NaN</td>\n      <td>NaN</td>\n      <td>NaN</td>\n      <td>NaN</td>\n      <td>NaN</td>\n      <td>NaN</td>\n      <td>NaN</td>\n      <td>NaN</td>\n      <td>NaN</td>\n    </tr>\n    <tr>\n      <th>4993</th>\n      <td>NaN</td>\n      <td>Z2013</td>\n      <td>NaN</td>\n      <td>NaN</td>\n      <td>NaN</td>\n      <td>link 25</td>\n      <td>5331.997408</td>\n      <td>NaN</td>\n      <td>NaN</td>\n      <td>NaN</td>\n      <td>...</td>\n      <td>NaN</td>\n      <td>NaN</td>\n      <td>NaN</td>\n      <td>NaN</td>\n      <td>NaN</td>\n      <td>NaN</td>\n      <td>NaN</td>\n      <td>NaN</td>\n      <td>NaN</td>\n      <td>NaN</td>\n    </tr>\n    <tr>\n      <th>4994</th>\n      <td>NaN</td>\n      <td>Z2013</td>\n      <td>NaN</td>\n      <td>Others</td>\n      <td>LRPE</td>\n      <td>Road End With Borobaga River.</td>\n      <td>NaN</td>\n      <td>NaN</td>\n      <td>NaN</td>\n      <td>NaN</td>\n      <td>...</td>\n      <td>NaN</td>\n      <td>NaN</td>\n      <td>NaN</td>\n      <td>NaN</td>\n      <td>NaN</td>\n      <td>NaN</td>\n      <td>NaN</td>\n      <td>NaN</td>\n      <td>NaN</td>\n      <td>group 18</td>\n    </tr>\n    <tr>\n      <th>4995</th>\n      <td>NaN</td>\n      <td>Z2013</td>\n      <td>NaN</td>\n      <td>NaN</td>\n      <td>NaN</td>\n      <td>NaN</td>\n      <td>23537.780069</td>\n      <td>NaN</td>\n      <td>NaN</td>\n      <td>NaN</td>\n      <td>...</td>\n      <td>NaN</td>\n      <td>NaN</td>\n      <td>NaN</td>\n      <td>NaN</td>\n      <td>NaN</td>\n      <td>NaN</td>\n      <td>NaN</td>\n      <td>NaN</td>\n      <td>NaN</td>\n      <td>NaN</td>\n    </tr>\n    <tr>\n      <th>4996</th>\n      <td>NaN</td>\n      <td>Z2013</td>\n      <td>NaN</td>\n      <td>Others</td>\n      <td>LRPS</td>\n      <td>Road Start From N2 at Chandipool Sylhet</td>\n      <td>NaN</td>\n      <td>NaN</td>\n      <td>NaN</td>\n      <td>NaN</td>\n      <td>...</td>\n      <td>N2</td>\n      <td>0.0</td>\n      <td>24.867305</td>\n      <td>91.856806</td>\n      <td>LRP225b</td>\n      <td>NaN</td>\n      <td>NaN</td>\n      <td>0.0</td>\n      <td>NaN</td>\n      <td>NaN</td>\n    </tr>\n  </tbody>\n</table>\n<p>4997 rows × 36 columns</p>\n</div>"
     },
     "execution_count": 62,
     "metadata": {},
     "output_type": "execute_result"
    }
   ],
   "source": [
    "def fill_links(df):\n",
    "    countlink = 1\n",
    "    countlrp = 1\n",
    "    ab = 0\n",
    "    df['road'].bfill( inplace=True)\n",
    "    for index in range(len(df)):\n",
    "        ## FILLING THE LINKS\n",
    "        if pd.isna(df.loc[index,'LRPName']):\n",
    "            \n",
    "            df.at[index, 'length'] = haversine((df.at[(index-1), 'lat'], df.at[(index-1), 'lon']), (df.at[(index+1), 'lat'], df.at[(index+1), 'lon']), unit=Unit.METERS)\n",
    "            \n",
    "            df.at[index, 'lat'] = df.at[(index+1), 'lat']+ (df.at[(index+1), 'lat']-df.at[(index-1), 'lat'])/2\n",
    "            df.at[index, 'lon'] = df.at[(index+1), 'lon']+ (df.at[(index+1), 'lon']-df.at[(index-1), 'lon'])/2\n",
    "            df.at[index, 'model_type'] ='link'\n",
    "            \n",
    "            ## NAMING THE LINKS INBETWEEN\n",
    "            if index + 2< len(df):\n",
    "                ## IF YOUR PREVIOUS IS A SOURCE, OR YOUR NEXT IS A SOURCE, THEN \n",
    "                if ((df.at[index-1, 'model_type'] =='sourcesink') and (df.at[index+1, 'model_type'] =='sourcesink')):\n",
    "                    ## IF YOU HAVE A NEGATIVE LENGTH, THEN YOU ARE INBETWEEN TWO DIFFERENT ROADS. SO YOU DONT EXIST!! THATS WHY MODEL TYPE GOES TO \"not a real link\"\n",
    "                    df.at[index, 'name'] ='not a real link'\n",
    "                    countlink = 1\n",
    "                \n",
    "                # ## IF YOUR PREVIOUS OR NEXT IS A SOURCE, HIDDEN DUE TO DUPLICATES (INTERSECTION& SOURCESINK)   \n",
    "                # elif (df.at[index, 'length']==0) and (df.at[index-1, 'lat']==df.at[index+1, 'lat']) and (df.at[index-1, 'lon']==df.at[index+1, 'lon']): \n",
    "                #      df.at[index, 'name'] ='not a real link'\n",
    "                #      countlink = 1\n",
    "                    \n",
    "                ## IF THE ROAD OF THE NEXT LINK IS THE SAME AS YOUR ROAD, AND YOU HAVE A POSITIVE LINK\n",
    "                ##THEN NAME YOURSELF THE NEXT AVAILABLE NAME\n",
    "                elif df.loc[(index+2),'road']==df.loc[index,'road']:\n",
    "                    df.at[index, 'name'] ='link'+' '+str(countlink)\n",
    "                    countlink +=1\n",
    "                ## IF THE NEXT LINK IS ON ANOTHER ROAD THEN NAME YOURSELF AND RESET THE COUNTER SO THE NEXT LINK WILL BE \"link 1\" OF HIS OWN ROAD\n",
    "                elif df.loc[(index+2),'road']!=df.loc[index,'road']:\n",
    "                    df.at[index, 'name'] ='link'+' '+str(countlink)\n",
    "                    countlink = 1\n",
    "        \n",
    "        elif index + 2< len(df):\n",
    "            if (df.loc[index,'model_type']=='model_type'):\n",
    "                ab+=1\n",
    "                df.at[index, 'length'] = haversine(\n",
    "                    (df.at[(index-1), 'lat'], df.at[(index-1), 'lon']), \n",
    "                    (df.at[(index+1), 'lat'], df.at[(index+1), 'lon']), unit=Unit.METERS)\n",
    "            \n",
    "                    \n",
    "        ## FILLING THE BRIGDES        \n",
    "        else:\n",
    "            # Naming LRPS in the dataset\n",
    "            if index + 2< len(df):\n",
    "                ## If the road of the next LRP is still the same and the bridge length is positive, name yourself the next available name and counter+1\n",
    "                if (df.loc[(index+2),'road']==df.loc[index,'road']):\n",
    "                    name ='bridge'+' '+str(countlrp)\n",
    "                    countlrp +=1\n",
    "                ## If the next LRP is on a different road, then name yourself and reset the counter after\n",
    "                elif (df.loc[(index+2),'road']!=df.loc[index,'road']):\n",
    "                    name ='bridge'+' '+str(countlrp)\n",
    "                    countlrp = 1\n",
    "            # \n",
    "            if df.at[index,'name']=='.' or df.at[index, 'name']==0:\n",
    "                df.at[index, 'name']= name\n",
    "        \n",
    "    return df\n",
    "    \n",
    "N1N2_filled_links = fill_links(N1N2_empty_links)\n",
    "N1N2_filled_links"
   ],
   "metadata": {
    "collapsed": false,
    "ExecuteTime": {
     "end_time": "2024-04-03T12:39:02.482529100Z",
     "start_time": "2024-04-03T12:38:48.026956Z"
    }
   },
   "id": "c77da352d621eede"
  },
  {
   "cell_type": "code",
   "execution_count": 63,
   "outputs": [
    {
     "data": {
      "text/plain": "     Unnamed: 0.1   road   km type LRPName             name         length  \\\n1661          NaN     N2  NaN  NaN     NaN  not a real link   35625.764971   \n3049          NaN   R151  NaN  NaN     NaN  not a real link   44396.756194   \n3517          NaN   R220  NaN  NaN     NaN  not a real link   17206.600537   \n4259          NaN  Z1005  NaN  NaN     NaN  not a real link  282923.920702   \n\n     condition structureNr roadName  ... road_to distance_to_closest  \\\n1661       NaN         NaN      NaN  ...     NaN                 NaN   \n3049       NaN         NaN      NaN  ...     NaN                 NaN   \n3517       NaN         NaN      NaN  ...     NaN                 NaN   \n4259       NaN         NaN      NaN  ...     NaN                 NaN   \n\n     closest_lat closest_lon closest_lrp closest_name closest_type  \\\n1661         NaN         NaN         NaN          NaN          NaN   \n3049         NaN         NaN         NaN          NaN          NaN   \n3517         NaN         NaN         NaN          NaN          NaN   \n4259         NaN         NaN         NaN          NaN          NaN   \n\n     closest_chainage intersection trios  \n1661              NaN          NaN   NaN  \n3049              NaN          NaN   NaN  \n3517              NaN          NaN   NaN  \n4259              NaN          NaN   NaN  \n\n[4 rows x 36 columns]",
      "text/html": "<div>\n<style scoped>\n    .dataframe tbody tr th:only-of-type {\n        vertical-align: middle;\n    }\n\n    .dataframe tbody tr th {\n        vertical-align: top;\n    }\n\n    .dataframe thead th {\n        text-align: right;\n    }\n</style>\n<table border=\"1\" class=\"dataframe\">\n  <thead>\n    <tr style=\"text-align: right;\">\n      <th></th>\n      <th>Unnamed: 0.1</th>\n      <th>road</th>\n      <th>km</th>\n      <th>type</th>\n      <th>LRPName</th>\n      <th>name</th>\n      <th>length</th>\n      <th>condition</th>\n      <th>structureNr</th>\n      <th>roadName</th>\n      <th>...</th>\n      <th>road_to</th>\n      <th>distance_to_closest</th>\n      <th>closest_lat</th>\n      <th>closest_lon</th>\n      <th>closest_lrp</th>\n      <th>closest_name</th>\n      <th>closest_type</th>\n      <th>closest_chainage</th>\n      <th>intersection</th>\n      <th>trios</th>\n    </tr>\n  </thead>\n  <tbody>\n    <tr>\n      <th>1661</th>\n      <td>NaN</td>\n      <td>N2</td>\n      <td>NaN</td>\n      <td>NaN</td>\n      <td>NaN</td>\n      <td>not a real link</td>\n      <td>35625.764971</td>\n      <td>NaN</td>\n      <td>NaN</td>\n      <td>NaN</td>\n      <td>...</td>\n      <td>NaN</td>\n      <td>NaN</td>\n      <td>NaN</td>\n      <td>NaN</td>\n      <td>NaN</td>\n      <td>NaN</td>\n      <td>NaN</td>\n      <td>NaN</td>\n      <td>NaN</td>\n      <td>NaN</td>\n    </tr>\n    <tr>\n      <th>3049</th>\n      <td>NaN</td>\n      <td>R151</td>\n      <td>NaN</td>\n      <td>NaN</td>\n      <td>NaN</td>\n      <td>not a real link</td>\n      <td>44396.756194</td>\n      <td>NaN</td>\n      <td>NaN</td>\n      <td>NaN</td>\n      <td>...</td>\n      <td>NaN</td>\n      <td>NaN</td>\n      <td>NaN</td>\n      <td>NaN</td>\n      <td>NaN</td>\n      <td>NaN</td>\n      <td>NaN</td>\n      <td>NaN</td>\n      <td>NaN</td>\n      <td>NaN</td>\n    </tr>\n    <tr>\n      <th>3517</th>\n      <td>NaN</td>\n      <td>R220</td>\n      <td>NaN</td>\n      <td>NaN</td>\n      <td>NaN</td>\n      <td>not a real link</td>\n      <td>17206.600537</td>\n      <td>NaN</td>\n      <td>NaN</td>\n      <td>NaN</td>\n      <td>...</td>\n      <td>NaN</td>\n      <td>NaN</td>\n      <td>NaN</td>\n      <td>NaN</td>\n      <td>NaN</td>\n      <td>NaN</td>\n      <td>NaN</td>\n      <td>NaN</td>\n      <td>NaN</td>\n      <td>NaN</td>\n    </tr>\n    <tr>\n      <th>4259</th>\n      <td>NaN</td>\n      <td>Z1005</td>\n      <td>NaN</td>\n      <td>NaN</td>\n      <td>NaN</td>\n      <td>not a real link</td>\n      <td>282923.920702</td>\n      <td>NaN</td>\n      <td>NaN</td>\n      <td>NaN</td>\n      <td>...</td>\n      <td>NaN</td>\n      <td>NaN</td>\n      <td>NaN</td>\n      <td>NaN</td>\n      <td>NaN</td>\n      <td>NaN</td>\n      <td>NaN</td>\n      <td>NaN</td>\n      <td>NaN</td>\n      <td>NaN</td>\n    </tr>\n  </tbody>\n</table>\n<p>4 rows × 36 columns</p>\n</div>"
     },
     "execution_count": 63,
     "metadata": {},
     "output_type": "execute_result"
    }
   ],
   "source": [
    "fakes = N1N2_filled_links[N1N2_filled_links['name']=='not a real link']\n",
    "fakes"
   ],
   "metadata": {
    "collapsed": false,
    "ExecuteTime": {
     "end_time": "2024-04-03T12:39:02.743844600Z",
     "start_time": "2024-04-03T12:39:02.466905400Z"
    }
   },
   "id": "e28ceee6415737c4"
  },
  {
   "cell_type": "code",
   "execution_count": 64,
   "outputs": [
    {
     "data": {
      "text/plain": "['N2', 'R151', 'R220', 'Z1005']"
     },
     "execution_count": 64,
     "metadata": {},
     "output_type": "execute_result"
    }
   ],
   "source": [
    "fake_links_roads = fakes.road.to_list()\n",
    "fake_links_roads"
   ],
   "metadata": {
    "collapsed": false,
    "ExecuteTime": {
     "end_time": "2024-04-03T12:39:02.782344800Z",
     "start_time": "2024-04-03T12:39:02.589454100Z"
    }
   },
   "id": "d81879e86d5aad19"
  },
  {
   "cell_type": "code",
   "execution_count": 65,
   "outputs": [
    {
     "data": {
      "text/plain": "22"
     },
     "execution_count": 65,
     "metadata": {},
     "output_type": "execute_result"
    }
   ],
   "source": [
    "manually_check_start_end = []\n",
    "for i in roads_in_simulation:\n",
    "    if i not in fake_links_roads:\n",
    "        manually_check_start_end.append(i)\n",
    "        \n",
    "len(manually_check_start_end)"
   ],
   "metadata": {
    "collapsed": false,
    "ExecuteTime": {
     "end_time": "2024-04-03T12:39:02.782344800Z",
     "start_time": "2024-04-03T12:39:02.606178800Z"
    }
   },
   "id": "a2bd1d4071352526"
  },
  {
   "cell_type": "code",
   "execution_count": 66,
   "outputs": [
    {
     "data": {
      "text/plain": "       road road_to    model_type        lat        lon        length chainage\n2800   N207     NaN        bridge  24.472502  91.765472         18.45   43.036\n2801   N207     NaN          link  24.540001  91.710776   6217.003646      NaN\n2802   N207     NaN        bridge  24.517502  91.729008          4.55    51.25\n2803   N207     NaN          link  24.522498  91.731362    402.996007      NaN\n2804   N207     NaN        bridge  24.520833  91.730578           9.2   51.684\n...     ...     ...           ...        ...        ...           ...      ...\n4992  Z2013     NaN        bridge  24.704475  91.837201           6.0   18.995\n4993  Z2013     NaN          link  24.633596  91.823732   5331.997408      NaN\n4994  Z2013     NaN    sourcesink  24.657222  91.828222           NaN   25.045\n4995  Z2013     NaN          link  24.972346  91.871098  23537.780069      NaN\n4996  Z2013      N2  intersection  24.867305  91.856806           NaN  225.373\n\n[2197 rows x 7 columns]",
      "text/html": "<div>\n<style scoped>\n    .dataframe tbody tr th:only-of-type {\n        vertical-align: middle;\n    }\n\n    .dataframe tbody tr th {\n        vertical-align: top;\n    }\n\n    .dataframe thead th {\n        text-align: right;\n    }\n</style>\n<table border=\"1\" class=\"dataframe\">\n  <thead>\n    <tr style=\"text-align: right;\">\n      <th></th>\n      <th>road</th>\n      <th>road_to</th>\n      <th>model_type</th>\n      <th>lat</th>\n      <th>lon</th>\n      <th>length</th>\n      <th>chainage</th>\n    </tr>\n  </thead>\n  <tbody>\n    <tr>\n      <th>2800</th>\n      <td>N207</td>\n      <td>NaN</td>\n      <td>bridge</td>\n      <td>24.472502</td>\n      <td>91.765472</td>\n      <td>18.45</td>\n      <td>43.036</td>\n    </tr>\n    <tr>\n      <th>2801</th>\n      <td>N207</td>\n      <td>NaN</td>\n      <td>link</td>\n      <td>24.540001</td>\n      <td>91.710776</td>\n      <td>6217.003646</td>\n      <td>NaN</td>\n    </tr>\n    <tr>\n      <th>2802</th>\n      <td>N207</td>\n      <td>NaN</td>\n      <td>bridge</td>\n      <td>24.517502</td>\n      <td>91.729008</td>\n      <td>4.55</td>\n      <td>51.25</td>\n    </tr>\n    <tr>\n      <th>2803</th>\n      <td>N207</td>\n      <td>NaN</td>\n      <td>link</td>\n      <td>24.522498</td>\n      <td>91.731362</td>\n      <td>402.996007</td>\n      <td>NaN</td>\n    </tr>\n    <tr>\n      <th>2804</th>\n      <td>N207</td>\n      <td>NaN</td>\n      <td>bridge</td>\n      <td>24.520833</td>\n      <td>91.730578</td>\n      <td>9.2</td>\n      <td>51.684</td>\n    </tr>\n    <tr>\n      <th>...</th>\n      <td>...</td>\n      <td>...</td>\n      <td>...</td>\n      <td>...</td>\n      <td>...</td>\n      <td>...</td>\n      <td>...</td>\n    </tr>\n    <tr>\n      <th>4992</th>\n      <td>Z2013</td>\n      <td>NaN</td>\n      <td>bridge</td>\n      <td>24.704475</td>\n      <td>91.837201</td>\n      <td>6.0</td>\n      <td>18.995</td>\n    </tr>\n    <tr>\n      <th>4993</th>\n      <td>Z2013</td>\n      <td>NaN</td>\n      <td>link</td>\n      <td>24.633596</td>\n      <td>91.823732</td>\n      <td>5331.997408</td>\n      <td>NaN</td>\n    </tr>\n    <tr>\n      <th>4994</th>\n      <td>Z2013</td>\n      <td>NaN</td>\n      <td>sourcesink</td>\n      <td>24.657222</td>\n      <td>91.828222</td>\n      <td>NaN</td>\n      <td>25.045</td>\n    </tr>\n    <tr>\n      <th>4995</th>\n      <td>Z2013</td>\n      <td>NaN</td>\n      <td>link</td>\n      <td>24.972346</td>\n      <td>91.871098</td>\n      <td>23537.780069</td>\n      <td>NaN</td>\n    </tr>\n    <tr>\n      <th>4996</th>\n      <td>Z2013</td>\n      <td>N2</td>\n      <td>intersection</td>\n      <td>24.867305</td>\n      <td>91.856806</td>\n      <td>NaN</td>\n      <td>225.373</td>\n    </tr>\n  </tbody>\n</table>\n<p>2197 rows × 7 columns</p>\n</div>"
     },
     "execution_count": 66,
     "metadata": {},
     "output_type": "execute_result"
    }
   ],
   "source": [
    "## Visual inspection\n",
    "N1N2_filled_links[2800:][['road','road_to','model_type','lat','lon','length','chainage']]"
   ],
   "metadata": {
    "collapsed": false,
    "ExecuteTime": {
     "end_time": "2024-04-03T12:39:02.782344800Z",
     "start_time": "2024-04-03T12:39:02.614452700Z"
    }
   },
   "id": "2aa9005525a1371c"
  },
  {
   "cell_type": "code",
   "execution_count": 67,
   "outputs": [],
   "source": [
    "fakes2 = [1479, 1565, 2695, 2837, 3157, 3345, 3586, 3725, 3777, 3935, 3999, 4367, 4445, 4509, 4589, 4717, 4825, 4945]"
   ],
   "metadata": {
    "collapsed": false,
    "ExecuteTime": {
     "end_time": "2024-04-03T12:39:02.782344800Z",
     "start_time": "2024-04-03T12:39:02.629862300Z"
    }
   },
   "id": "4bda07bf2d274074"
  },
  {
   "cell_type": "code",
   "execution_count": 68,
   "outputs": [],
   "source": [
    "fake_links = fakes.index.tolist() + fakes2\n"
   ],
   "metadata": {
    "collapsed": false,
    "ExecuteTime": {
     "end_time": "2024-04-03T12:39:02.782344800Z",
     "start_time": "2024-04-03T12:39:02.636092400Z"
    }
   },
   "id": "3f48fda6370bbb1c"
  },
  {
   "cell_type": "code",
   "execution_count": 69,
   "outputs": [],
   "source": [
    "for i in fake_links:\n",
    "    N1N2_filled_links.drop(i, inplace=True)"
   ],
   "metadata": {
    "collapsed": false,
    "ExecuteTime": {
     "end_time": "2024-04-03T12:39:02.974617300Z",
     "start_time": "2024-04-03T12:39:02.642112600Z"
    }
   },
   "id": "783df5d2cf27e7ce"
  },
  {
   "cell_type": "code",
   "execution_count": 70,
   "outputs": [
    {
     "data": {
      "text/plain": "        model_type   road  LRPName road_to closest_lrp\n148   intersection     N1   LRP094    R140     LRP004a\n150   intersection     N1  LRP094a    R140     LRP004a\n692   intersection     N1  LRP341b   Z1005        LRPS\n1474  intersection   N102     LRPS      N1     LRP084a\n1478  intersection   N102     LRPE      N2     LRP086a\n1564  intersection   N104  LRP001a      N1     LRP148a\n1580  intersection   N105  LRP012a      N2     LRP012a\n1666  intersection     N2     LRPS      N1     LRP009a\n1672  intersection     N2  LRP012d    R203        LRPS\n1710  intersection     N2  LRP030b    R301        LRPE\n1754  intersection     N2  LRP043b    R310        LRPE\n1844  intersection     N2  LRP071a    R360        LRPE\n1890  intersection     N2  LRP086a    N102        LRPE\n1894  intersection     N2  LRP087a    R220        LRPS\n1974  intersection     N2  LRP117b    N204        LRPS\n2098  intersection     N2  LRP142b    R240        LRPS\n2110  intersection     N2  LRP146b    N207        LRPS\n2346  intersection     N2  LRP182c    R240     LRP049a\n2370  intersection     N2  LRP186d    R241        LRPS\n2384  intersection     N2  LRP191b    N207        LRPE\n2468  intersection     N2  LRP225b   Z2013        LRPS\n2480  intersection     N2  LRP229a    R250     LRP002a\n2694  intersection   N204     LRPS      N2     LRP117b\n2834  intersection   N207     LRPS      N2     LRP146b\n2836  intersection   N207     LRPE      N2     LRP191b\n2988  intersection   R140  LRP004a      N1      LRP094\n2990  intersection   R140  LRP004a      N1     LRP094a\n3156  intersection   R151     LRPS      N1     LRP170b\n3344  intersection   R170     LRPS      N1     LRP268c\n3376  intersection   R203     LRPS      N2     LRP012d\n3722  intersection   R240     LRPS      N2     LRP142b\n3724  intersection   R240  LRP049a      N2     LRP182c\n3776  intersection   R241     LRPS      N2     LRP186d\n3934  intersection   R250  LRP002a      N2     LRP229a\n3970  intersection   R301     LRPE      N2     LRP030b\n3998  intersection   R310     LRPE      N2     LRP043b\n4188  intersection   R360     LRPE      N2     LRP071a\n4366  intersection  Z1005     LRPS      N1     LRP341b\n4442  intersection  Z1031     LRPS      N1     LRP142a\n4444  intersection  Z1031  LRP001b      N1     LRP143a\n4506  intersection  Z1034  LRP002a      N1     LRP152a\n4508  intersection  Z1034  LRP002b      N1     LRP152b\n4588  intersection  Z1042     LRPS      N1     LRP056c\n4716  intersection  Z1044     LRPS      N1     LRP047a\n4824  intersection  Z1048     LRPE      N1     LRP130a\n4944  intersection  Z1402     LRPE      N1     LRP046a\n4996  intersection  Z2013     LRPS      N2     LRP225b",
      "text/html": "<div>\n<style scoped>\n    .dataframe tbody tr th:only-of-type {\n        vertical-align: middle;\n    }\n\n    .dataframe tbody tr th {\n        vertical-align: top;\n    }\n\n    .dataframe thead th {\n        text-align: right;\n    }\n</style>\n<table border=\"1\" class=\"dataframe\">\n  <thead>\n    <tr style=\"text-align: right;\">\n      <th></th>\n      <th>model_type</th>\n      <th>road</th>\n      <th>LRPName</th>\n      <th>road_to</th>\n      <th>closest_lrp</th>\n    </tr>\n  </thead>\n  <tbody>\n    <tr>\n      <th>148</th>\n      <td>intersection</td>\n      <td>N1</td>\n      <td>LRP094</td>\n      <td>R140</td>\n      <td>LRP004a</td>\n    </tr>\n    <tr>\n      <th>150</th>\n      <td>intersection</td>\n      <td>N1</td>\n      <td>LRP094a</td>\n      <td>R140</td>\n      <td>LRP004a</td>\n    </tr>\n    <tr>\n      <th>692</th>\n      <td>intersection</td>\n      <td>N1</td>\n      <td>LRP341b</td>\n      <td>Z1005</td>\n      <td>LRPS</td>\n    </tr>\n    <tr>\n      <th>1474</th>\n      <td>intersection</td>\n      <td>N102</td>\n      <td>LRPS</td>\n      <td>N1</td>\n      <td>LRP084a</td>\n    </tr>\n    <tr>\n      <th>1478</th>\n      <td>intersection</td>\n      <td>N102</td>\n      <td>LRPE</td>\n      <td>N2</td>\n      <td>LRP086a</td>\n    </tr>\n    <tr>\n      <th>1564</th>\n      <td>intersection</td>\n      <td>N104</td>\n      <td>LRP001a</td>\n      <td>N1</td>\n      <td>LRP148a</td>\n    </tr>\n    <tr>\n      <th>1580</th>\n      <td>intersection</td>\n      <td>N105</td>\n      <td>LRP012a</td>\n      <td>N2</td>\n      <td>LRP012a</td>\n    </tr>\n    <tr>\n      <th>1666</th>\n      <td>intersection</td>\n      <td>N2</td>\n      <td>LRPS</td>\n      <td>N1</td>\n      <td>LRP009a</td>\n    </tr>\n    <tr>\n      <th>1672</th>\n      <td>intersection</td>\n      <td>N2</td>\n      <td>LRP012d</td>\n      <td>R203</td>\n      <td>LRPS</td>\n    </tr>\n    <tr>\n      <th>1710</th>\n      <td>intersection</td>\n      <td>N2</td>\n      <td>LRP030b</td>\n      <td>R301</td>\n      <td>LRPE</td>\n    </tr>\n    <tr>\n      <th>1754</th>\n      <td>intersection</td>\n      <td>N2</td>\n      <td>LRP043b</td>\n      <td>R310</td>\n      <td>LRPE</td>\n    </tr>\n    <tr>\n      <th>1844</th>\n      <td>intersection</td>\n      <td>N2</td>\n      <td>LRP071a</td>\n      <td>R360</td>\n      <td>LRPE</td>\n    </tr>\n    <tr>\n      <th>1890</th>\n      <td>intersection</td>\n      <td>N2</td>\n      <td>LRP086a</td>\n      <td>N102</td>\n      <td>LRPE</td>\n    </tr>\n    <tr>\n      <th>1894</th>\n      <td>intersection</td>\n      <td>N2</td>\n      <td>LRP087a</td>\n      <td>R220</td>\n      <td>LRPS</td>\n    </tr>\n    <tr>\n      <th>1974</th>\n      <td>intersection</td>\n      <td>N2</td>\n      <td>LRP117b</td>\n      <td>N204</td>\n      <td>LRPS</td>\n    </tr>\n    <tr>\n      <th>2098</th>\n      <td>intersection</td>\n      <td>N2</td>\n      <td>LRP142b</td>\n      <td>R240</td>\n      <td>LRPS</td>\n    </tr>\n    <tr>\n      <th>2110</th>\n      <td>intersection</td>\n      <td>N2</td>\n      <td>LRP146b</td>\n      <td>N207</td>\n      <td>LRPS</td>\n    </tr>\n    <tr>\n      <th>2346</th>\n      <td>intersection</td>\n      <td>N2</td>\n      <td>LRP182c</td>\n      <td>R240</td>\n      <td>LRP049a</td>\n    </tr>\n    <tr>\n      <th>2370</th>\n      <td>intersection</td>\n      <td>N2</td>\n      <td>LRP186d</td>\n      <td>R241</td>\n      <td>LRPS</td>\n    </tr>\n    <tr>\n      <th>2384</th>\n      <td>intersection</td>\n      <td>N2</td>\n      <td>LRP191b</td>\n      <td>N207</td>\n      <td>LRPE</td>\n    </tr>\n    <tr>\n      <th>2468</th>\n      <td>intersection</td>\n      <td>N2</td>\n      <td>LRP225b</td>\n      <td>Z2013</td>\n      <td>LRPS</td>\n    </tr>\n    <tr>\n      <th>2480</th>\n      <td>intersection</td>\n      <td>N2</td>\n      <td>LRP229a</td>\n      <td>R250</td>\n      <td>LRP002a</td>\n    </tr>\n    <tr>\n      <th>2694</th>\n      <td>intersection</td>\n      <td>N204</td>\n      <td>LRPS</td>\n      <td>N2</td>\n      <td>LRP117b</td>\n    </tr>\n    <tr>\n      <th>2834</th>\n      <td>intersection</td>\n      <td>N207</td>\n      <td>LRPS</td>\n      <td>N2</td>\n      <td>LRP146b</td>\n    </tr>\n    <tr>\n      <th>2836</th>\n      <td>intersection</td>\n      <td>N207</td>\n      <td>LRPE</td>\n      <td>N2</td>\n      <td>LRP191b</td>\n    </tr>\n    <tr>\n      <th>2988</th>\n      <td>intersection</td>\n      <td>R140</td>\n      <td>LRP004a</td>\n      <td>N1</td>\n      <td>LRP094</td>\n    </tr>\n    <tr>\n      <th>2990</th>\n      <td>intersection</td>\n      <td>R140</td>\n      <td>LRP004a</td>\n      <td>N1</td>\n      <td>LRP094a</td>\n    </tr>\n    <tr>\n      <th>3156</th>\n      <td>intersection</td>\n      <td>R151</td>\n      <td>LRPS</td>\n      <td>N1</td>\n      <td>LRP170b</td>\n    </tr>\n    <tr>\n      <th>3344</th>\n      <td>intersection</td>\n      <td>R170</td>\n      <td>LRPS</td>\n      <td>N1</td>\n      <td>LRP268c</td>\n    </tr>\n    <tr>\n      <th>3376</th>\n      <td>intersection</td>\n      <td>R203</td>\n      <td>LRPS</td>\n      <td>N2</td>\n      <td>LRP012d</td>\n    </tr>\n    <tr>\n      <th>3722</th>\n      <td>intersection</td>\n      <td>R240</td>\n      <td>LRPS</td>\n      <td>N2</td>\n      <td>LRP142b</td>\n    </tr>\n    <tr>\n      <th>3724</th>\n      <td>intersection</td>\n      <td>R240</td>\n      <td>LRP049a</td>\n      <td>N2</td>\n      <td>LRP182c</td>\n    </tr>\n    <tr>\n      <th>3776</th>\n      <td>intersection</td>\n      <td>R241</td>\n      <td>LRPS</td>\n      <td>N2</td>\n      <td>LRP186d</td>\n    </tr>\n    <tr>\n      <th>3934</th>\n      <td>intersection</td>\n      <td>R250</td>\n      <td>LRP002a</td>\n      <td>N2</td>\n      <td>LRP229a</td>\n    </tr>\n    <tr>\n      <th>3970</th>\n      <td>intersection</td>\n      <td>R301</td>\n      <td>LRPE</td>\n      <td>N2</td>\n      <td>LRP030b</td>\n    </tr>\n    <tr>\n      <th>3998</th>\n      <td>intersection</td>\n      <td>R310</td>\n      <td>LRPE</td>\n      <td>N2</td>\n      <td>LRP043b</td>\n    </tr>\n    <tr>\n      <th>4188</th>\n      <td>intersection</td>\n      <td>R360</td>\n      <td>LRPE</td>\n      <td>N2</td>\n      <td>LRP071a</td>\n    </tr>\n    <tr>\n      <th>4366</th>\n      <td>intersection</td>\n      <td>Z1005</td>\n      <td>LRPS</td>\n      <td>N1</td>\n      <td>LRP341b</td>\n    </tr>\n    <tr>\n      <th>4442</th>\n      <td>intersection</td>\n      <td>Z1031</td>\n      <td>LRPS</td>\n      <td>N1</td>\n      <td>LRP142a</td>\n    </tr>\n    <tr>\n      <th>4444</th>\n      <td>intersection</td>\n      <td>Z1031</td>\n      <td>LRP001b</td>\n      <td>N1</td>\n      <td>LRP143a</td>\n    </tr>\n    <tr>\n      <th>4506</th>\n      <td>intersection</td>\n      <td>Z1034</td>\n      <td>LRP002a</td>\n      <td>N1</td>\n      <td>LRP152a</td>\n    </tr>\n    <tr>\n      <th>4508</th>\n      <td>intersection</td>\n      <td>Z1034</td>\n      <td>LRP002b</td>\n      <td>N1</td>\n      <td>LRP152b</td>\n    </tr>\n    <tr>\n      <th>4588</th>\n      <td>intersection</td>\n      <td>Z1042</td>\n      <td>LRPS</td>\n      <td>N1</td>\n      <td>LRP056c</td>\n    </tr>\n    <tr>\n      <th>4716</th>\n      <td>intersection</td>\n      <td>Z1044</td>\n      <td>LRPS</td>\n      <td>N1</td>\n      <td>LRP047a</td>\n    </tr>\n    <tr>\n      <th>4824</th>\n      <td>intersection</td>\n      <td>Z1048</td>\n      <td>LRPE</td>\n      <td>N1</td>\n      <td>LRP130a</td>\n    </tr>\n    <tr>\n      <th>4944</th>\n      <td>intersection</td>\n      <td>Z1402</td>\n      <td>LRPE</td>\n      <td>N1</td>\n      <td>LRP046a</td>\n    </tr>\n    <tr>\n      <th>4996</th>\n      <td>intersection</td>\n      <td>Z2013</td>\n      <td>LRPS</td>\n      <td>N2</td>\n      <td>LRP225b</td>\n    </tr>\n  </tbody>\n</table>\n</div>"
     },
     "execution_count": 70,
     "metadata": {},
     "output_type": "execute_result"
    }
   ],
   "source": [
    "N1N2_filled_links[N1N2_filled_links['model_type']=='intersection'][['model_type','road','LRPName','road_to','closest_lrp']]"
   ],
   "metadata": {
    "collapsed": false,
    "ExecuteTime": {
     "end_time": "2024-04-03T12:39:03.046617700Z",
     "start_time": "2024-04-03T12:39:02.822317700Z"
    }
   },
   "id": "828893de299537a2"
  },
  {
   "cell_type": "code",
   "execution_count": 71,
   "outputs": [],
   "source": [
    "id=1\n",
    "for i in N1N2_filled_links.index:\n",
    "    N1N2_filled_links.at[i,'id']= id\n",
    "    id+=1\n",
    "\n",
    "ids_dict = {}        \n",
    "for i in N1N2_filled_links[N1N2_filled_links['model_type']=='intersection'].index:\n",
    "    if (N1N2_filled_links.at[i,'road']=='N1') or (N1N2_filled_links.at[i,'road']=='N2'):\n",
    "        ids_dict[N1N2_filled_links.at[i,'id']]= (N1N2_filled_links.at[i,'lat'],N1N2_filled_links.at[i,'lon'])   "
   ],
   "metadata": {
    "collapsed": false,
    "ExecuteTime": {
     "end_time": "2024-04-03T12:39:03.094618Z",
     "start_time": "2024-04-03T12:39:02.851118700Z"
    }
   },
   "id": "e63e9766bf751c3"
  },
  {
   "cell_type": "code",
   "execution_count": 72,
   "outputs": [],
   "source": [
    "ct = 0\n",
    "for index, row in N1N2_filled_links.iterrows():\n",
    "    lat_lon_pair = (row['lat'], row['lon'])\n",
    "    for key, value_set in ids_dict.items():\n",
    "        # print(type(value_set))\n",
    "        if (lat_lon_pair[0]==value_set[0]) and (lat_lon_pair[1]==value_set[1]):\n",
    "            ct +=1\n",
    "            N1N2_filled_links.at[index, 'id'] = key\n",
    "            break  # Exit the loop once a match is found"
   ],
   "metadata": {
    "collapsed": false,
    "ExecuteTime": {
     "end_time": "2024-04-03T12:39:03.295678200Z",
     "start_time": "2024-04-03T12:39:02.958775400Z"
    }
   },
   "id": "632330696735bcd8"
  },
  {
   "cell_type": "code",
   "execution_count": 73,
   "outputs": [
    {
     "data": {
      "text/plain": "51"
     },
     "execution_count": 73,
     "metadata": {},
     "output_type": "execute_result"
    }
   ],
   "source": [
    "ct"
   ],
   "metadata": {
    "collapsed": false,
    "ExecuteTime": {
     "end_time": "2024-04-03T12:39:03.295678200Z",
     "start_time": "2024-04-03T12:39:03.268721400Z"
    }
   },
   "id": "4c91f8012732fab9"
  },
  {
   "cell_type": "code",
   "execution_count": 74,
   "outputs": [
    {
     "data": {
      "text/plain": "      index Unnamed: 0.1   road      km         type  LRPName  \\\n0         0          NaN     N1     NaN       Others     LRPS   \n1         1          NaN     N1     NaN          NaN      NaN   \n2         2       2000.0     N1     1.8  Box Culvert  LRP001a   \n3         3          NaN     N1     NaN          NaN      NaN   \n4         4       1998.0     N1   4.925  Box Culvert  LRP004b   \n...     ...          ...    ...     ...          ...      ...   \n4970   4992       2078.0  Z2013  18.995  Box Culvert  LRP018c   \n4971   4993          NaN  Z2013     NaN          NaN      NaN   \n4972   4994          NaN  Z2013     NaN       Others     LRPE   \n4973   4995          NaN  Z2013     NaN          NaN      NaN   \n4974   4996          NaN  Z2013     NaN       Others     LRPS   \n\n                                                   name        length  \\\n0     Start of Road  after Jatrabari Flyover infront...           NaN   \n1                                                link 1   1776.650373   \n2                                                     .          11.3   \n3                                                link 2   2978.663177   \n4                                                     .           6.6   \n...                                                 ...           ...   \n4970                                    LONGIRA CULVERT           6.0   \n4971                                            link 25   5331.997408   \n4972                      Road End With Borobaga River.           NaN   \n4973                                                NaN  23537.780069   \n4974            Road Start From N2 at Chandipool Sylhet           NaN   \n\n     condition structureNr  ... distance_to_closest closest_lat closest_lon  \\\n0          NaN         NaN  ...                 NaN         NaN         NaN   \n1          NaN         NaN  ...                 NaN         NaN         NaN   \n2            A    117861.0  ...                 NaN         NaN         NaN   \n3          NaN         NaN  ...                 NaN         NaN         NaN   \n4            A    117862.0  ...                 NaN         NaN         NaN   \n...        ...         ...  ...                 ...         ...         ...   \n4970         A    105447.0  ...                 NaN         NaN         NaN   \n4971       NaN         NaN  ...                 NaN         NaN         NaN   \n4972       NaN         NaN  ...                 NaN         NaN         NaN   \n4973       NaN         NaN  ...                 NaN         NaN         NaN   \n4974       NaN         NaN  ...                 0.0   24.867305   91.856806   \n\n     closest_lrp closest_name closest_type closest_chainage intersection  \\\n0            NaN          NaN          NaN              NaN          NaN   \n1            NaN          NaN          NaN              NaN          NaN   \n2            NaN          NaN          NaN              NaN          NaN   \n3            NaN          NaN          NaN              NaN          NaN   \n4            NaN          NaN          NaN              NaN          NaN   \n...          ...          ...          ...              ...          ...   \n4970         NaN          NaN          NaN              NaN          NaN   \n4971         NaN          NaN          NaN              NaN          NaN   \n4972         NaN          NaN          NaN              NaN          NaN   \n4973         NaN          NaN          NaN              NaN          NaN   \n4974     LRP225b          NaN          NaN              0.0          NaN   \n\n         trios      id  \n0      group 1     1.0  \n1          NaN     2.0  \n2          NaN     3.0  \n3          NaN     4.0  \n4          NaN     5.0  \n...        ...     ...  \n4970       NaN  4971.0  \n4971       NaN  4972.0  \n4972  group 18  4973.0  \n4973       NaN  4974.0  \n4974       NaN  2466.0  \n\n[4975 rows x 38 columns]",
      "text/html": "<div>\n<style scoped>\n    .dataframe tbody tr th:only-of-type {\n        vertical-align: middle;\n    }\n\n    .dataframe tbody tr th {\n        vertical-align: top;\n    }\n\n    .dataframe thead th {\n        text-align: right;\n    }\n</style>\n<table border=\"1\" class=\"dataframe\">\n  <thead>\n    <tr style=\"text-align: right;\">\n      <th></th>\n      <th>index</th>\n      <th>Unnamed: 0.1</th>\n      <th>road</th>\n      <th>km</th>\n      <th>type</th>\n      <th>LRPName</th>\n      <th>name</th>\n      <th>length</th>\n      <th>condition</th>\n      <th>structureNr</th>\n      <th>...</th>\n      <th>distance_to_closest</th>\n      <th>closest_lat</th>\n      <th>closest_lon</th>\n      <th>closest_lrp</th>\n      <th>closest_name</th>\n      <th>closest_type</th>\n      <th>closest_chainage</th>\n      <th>intersection</th>\n      <th>trios</th>\n      <th>id</th>\n    </tr>\n  </thead>\n  <tbody>\n    <tr>\n      <th>0</th>\n      <td>0</td>\n      <td>NaN</td>\n      <td>N1</td>\n      <td>NaN</td>\n      <td>Others</td>\n      <td>LRPS</td>\n      <td>Start of Road  after Jatrabari Flyover infront...</td>\n      <td>NaN</td>\n      <td>NaN</td>\n      <td>NaN</td>\n      <td>...</td>\n      <td>NaN</td>\n      <td>NaN</td>\n      <td>NaN</td>\n      <td>NaN</td>\n      <td>NaN</td>\n      <td>NaN</td>\n      <td>NaN</td>\n      <td>NaN</td>\n      <td>group 1</td>\n      <td>1.0</td>\n    </tr>\n    <tr>\n      <th>1</th>\n      <td>1</td>\n      <td>NaN</td>\n      <td>N1</td>\n      <td>NaN</td>\n      <td>NaN</td>\n      <td>NaN</td>\n      <td>link 1</td>\n      <td>1776.650373</td>\n      <td>NaN</td>\n      <td>NaN</td>\n      <td>...</td>\n      <td>NaN</td>\n      <td>NaN</td>\n      <td>NaN</td>\n      <td>NaN</td>\n      <td>NaN</td>\n      <td>NaN</td>\n      <td>NaN</td>\n      <td>NaN</td>\n      <td>NaN</td>\n      <td>2.0</td>\n    </tr>\n    <tr>\n      <th>2</th>\n      <td>2</td>\n      <td>2000.0</td>\n      <td>N1</td>\n      <td>1.8</td>\n      <td>Box Culvert</td>\n      <td>LRP001a</td>\n      <td>.</td>\n      <td>11.3</td>\n      <td>A</td>\n      <td>117861.0</td>\n      <td>...</td>\n      <td>NaN</td>\n      <td>NaN</td>\n      <td>NaN</td>\n      <td>NaN</td>\n      <td>NaN</td>\n      <td>NaN</td>\n      <td>NaN</td>\n      <td>NaN</td>\n      <td>NaN</td>\n      <td>3.0</td>\n    </tr>\n    <tr>\n      <th>3</th>\n      <td>3</td>\n      <td>NaN</td>\n      <td>N1</td>\n      <td>NaN</td>\n      <td>NaN</td>\n      <td>NaN</td>\n      <td>link 2</td>\n      <td>2978.663177</td>\n      <td>NaN</td>\n      <td>NaN</td>\n      <td>...</td>\n      <td>NaN</td>\n      <td>NaN</td>\n      <td>NaN</td>\n      <td>NaN</td>\n      <td>NaN</td>\n      <td>NaN</td>\n      <td>NaN</td>\n      <td>NaN</td>\n      <td>NaN</td>\n      <td>4.0</td>\n    </tr>\n    <tr>\n      <th>4</th>\n      <td>4</td>\n      <td>1998.0</td>\n      <td>N1</td>\n      <td>4.925</td>\n      <td>Box Culvert</td>\n      <td>LRP004b</td>\n      <td>.</td>\n      <td>6.6</td>\n      <td>A</td>\n      <td>117862.0</td>\n      <td>...</td>\n      <td>NaN</td>\n      <td>NaN</td>\n      <td>NaN</td>\n      <td>NaN</td>\n      <td>NaN</td>\n      <td>NaN</td>\n      <td>NaN</td>\n      <td>NaN</td>\n      <td>NaN</td>\n      <td>5.0</td>\n    </tr>\n    <tr>\n      <th>...</th>\n      <td>...</td>\n      <td>...</td>\n      <td>...</td>\n      <td>...</td>\n      <td>...</td>\n      <td>...</td>\n      <td>...</td>\n      <td>...</td>\n      <td>...</td>\n      <td>...</td>\n      <td>...</td>\n      <td>...</td>\n      <td>...</td>\n      <td>...</td>\n      <td>...</td>\n      <td>...</td>\n      <td>...</td>\n      <td>...</td>\n      <td>...</td>\n      <td>...</td>\n      <td>...</td>\n    </tr>\n    <tr>\n      <th>4970</th>\n      <td>4992</td>\n      <td>2078.0</td>\n      <td>Z2013</td>\n      <td>18.995</td>\n      <td>Box Culvert</td>\n      <td>LRP018c</td>\n      <td>LONGIRA CULVERT</td>\n      <td>6.0</td>\n      <td>A</td>\n      <td>105447.0</td>\n      <td>...</td>\n      <td>NaN</td>\n      <td>NaN</td>\n      <td>NaN</td>\n      <td>NaN</td>\n      <td>NaN</td>\n      <td>NaN</td>\n      <td>NaN</td>\n      <td>NaN</td>\n      <td>NaN</td>\n      <td>4971.0</td>\n    </tr>\n    <tr>\n      <th>4971</th>\n      <td>4993</td>\n      <td>NaN</td>\n      <td>Z2013</td>\n      <td>NaN</td>\n      <td>NaN</td>\n      <td>NaN</td>\n      <td>link 25</td>\n      <td>5331.997408</td>\n      <td>NaN</td>\n      <td>NaN</td>\n      <td>...</td>\n      <td>NaN</td>\n      <td>NaN</td>\n      <td>NaN</td>\n      <td>NaN</td>\n      <td>NaN</td>\n      <td>NaN</td>\n      <td>NaN</td>\n      <td>NaN</td>\n      <td>NaN</td>\n      <td>4972.0</td>\n    </tr>\n    <tr>\n      <th>4972</th>\n      <td>4994</td>\n      <td>NaN</td>\n      <td>Z2013</td>\n      <td>NaN</td>\n      <td>Others</td>\n      <td>LRPE</td>\n      <td>Road End With Borobaga River.</td>\n      <td>NaN</td>\n      <td>NaN</td>\n      <td>NaN</td>\n      <td>...</td>\n      <td>NaN</td>\n      <td>NaN</td>\n      <td>NaN</td>\n      <td>NaN</td>\n      <td>NaN</td>\n      <td>NaN</td>\n      <td>NaN</td>\n      <td>NaN</td>\n      <td>group 18</td>\n      <td>4973.0</td>\n    </tr>\n    <tr>\n      <th>4973</th>\n      <td>4995</td>\n      <td>NaN</td>\n      <td>Z2013</td>\n      <td>NaN</td>\n      <td>NaN</td>\n      <td>NaN</td>\n      <td>NaN</td>\n      <td>23537.780069</td>\n      <td>NaN</td>\n      <td>NaN</td>\n      <td>...</td>\n      <td>NaN</td>\n      <td>NaN</td>\n      <td>NaN</td>\n      <td>NaN</td>\n      <td>NaN</td>\n      <td>NaN</td>\n      <td>NaN</td>\n      <td>NaN</td>\n      <td>NaN</td>\n      <td>4974.0</td>\n    </tr>\n    <tr>\n      <th>4974</th>\n      <td>4996</td>\n      <td>NaN</td>\n      <td>Z2013</td>\n      <td>NaN</td>\n      <td>Others</td>\n      <td>LRPS</td>\n      <td>Road Start From N2 at Chandipool Sylhet</td>\n      <td>NaN</td>\n      <td>NaN</td>\n      <td>NaN</td>\n      <td>...</td>\n      <td>0.0</td>\n      <td>24.867305</td>\n      <td>91.856806</td>\n      <td>LRP225b</td>\n      <td>NaN</td>\n      <td>NaN</td>\n      <td>0.0</td>\n      <td>NaN</td>\n      <td>NaN</td>\n      <td>2466.0</td>\n    </tr>\n  </tbody>\n</table>\n<p>4975 rows × 38 columns</p>\n</div>"
     },
     "execution_count": 74,
     "metadata": {},
     "output_type": "execute_result"
    }
   ],
   "source": [
    "N1N2_filled_links = N1N2_filled_links.reset_index()\n",
    "N1N2_filled_links"
   ],
   "metadata": {
    "collapsed": false,
    "ExecuteTime": {
     "end_time": "2024-04-03T12:39:03.492136800Z",
     "start_time": "2024-04-03T12:39:03.271671900Z"
    }
   },
   "id": "ca4438670e7bec2"
  },
  {
   "cell_type": "code",
   "execution_count": 75,
   "outputs": [],
   "source": [
    "for i in N1N2_filled_links.index:\n",
    "    if i+2 <= len(N1N2_filled_links):\n",
    "        if N1N2_filled_links.at[i+1, 'road']!= N1N2_filled_links.at[i, 'road']:\n",
    "            N1N2_filled_links.at[i, 'length']= 0"
   ],
   "metadata": {
    "collapsed": false,
    "ExecuteTime": {
     "end_time": "2024-04-03T12:39:03.661027300Z",
     "start_time": "2024-04-03T12:39:03.484122500Z"
    }
   },
   "id": "8de2b4f80648aa19"
  },
  {
   "cell_type": "code",
   "execution_count": 76,
   "outputs": [
    {
     "data": {
      "text/plain": "model_type\nlink               2477\nbridge             2385\nintersection         47\nsourcesink           44\nintersourcesink      22\nName: count, dtype: int64"
     },
     "execution_count": 76,
     "metadata": {},
     "output_type": "execute_result"
    }
   ],
   "source": [
    "N1N2_filled_links.model_type.value_counts()"
   ],
   "metadata": {
    "collapsed": false,
    "ExecuteTime": {
     "end_time": "2024-04-03T12:39:03.661027300Z",
     "start_time": "2024-04-03T12:39:03.626708Z"
    }
   },
   "id": "c2048f4f7bfb11c5"
  },
  {
   "cell_type": "code",
   "execution_count": 77,
   "outputs": [],
   "source": [
    "N1N2_filled_links.to_csv('../data/processed/cleaned_data_final.csv')"
   ],
   "metadata": {
    "collapsed": false,
    "ExecuteTime": {
     "end_time": "2024-04-03T12:39:03.725730200Z",
     "start_time": "2024-04-03T12:39:03.637022Z"
    }
   },
   "id": "cacc5b333f8cb3f5"
  },
  {
   "cell_type": "code",
   "execution_count": 77,
   "outputs": [],
   "source": [],
   "metadata": {
    "collapsed": false,
    "ExecuteTime": {
     "end_time": "2024-04-03T12:39:03.725730200Z",
     "start_time": "2024-04-03T12:39:03.710096400Z"
    }
   },
   "id": "3fcbbfdf522f0fa2"
  }
 ],
 "metadata": {
  "kernelspec": {
   "display_name": "Python 3",
   "language": "python",
   "name": "python3"
  },
  "language_info": {
   "codemirror_mode": {
    "name": "ipython",
    "version": 2
   },
   "file_extension": ".py",
   "mimetype": "text/x-python",
   "name": "python",
   "nbconvert_exporter": "python",
   "pygments_lexer": "ipython2",
   "version": "2.7.6"
  }
 },
 "nbformat": 4,
 "nbformat_minor": 5
}
