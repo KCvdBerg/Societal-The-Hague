{
 "cells": [
  {
   "cell_type": "markdown",
   "source": [
    "## Load in the bridge dataset"
   ],
   "metadata": {
    "collapsed": false
   },
   "id": "9d4dc7b4934314f3"
  },
  {
   "cell_type": "code",
   "outputs": [],
   "source": [
    "import pandas as pd\n",
    "import numpy as np\n",
    "import matplotlib.pyplot as plt"
   ],
   "metadata": {
    "collapsed": false,
    "ExecuteTime": {
     "end_time": "2024-04-02T19:16:30.331869400Z",
     "start_time": "2024-04-02T19:16:30.326613300Z"
    }
   },
   "id": "be49087c5a1ceb9a",
   "execution_count": 4
  },
  {
   "cell_type": "code",
   "outputs": [
    {
     "data": {
      "text/plain": "        road      km                   type  LRPName               name  \\\n0         N1   1.800            Box Culvert  LRP001a                  .   \n1         N1   4.925            Box Culvert  LRP004b                  .   \n2         N1   8.976       PC Girder Bridge  LRP008b  Kanch pur Bridge.   \n3         N1  10.880            Box Culvert  LRP010b   NOYAPARA CULVERT   \n4         N1  10.897            Box Culvert  LRP010c     ADUPUR CULVERT   \n...      ...     ...                    ...      ...                ...   \n20410  Z8806  83.728            Box Culvert  LRP083a                  .   \n20411  Z8810   3.981  Steel Beam & RCC Slab  LRP003b                  .   \n20412  Z8814  20.730  Baily with Steel Deck  LRP020b     Kalbari Bridge   \n20413  Z8910  28.880      RCC Girder Bridge  LRP028a   Narainpur Bridge   \n20414  Z8910  33.530      RCC Girder Bridge  LRP033c       Jor Bridge 2   \n\n       length condition  structureNr  \\\n0       11.30         A       117861   \n1        6.60         A       117862   \n2      394.23         A       119889   \n3        6.30         A       112531   \n4        6.30         A       112532   \n...       ...       ...          ...   \n20410    1.78         D       110470   \n20411   27.20         D       113458   \n20412   30.50         D       121147   \n20413    9.50         D       119249   \n20414    6.00         D       119254   \n\n                                                roadName  chainage  width  \\\n0      Dhaka (Jatrabari)-Comilla (Mainamati)-Chittago...     1.800   19.5   \n1      Dhaka (Jatrabari)-Comilla (Mainamati)-Chittago...     4.925   35.4   \n2      Dhaka (Jatrabari)-Comilla (Mainamati)-Chittago...     8.976    NaN   \n3      Dhaka (Jatrabari)-Comilla (Mainamati)-Chittago...    10.880   12.2   \n4      Dhaka (Jatrabari)-Comilla (Mainamati)-Chittago...    10.897   12.2   \n...                                                  ...       ...    ...   \n20410  Lebukhali-Dumki-Boga-Bauphal-Kalaiya-Dashmina-...    83.728    7.6   \n20411  Bakerganj-Padrishibpur-Kathaltali-Subidkhali-B...     3.981    3.2   \n20412  Barguna (Dakhin Ramna Kheya Ghat)-Dewatala-Mat...    20.730    NaN   \n20413       Barisal (Bairagirpool)-Tumchar-Bauphaul Road    28.880    NaN   \n20414       Barisal (Bairagirpool)-Tumchar-Bauphaul Road    33.530    NaN   \n\n       constructionYear  spans     zone      circle     division  \\\n0                2005.0    2.0    Dhaka       Dhaka  Narayanganj   \n1                2006.0    1.0    Dhaka       Dhaka  Narayanganj   \n2                   NaN    NaN    Dhaka       Dhaka  Narayanganj   \n3                1992.0    2.0    Dhaka       Dhaka  Narayanganj   \n4                1984.0    2.0    Dhaka       Dhaka  Narayanganj   \n...                 ...    ...      ...         ...          ...   \n20410            1980.0    1.0  Barisal  Patuakhali      Barguna   \n20411            1979.0    5.0  Barisal     Barisal      Barisal   \n20412               NaN    NaN  Barisal     Barisal     Pirojpur   \n20413               NaN    NaN  Barisal  Patuakhali   Patuakhali   \n20414               NaN    NaN  Barisal  Patuakhali   Patuakhali   \n\n        sub-division        lat        lon EstimatedLoc  \n0      Narayanganj-1  23.698739  90.458861  interpolate  \n1      Narayanganj-1  23.694664  90.487775  interpolate  \n2      Narayanganj-1  23.705060  90.523214  interpolate  \n3          Vitikandi  23.694391  90.537574  interpolate  \n4          Vitikandi  23.694302  90.537707  interpolate  \n...              ...        ...        ...          ...  \n20410        Barguna  22.183448  90.299962  interpolate  \n20411      Barisal-1  22.519353  90.310063  interpolate  \n20412       Kawkhali  22.282704  89.968512  interpolate  \n20413     Patuakhali  22.510650  90.535314  interpolate  \n20414     Patuakhali  22.474325  90.557335  interpolate  \n\n[20415 rows x 20 columns]",
      "text/html": "<div>\n<style scoped>\n    .dataframe tbody tr th:only-of-type {\n        vertical-align: middle;\n    }\n\n    .dataframe tbody tr th {\n        vertical-align: top;\n    }\n\n    .dataframe thead th {\n        text-align: right;\n    }\n</style>\n<table border=\"1\" class=\"dataframe\">\n  <thead>\n    <tr style=\"text-align: right;\">\n      <th></th>\n      <th>road</th>\n      <th>km</th>\n      <th>type</th>\n      <th>LRPName</th>\n      <th>name</th>\n      <th>length</th>\n      <th>condition</th>\n      <th>structureNr</th>\n      <th>roadName</th>\n      <th>chainage</th>\n      <th>width</th>\n      <th>constructionYear</th>\n      <th>spans</th>\n      <th>zone</th>\n      <th>circle</th>\n      <th>division</th>\n      <th>sub-division</th>\n      <th>lat</th>\n      <th>lon</th>\n      <th>EstimatedLoc</th>\n    </tr>\n  </thead>\n  <tbody>\n    <tr>\n      <th>0</th>\n      <td>N1</td>\n      <td>1.800</td>\n      <td>Box Culvert</td>\n      <td>LRP001a</td>\n      <td>.</td>\n      <td>11.30</td>\n      <td>A</td>\n      <td>117861</td>\n      <td>Dhaka (Jatrabari)-Comilla (Mainamati)-Chittago...</td>\n      <td>1.800</td>\n      <td>19.5</td>\n      <td>2005.0</td>\n      <td>2.0</td>\n      <td>Dhaka</td>\n      <td>Dhaka</td>\n      <td>Narayanganj</td>\n      <td>Narayanganj-1</td>\n      <td>23.698739</td>\n      <td>90.458861</td>\n      <td>interpolate</td>\n    </tr>\n    <tr>\n      <th>1</th>\n      <td>N1</td>\n      <td>4.925</td>\n      <td>Box Culvert</td>\n      <td>LRP004b</td>\n      <td>.</td>\n      <td>6.60</td>\n      <td>A</td>\n      <td>117862</td>\n      <td>Dhaka (Jatrabari)-Comilla (Mainamati)-Chittago...</td>\n      <td>4.925</td>\n      <td>35.4</td>\n      <td>2006.0</td>\n      <td>1.0</td>\n      <td>Dhaka</td>\n      <td>Dhaka</td>\n      <td>Narayanganj</td>\n      <td>Narayanganj-1</td>\n      <td>23.694664</td>\n      <td>90.487775</td>\n      <td>interpolate</td>\n    </tr>\n    <tr>\n      <th>2</th>\n      <td>N1</td>\n      <td>8.976</td>\n      <td>PC Girder Bridge</td>\n      <td>LRP008b</td>\n      <td>Kanch pur Bridge.</td>\n      <td>394.23</td>\n      <td>A</td>\n      <td>119889</td>\n      <td>Dhaka (Jatrabari)-Comilla (Mainamati)-Chittago...</td>\n      <td>8.976</td>\n      <td>NaN</td>\n      <td>NaN</td>\n      <td>NaN</td>\n      <td>Dhaka</td>\n      <td>Dhaka</td>\n      <td>Narayanganj</td>\n      <td>Narayanganj-1</td>\n      <td>23.705060</td>\n      <td>90.523214</td>\n      <td>interpolate</td>\n    </tr>\n    <tr>\n      <th>3</th>\n      <td>N1</td>\n      <td>10.880</td>\n      <td>Box Culvert</td>\n      <td>LRP010b</td>\n      <td>NOYAPARA CULVERT</td>\n      <td>6.30</td>\n      <td>A</td>\n      <td>112531</td>\n      <td>Dhaka (Jatrabari)-Comilla (Mainamati)-Chittago...</td>\n      <td>10.880</td>\n      <td>12.2</td>\n      <td>1992.0</td>\n      <td>2.0</td>\n      <td>Dhaka</td>\n      <td>Dhaka</td>\n      <td>Narayanganj</td>\n      <td>Vitikandi</td>\n      <td>23.694391</td>\n      <td>90.537574</td>\n      <td>interpolate</td>\n    </tr>\n    <tr>\n      <th>4</th>\n      <td>N1</td>\n      <td>10.897</td>\n      <td>Box Culvert</td>\n      <td>LRP010c</td>\n      <td>ADUPUR CULVERT</td>\n      <td>6.30</td>\n      <td>A</td>\n      <td>112532</td>\n      <td>Dhaka (Jatrabari)-Comilla (Mainamati)-Chittago...</td>\n      <td>10.897</td>\n      <td>12.2</td>\n      <td>1984.0</td>\n      <td>2.0</td>\n      <td>Dhaka</td>\n      <td>Dhaka</td>\n      <td>Narayanganj</td>\n      <td>Vitikandi</td>\n      <td>23.694302</td>\n      <td>90.537707</td>\n      <td>interpolate</td>\n    </tr>\n    <tr>\n      <th>...</th>\n      <td>...</td>\n      <td>...</td>\n      <td>...</td>\n      <td>...</td>\n      <td>...</td>\n      <td>...</td>\n      <td>...</td>\n      <td>...</td>\n      <td>...</td>\n      <td>...</td>\n      <td>...</td>\n      <td>...</td>\n      <td>...</td>\n      <td>...</td>\n      <td>...</td>\n      <td>...</td>\n      <td>...</td>\n      <td>...</td>\n      <td>...</td>\n      <td>...</td>\n    </tr>\n    <tr>\n      <th>20410</th>\n      <td>Z8806</td>\n      <td>83.728</td>\n      <td>Box Culvert</td>\n      <td>LRP083a</td>\n      <td>.</td>\n      <td>1.78</td>\n      <td>D</td>\n      <td>110470</td>\n      <td>Lebukhali-Dumki-Boga-Bauphal-Kalaiya-Dashmina-...</td>\n      <td>83.728</td>\n      <td>7.6</td>\n      <td>1980.0</td>\n      <td>1.0</td>\n      <td>Barisal</td>\n      <td>Patuakhali</td>\n      <td>Barguna</td>\n      <td>Barguna</td>\n      <td>22.183448</td>\n      <td>90.299962</td>\n      <td>interpolate</td>\n    </tr>\n    <tr>\n      <th>20411</th>\n      <td>Z8810</td>\n      <td>3.981</td>\n      <td>Steel Beam &amp; RCC Slab</td>\n      <td>LRP003b</td>\n      <td>.</td>\n      <td>27.20</td>\n      <td>D</td>\n      <td>113458</td>\n      <td>Bakerganj-Padrishibpur-Kathaltali-Subidkhali-B...</td>\n      <td>3.981</td>\n      <td>3.2</td>\n      <td>1979.0</td>\n      <td>5.0</td>\n      <td>Barisal</td>\n      <td>Barisal</td>\n      <td>Barisal</td>\n      <td>Barisal-1</td>\n      <td>22.519353</td>\n      <td>90.310063</td>\n      <td>interpolate</td>\n    </tr>\n    <tr>\n      <th>20412</th>\n      <td>Z8814</td>\n      <td>20.730</td>\n      <td>Baily with Steel Deck</td>\n      <td>LRP020b</td>\n      <td>Kalbari Bridge</td>\n      <td>30.50</td>\n      <td>D</td>\n      <td>121147</td>\n      <td>Barguna (Dakhin Ramna Kheya Ghat)-Dewatala-Mat...</td>\n      <td>20.730</td>\n      <td>NaN</td>\n      <td>NaN</td>\n      <td>NaN</td>\n      <td>Barisal</td>\n      <td>Barisal</td>\n      <td>Pirojpur</td>\n      <td>Kawkhali</td>\n      <td>22.282704</td>\n      <td>89.968512</td>\n      <td>interpolate</td>\n    </tr>\n    <tr>\n      <th>20413</th>\n      <td>Z8910</td>\n      <td>28.880</td>\n      <td>RCC Girder Bridge</td>\n      <td>LRP028a</td>\n      <td>Narainpur Bridge</td>\n      <td>9.50</td>\n      <td>D</td>\n      <td>119249</td>\n      <td>Barisal (Bairagirpool)-Tumchar-Bauphaul Road</td>\n      <td>28.880</td>\n      <td>NaN</td>\n      <td>NaN</td>\n      <td>NaN</td>\n      <td>Barisal</td>\n      <td>Patuakhali</td>\n      <td>Patuakhali</td>\n      <td>Patuakhali</td>\n      <td>22.510650</td>\n      <td>90.535314</td>\n      <td>interpolate</td>\n    </tr>\n    <tr>\n      <th>20414</th>\n      <td>Z8910</td>\n      <td>33.530</td>\n      <td>RCC Girder Bridge</td>\n      <td>LRP033c</td>\n      <td>Jor Bridge 2</td>\n      <td>6.00</td>\n      <td>D</td>\n      <td>119254</td>\n      <td>Barisal (Bairagirpool)-Tumchar-Bauphaul Road</td>\n      <td>33.530</td>\n      <td>NaN</td>\n      <td>NaN</td>\n      <td>NaN</td>\n      <td>Barisal</td>\n      <td>Patuakhali</td>\n      <td>Patuakhali</td>\n      <td>Patuakhali</td>\n      <td>22.474325</td>\n      <td>90.557335</td>\n      <td>interpolate</td>\n    </tr>\n  </tbody>\n</table>\n<p>20415 rows × 20 columns</p>\n</div>"
     },
     "execution_count": 5,
     "metadata": {},
     "output_type": "execute_result"
    }
   ],
   "source": [
    "bridges_full = pd.read_excel('../data/raw/BMMS_overview.xlsx')\n",
    "bridges_full"
   ],
   "metadata": {
    "collapsed": false,
    "ExecuteTime": {
     "end_time": "2024-04-02T19:16:33.367989800Z",
     "start_time": "2024-04-02T19:16:30.331869400Z"
    }
   },
   "id": "91f7f1203515063f",
   "execution_count": 5
  },
  {
   "cell_type": "code",
   "outputs": [
    {
     "data": {
      "text/plain": "Empty DataFrame\nColumns: [road, km, type, LRPName, name, length, condition, structureNr, roadName, chainage, width, constructionYear, spans, zone, circle, division, sub-division, lat, lon, EstimatedLoc]\nIndex: []",
      "text/html": "<div>\n<style scoped>\n    .dataframe tbody tr th:only-of-type {\n        vertical-align: middle;\n    }\n\n    .dataframe tbody tr th {\n        vertical-align: top;\n    }\n\n    .dataframe thead th {\n        text-align: right;\n    }\n</style>\n<table border=\"1\" class=\"dataframe\">\n  <thead>\n    <tr style=\"text-align: right;\">\n      <th></th>\n      <th>road</th>\n      <th>km</th>\n      <th>type</th>\n      <th>LRPName</th>\n      <th>name</th>\n      <th>length</th>\n      <th>condition</th>\n      <th>structureNr</th>\n      <th>roadName</th>\n      <th>chainage</th>\n      <th>width</th>\n      <th>constructionYear</th>\n      <th>spans</th>\n      <th>zone</th>\n      <th>circle</th>\n      <th>division</th>\n      <th>sub-division</th>\n      <th>lat</th>\n      <th>lon</th>\n      <th>EstimatedLoc</th>\n    </tr>\n  </thead>\n  <tbody>\n  </tbody>\n</table>\n</div>"
     },
     "execution_count": 6,
     "metadata": {},
     "output_type": "execute_result"
    }
   ],
   "source": [
    "# Verify that there are no duplicate structure numbers \n",
    "bridges_full[bridges_full.duplicated('structureNr')]"
   ],
   "metadata": {
    "collapsed": false,
    "ExecuteTime": {
     "end_time": "2024-04-02T19:16:33.388069300Z",
     "start_time": "2024-04-02T19:16:33.362342Z"
    }
   },
   "id": "5f9067c9a45cbea6",
   "execution_count": 6
  },
  {
   "cell_type": "code",
   "outputs": [],
   "source": [
    "# From the previous assignment we know that bridges that are duplicated on either LRPName or coordinates, are mostly the same on other values as well. Some have minimal differences on bridge length or have missing values. Because of this, this function identifies duplicates based on only LRPName and chainage, for latter of which has been added as addittional check. \n",
    "def find_dupes_LRP(dataframe):\n",
    "    df_copy = dataframe.copy()\n",
    "    df_copy.sort_values(by=['LRPName', 'width'], inplace=True) #sort in such a way that the NaN values will be the bottom row\n",
    "    df_copy.reset_index(inplace=True)\n",
    "    # Check how many times each of the LRPs occur in the dataframe\n",
    "    LRP_values = df_copy['LRPName'].value_counts()\n",
    "    LRP_list = list(set((df_copy['LRPName'].to_list())))\n",
    "    to_be_removed = []\n",
    "    \n",
    "    # For each LRP in the list, check if it has a duplicate, if so delete the duplicates while making sure that the worst bridge condition is kept\n",
    "    for LRP in LRP_list:\n",
    "        if LRP_values[LRP] == 2:\n",
    "            bridge1_index = df_copy.index.get_loc(df_copy[df_copy['LRPName'] == LRP].index[0])\n",
    "            if df_copy.loc[bridge1_index, 'chainage'] == df_copy.loc[bridge1_index+1, 'chainage']: \n",
    "                con_bridge1 = df_copy.loc[bridge1_index, 'condition']\n",
    "                con_bridge2 = df_copy.loc[bridge1_index+1, 'condition']\n",
    "                if con_bridge1 < con_bridge2:\n",
    "                    df_copy.at[bridge1_index, 'condition'] = con_bridge2\n",
    "                to_be_removed.append(df_copy.loc[bridge1_index+1, 'structureNr'])\n",
    "            \n",
    "        if LRP_values[LRP] == 3:\n",
    "            bridge1_index = df_copy.index.get_loc(df_copy[df_copy['LRPName'] == LRP].index[0])\n",
    "            if df_copy.loc[bridge1_index, 'chainage'] == df_copy.loc[bridge1_index+1, 'chainage'] == df_copy.loc[bridge1_index+2, 'chainage']:\n",
    "                con_bridge1 = df_copy.loc[bridge1_index, 'condition']\n",
    "                con_bridge2 = df_copy.loc[bridge1_index+1, 'condition']\n",
    "                con_bridge3 = df_copy.loc[bridge1_index+2, 'condition']\n",
    "                if con_bridge1 < con_bridge2:\n",
    "                    df_copy.at[bridge1_index, 'condition'] = con_bridge2\n",
    "                if con_bridge1 < con_bridge3:\n",
    "                    df_copy.at[bridge1_index, 'condition'] = con_bridge3\n",
    "                to_be_removed.append(df_copy.loc[bridge1_index+1, 'structureNr'])\n",
    "                to_be_removed.append(df_copy.loc[bridge1_index+2, 'structureNr'])\n",
    "            \n",
    "        if LRP_values[LRP] == 4:\n",
    "            bridge1_index = df_copy.index.get_loc(df_copy[df_copy['LRPName'] == LRP].index[0])\n",
    "            if df_copy.loc[bridge1_index, 'chainage'] == df_copy.loc[bridge1_index+1, 'chainage'] == df_copy.loc[bridge1_index+2, 'chainage'] == df_copy.loc[bridge1_index+3, 'chainage']:\n",
    "                con_bridge1 = df_copy.loc[bridge1_index, 'condition']\n",
    "                con_bridge2 = df_copy.loc[bridge1_index+1, 'condition']\n",
    "                con_bridge3 = df_copy.loc[bridge1_index+2, 'condition']\n",
    "                con_bridge4 = df_copy.loc[bridge1_index+3, 'condition']\n",
    "                if con_bridge1 < con_bridge2:\n",
    "                    df_copy.at[bridge1_index, 'condition'] = con_bridge2\n",
    "                if con_bridge1 < con_bridge3:\n",
    "                    df_copy.at[bridge1_index, 'condition'] = con_bridge3\n",
    "                if con_bridge1 < con_bridge4:\n",
    "                    df_copy.at[bridge1_index, 'condition'] = con_bridge4\n",
    "                to_be_removed.append(df_copy.loc[bridge1_index+1, 'structureNr'])\n",
    "                to_be_removed.append(df_copy.loc[bridge1_index+2, 'structureNr'])\n",
    "                to_be_removed.append(df_copy.loc[bridge1_index+3, 'structureNr'])\n",
    "    \n",
    "    # Make a new dataframe containing only the cleaned bridges, and the ones that do not have a dupe\n",
    "    df_cleaned = df_copy[~df_copy['structureNr'].isin(to_be_removed)]\n",
    "    return df_cleaned"
   ],
   "metadata": {
    "collapsed": false,
    "ExecuteTime": {
     "end_time": "2024-04-02T19:16:33.426262600Z",
     "start_time": "2024-04-02T19:16:33.382937200Z"
    }
   },
   "id": "76faf5ccf39f1b64",
   "execution_count": 7
  },
  {
   "cell_type": "code",
   "outputs": [
    {
     "data": {
      "text/plain": "    index road      km               type  LRPName  \\\n2       2   N1   8.976   PC Girder Bridge  LRP008b   \n3   12706   N1   8.976   PC Girder Bridge  LRP008b   \n11      9   N1  12.660   PC Girder Bridge  LRP013a   \n12     10   N1  12.660   PC Girder Bridge  LRP013a   \n13      8   N1  12.660   PC Girder Bridge  LRP013a   \n17  14588   N1  17.134   PC Girder Bridge  LRP017b   \n18  12707   N1  17.134  RCC Girder Bridge  LRP017b   \n19  14590   N1  17.722   PC Girder Bridge  LRP018a   \n\n                           name  length condition  structureNr  \\\n2             Kanch pur Bridge.  394.23         A       119889   \n3     KANCHPUR PC GIRDER BRIDGE  397.00         C       101102   \n11                MADAN PUR (R)   26.30         A       109841   \n12           MADANPUR BRIDGE(L)   26.30         A       109838   \n13          Madanpur Bridge.(L)   27.50         A       119897   \n17  LANGOLBANDO PC GIDER BRIDGE  159.50         B       109808   \n18          Langalbandh Bridge.  159.52         C       119909   \n19         DARIKANDI BRIDGE (L)   20.00         B       109853   \n\n                                             roadName  ...  width  \\\n2   Dhaka (Jatrabari)-Comilla (Mainamati)-Chittago...  ...    NaN   \n3   Dhaka (Jatrabari)-Comilla (Mainamati)-Chittago...  ...  14.65   \n11  Dhaka (Jatrabari)-Comilla (Mainamati)-Chittago...  ...   9.20   \n12  Dhaka (Jatrabari)-Comilla (Mainamati)-Chittago...  ...   9.20   \n13  Dhaka (Jatrabari)-Comilla (Mainamati)-Chittago...  ...    NaN   \n17  Dhaka (Jatrabari)-Comilla (Mainamati)-Chittago...  ...  17.80   \n18  Dhaka (Jatrabari)-Comilla (Mainamati)-Chittago...  ...    NaN   \n19  Dhaka (Jatrabari)-Comilla (Mainamati)-Chittago...  ...   9.20   \n\n    constructionYear  spans   zone circle     division   sub-division  \\\n2                NaN    NaN  Dhaka  Dhaka  Narayanganj  Narayanganj-1   \n3             1986.0    8.0  Dhaka  Dhaka  Narayanganj  Narayanganj-1   \n11            2003.0    1.0  Dhaka  Dhaka  Narayanganj      Vitikandi   \n12            2003.0    1.0  Dhaka  Dhaka  Narayanganj      Vitikandi   \n13               NaN    NaN  Dhaka  Dhaka  Narayanganj      Vitikandi   \n17            1998.0    5.0  Dhaka  Dhaka  Narayanganj      Vitikandi   \n18               NaN    NaN  Dhaka  Dhaka  Narayanganj      Vitikandi   \n19            2002.0    1.0  Dhaka  Dhaka  Narayanganj      Vitikandi   \n\n          lat        lon  EstimatedLoc  \n2   23.705060  90.523214   interpolate  \n3   23.705060  90.523214   interpolate  \n11  23.685583  90.551208   interpolate  \n12  23.685583  90.551208   interpolate  \n13  23.685583  90.551208   interpolate  \n17  23.654426  90.576730   interpolate  \n18  23.654426  90.576730   interpolate  \n19  23.651571  90.581494   interpolate  \n\n[8 rows x 21 columns]",
      "text/html": "<div>\n<style scoped>\n    .dataframe tbody tr th:only-of-type {\n        vertical-align: middle;\n    }\n\n    .dataframe tbody tr th {\n        vertical-align: top;\n    }\n\n    .dataframe thead th {\n        text-align: right;\n    }\n</style>\n<table border=\"1\" class=\"dataframe\">\n  <thead>\n    <tr style=\"text-align: right;\">\n      <th></th>\n      <th>index</th>\n      <th>road</th>\n      <th>km</th>\n      <th>type</th>\n      <th>LRPName</th>\n      <th>name</th>\n      <th>length</th>\n      <th>condition</th>\n      <th>structureNr</th>\n      <th>roadName</th>\n      <th>...</th>\n      <th>width</th>\n      <th>constructionYear</th>\n      <th>spans</th>\n      <th>zone</th>\n      <th>circle</th>\n      <th>division</th>\n      <th>sub-division</th>\n      <th>lat</th>\n      <th>lon</th>\n      <th>EstimatedLoc</th>\n    </tr>\n  </thead>\n  <tbody>\n    <tr>\n      <th>2</th>\n      <td>2</td>\n      <td>N1</td>\n      <td>8.976</td>\n      <td>PC Girder Bridge</td>\n      <td>LRP008b</td>\n      <td>Kanch pur Bridge.</td>\n      <td>394.23</td>\n      <td>A</td>\n      <td>119889</td>\n      <td>Dhaka (Jatrabari)-Comilla (Mainamati)-Chittago...</td>\n      <td>...</td>\n      <td>NaN</td>\n      <td>NaN</td>\n      <td>NaN</td>\n      <td>Dhaka</td>\n      <td>Dhaka</td>\n      <td>Narayanganj</td>\n      <td>Narayanganj-1</td>\n      <td>23.705060</td>\n      <td>90.523214</td>\n      <td>interpolate</td>\n    </tr>\n    <tr>\n      <th>3</th>\n      <td>12706</td>\n      <td>N1</td>\n      <td>8.976</td>\n      <td>PC Girder Bridge</td>\n      <td>LRP008b</td>\n      <td>KANCHPUR PC GIRDER BRIDGE</td>\n      <td>397.00</td>\n      <td>C</td>\n      <td>101102</td>\n      <td>Dhaka (Jatrabari)-Comilla (Mainamati)-Chittago...</td>\n      <td>...</td>\n      <td>14.65</td>\n      <td>1986.0</td>\n      <td>8.0</td>\n      <td>Dhaka</td>\n      <td>Dhaka</td>\n      <td>Narayanganj</td>\n      <td>Narayanganj-1</td>\n      <td>23.705060</td>\n      <td>90.523214</td>\n      <td>interpolate</td>\n    </tr>\n    <tr>\n      <th>11</th>\n      <td>9</td>\n      <td>N1</td>\n      <td>12.660</td>\n      <td>PC Girder Bridge</td>\n      <td>LRP013a</td>\n      <td>MADAN PUR (R)</td>\n      <td>26.30</td>\n      <td>A</td>\n      <td>109841</td>\n      <td>Dhaka (Jatrabari)-Comilla (Mainamati)-Chittago...</td>\n      <td>...</td>\n      <td>9.20</td>\n      <td>2003.0</td>\n      <td>1.0</td>\n      <td>Dhaka</td>\n      <td>Dhaka</td>\n      <td>Narayanganj</td>\n      <td>Vitikandi</td>\n      <td>23.685583</td>\n      <td>90.551208</td>\n      <td>interpolate</td>\n    </tr>\n    <tr>\n      <th>12</th>\n      <td>10</td>\n      <td>N1</td>\n      <td>12.660</td>\n      <td>PC Girder Bridge</td>\n      <td>LRP013a</td>\n      <td>MADANPUR BRIDGE(L)</td>\n      <td>26.30</td>\n      <td>A</td>\n      <td>109838</td>\n      <td>Dhaka (Jatrabari)-Comilla (Mainamati)-Chittago...</td>\n      <td>...</td>\n      <td>9.20</td>\n      <td>2003.0</td>\n      <td>1.0</td>\n      <td>Dhaka</td>\n      <td>Dhaka</td>\n      <td>Narayanganj</td>\n      <td>Vitikandi</td>\n      <td>23.685583</td>\n      <td>90.551208</td>\n      <td>interpolate</td>\n    </tr>\n    <tr>\n      <th>13</th>\n      <td>8</td>\n      <td>N1</td>\n      <td>12.660</td>\n      <td>PC Girder Bridge</td>\n      <td>LRP013a</td>\n      <td>Madanpur Bridge.(L)</td>\n      <td>27.50</td>\n      <td>A</td>\n      <td>119897</td>\n      <td>Dhaka (Jatrabari)-Comilla (Mainamati)-Chittago...</td>\n      <td>...</td>\n      <td>NaN</td>\n      <td>NaN</td>\n      <td>NaN</td>\n      <td>Dhaka</td>\n      <td>Dhaka</td>\n      <td>Narayanganj</td>\n      <td>Vitikandi</td>\n      <td>23.685583</td>\n      <td>90.551208</td>\n      <td>interpolate</td>\n    </tr>\n    <tr>\n      <th>17</th>\n      <td>14588</td>\n      <td>N1</td>\n      <td>17.134</td>\n      <td>PC Girder Bridge</td>\n      <td>LRP017b</td>\n      <td>LANGOLBANDO PC GIDER BRIDGE</td>\n      <td>159.50</td>\n      <td>B</td>\n      <td>109808</td>\n      <td>Dhaka (Jatrabari)-Comilla (Mainamati)-Chittago...</td>\n      <td>...</td>\n      <td>17.80</td>\n      <td>1998.0</td>\n      <td>5.0</td>\n      <td>Dhaka</td>\n      <td>Dhaka</td>\n      <td>Narayanganj</td>\n      <td>Vitikandi</td>\n      <td>23.654426</td>\n      <td>90.576730</td>\n      <td>interpolate</td>\n    </tr>\n    <tr>\n      <th>18</th>\n      <td>12707</td>\n      <td>N1</td>\n      <td>17.134</td>\n      <td>RCC Girder Bridge</td>\n      <td>LRP017b</td>\n      <td>Langalbandh Bridge.</td>\n      <td>159.52</td>\n      <td>C</td>\n      <td>119909</td>\n      <td>Dhaka (Jatrabari)-Comilla (Mainamati)-Chittago...</td>\n      <td>...</td>\n      <td>NaN</td>\n      <td>NaN</td>\n      <td>NaN</td>\n      <td>Dhaka</td>\n      <td>Dhaka</td>\n      <td>Narayanganj</td>\n      <td>Vitikandi</td>\n      <td>23.654426</td>\n      <td>90.576730</td>\n      <td>interpolate</td>\n    </tr>\n    <tr>\n      <th>19</th>\n      <td>14590</td>\n      <td>N1</td>\n      <td>17.722</td>\n      <td>PC Girder Bridge</td>\n      <td>LRP018a</td>\n      <td>DARIKANDI BRIDGE (L)</td>\n      <td>20.00</td>\n      <td>B</td>\n      <td>109853</td>\n      <td>Dhaka (Jatrabari)-Comilla (Mainamati)-Chittago...</td>\n      <td>...</td>\n      <td>9.20</td>\n      <td>2002.0</td>\n      <td>1.0</td>\n      <td>Dhaka</td>\n      <td>Dhaka</td>\n      <td>Narayanganj</td>\n      <td>Vitikandi</td>\n      <td>23.651571</td>\n      <td>90.581494</td>\n      <td>interpolate</td>\n    </tr>\n  </tbody>\n</table>\n<p>8 rows × 21 columns</p>\n</div>"
     },
     "execution_count": 8,
     "metadata": {},
     "output_type": "execute_result"
    }
   ],
   "source": [
    "# Make a smaller dataframe to test if the code works the way it is supposed to\n",
    "bridges_N1 = bridges_full[bridges_full['road']=='N1']\n",
    "bridges_N1sort = bridges_N1.sort_values(by='LRPName')\n",
    "bridges_N1sort.reset_index(inplace=True)\n",
    "LRP_valuesN1 = bridges_N1sort['LRPName'].value_counts()\n",
    "bridge_LRPN1 = bridges_N1sort[bridges_N1sort['LRPName'].isin(LRP_valuesN1[LRP_valuesN1>1].index)]\n",
    "bridge_slice = bridge_LRPN1.head(8)\n",
    "bridge_slice"
   ],
   "metadata": {
    "collapsed": false,
    "ExecuteTime": {
     "end_time": "2024-04-02T19:16:33.536922800Z",
     "start_time": "2024-04-02T19:16:33.408146600Z"
    }
   },
   "id": "7c9b77ca4a909215",
   "execution_count": 8
  },
  {
   "cell_type": "code",
   "outputs": [
    {
     "data": {
      "text/plain": "   level_0  index road      km              type  LRPName  \\\n0        3  12706   N1   8.976  PC Girder Bridge  LRP008b   \n2       11      9   N1  12.660  PC Girder Bridge  LRP013a   \n5       17  14588   N1  17.134  PC Girder Bridge  LRP017b   \n7       19  14590   N1  17.722  PC Girder Bridge  LRP018a   \n\n                          name  length condition  structureNr  ...  width  \\\n0    KANCHPUR PC GIRDER BRIDGE   397.0         C       101102  ...  14.65   \n2                MADAN PUR (R)    26.3         A       109841  ...   9.20   \n5  LANGOLBANDO PC GIDER BRIDGE   159.5         C       109808  ...  17.80   \n7         DARIKANDI BRIDGE (L)    20.0         B       109853  ...   9.20   \n\n   constructionYear  spans   zone  circle     division   sub-division  \\\n0            1986.0    8.0  Dhaka   Dhaka  Narayanganj  Narayanganj-1   \n2            2003.0    1.0  Dhaka   Dhaka  Narayanganj      Vitikandi   \n5            1998.0    5.0  Dhaka   Dhaka  Narayanganj      Vitikandi   \n7            2002.0    1.0  Dhaka   Dhaka  Narayanganj      Vitikandi   \n\n         lat        lon  EstimatedLoc  \n0  23.705060  90.523214   interpolate  \n2  23.685583  90.551208   interpolate  \n5  23.654426  90.576730   interpolate  \n7  23.651571  90.581494   interpolate  \n\n[4 rows x 22 columns]",
      "text/html": "<div>\n<style scoped>\n    .dataframe tbody tr th:only-of-type {\n        vertical-align: middle;\n    }\n\n    .dataframe tbody tr th {\n        vertical-align: top;\n    }\n\n    .dataframe thead th {\n        text-align: right;\n    }\n</style>\n<table border=\"1\" class=\"dataframe\">\n  <thead>\n    <tr style=\"text-align: right;\">\n      <th></th>\n      <th>level_0</th>\n      <th>index</th>\n      <th>road</th>\n      <th>km</th>\n      <th>type</th>\n      <th>LRPName</th>\n      <th>name</th>\n      <th>length</th>\n      <th>condition</th>\n      <th>structureNr</th>\n      <th>...</th>\n      <th>width</th>\n      <th>constructionYear</th>\n      <th>spans</th>\n      <th>zone</th>\n      <th>circle</th>\n      <th>division</th>\n      <th>sub-division</th>\n      <th>lat</th>\n      <th>lon</th>\n      <th>EstimatedLoc</th>\n    </tr>\n  </thead>\n  <tbody>\n    <tr>\n      <th>0</th>\n      <td>3</td>\n      <td>12706</td>\n      <td>N1</td>\n      <td>8.976</td>\n      <td>PC Girder Bridge</td>\n      <td>LRP008b</td>\n      <td>KANCHPUR PC GIRDER BRIDGE</td>\n      <td>397.0</td>\n      <td>C</td>\n      <td>101102</td>\n      <td>...</td>\n      <td>14.65</td>\n      <td>1986.0</td>\n      <td>8.0</td>\n      <td>Dhaka</td>\n      <td>Dhaka</td>\n      <td>Narayanganj</td>\n      <td>Narayanganj-1</td>\n      <td>23.705060</td>\n      <td>90.523214</td>\n      <td>interpolate</td>\n    </tr>\n    <tr>\n      <th>2</th>\n      <td>11</td>\n      <td>9</td>\n      <td>N1</td>\n      <td>12.660</td>\n      <td>PC Girder Bridge</td>\n      <td>LRP013a</td>\n      <td>MADAN PUR (R)</td>\n      <td>26.3</td>\n      <td>A</td>\n      <td>109841</td>\n      <td>...</td>\n      <td>9.20</td>\n      <td>2003.0</td>\n      <td>1.0</td>\n      <td>Dhaka</td>\n      <td>Dhaka</td>\n      <td>Narayanganj</td>\n      <td>Vitikandi</td>\n      <td>23.685583</td>\n      <td>90.551208</td>\n      <td>interpolate</td>\n    </tr>\n    <tr>\n      <th>5</th>\n      <td>17</td>\n      <td>14588</td>\n      <td>N1</td>\n      <td>17.134</td>\n      <td>PC Girder Bridge</td>\n      <td>LRP017b</td>\n      <td>LANGOLBANDO PC GIDER BRIDGE</td>\n      <td>159.5</td>\n      <td>C</td>\n      <td>109808</td>\n      <td>...</td>\n      <td>17.80</td>\n      <td>1998.0</td>\n      <td>5.0</td>\n      <td>Dhaka</td>\n      <td>Dhaka</td>\n      <td>Narayanganj</td>\n      <td>Vitikandi</td>\n      <td>23.654426</td>\n      <td>90.576730</td>\n      <td>interpolate</td>\n    </tr>\n    <tr>\n      <th>7</th>\n      <td>19</td>\n      <td>14590</td>\n      <td>N1</td>\n      <td>17.722</td>\n      <td>PC Girder Bridge</td>\n      <td>LRP018a</td>\n      <td>DARIKANDI BRIDGE (L)</td>\n      <td>20.0</td>\n      <td>B</td>\n      <td>109853</td>\n      <td>...</td>\n      <td>9.20</td>\n      <td>2002.0</td>\n      <td>1.0</td>\n      <td>Dhaka</td>\n      <td>Dhaka</td>\n      <td>Narayanganj</td>\n      <td>Vitikandi</td>\n      <td>23.651571</td>\n      <td>90.581494</td>\n      <td>interpolate</td>\n    </tr>\n  </tbody>\n</table>\n<p>4 rows × 22 columns</p>\n</div>"
     },
     "execution_count": 9,
     "metadata": {},
     "output_type": "execute_result"
    }
   ],
   "source": [
    "df_slice_clean = find_dupes_LRP(bridge_slice)\n",
    "df_slice_clean"
   ],
   "metadata": {
    "collapsed": false,
    "ExecuteTime": {
     "end_time": "2024-04-02T19:16:33.615169Z",
     "start_time": "2024-04-02T19:16:33.442133800Z"
    }
   },
   "id": "3016995087e2da4e",
   "execution_count": 9
  },
  {
   "cell_type": "markdown",
   "source": [
    "The code is correct: only one of the duplicated bridges is kept, with the worst condition of the lot. In addition, the dataframe is sorted in such a way, that the kept bridge has a minimal amount of NaN-values. Lastly, LRPs that do not have a dupe, are not touched and therefor remain in the dataframe as such"
   ],
   "metadata": {
    "collapsed": false
   },
   "id": "11c9349afefafad0"
  },
  {
   "cell_type": "markdown",
   "source": [
    "## Start cleaning the bridges on the identified roads"
   ],
   "metadata": {
    "collapsed": false
   },
   "id": "ab97e08f2b32621c"
  },
  {
   "cell_type": "code",
   "outputs": [
    {
     "data": {
      "text/plain": "26"
     },
     "execution_count": 10,
     "metadata": {},
     "output_type": "execute_result"
    }
   ],
   "source": [
    "roads_df = pd.read_csv('../data/semi-processed/identified_roads_final.csv')\n",
    "roads_list = roads_df['road'].to_list()\n",
    "roads = set(roads_list)\n",
    "len(roads)"
   ],
   "metadata": {
    "collapsed": false,
    "ExecuteTime": {
     "end_time": "2024-04-02T19:16:33.637504300Z",
     "start_time": "2024-04-02T19:16:33.468164900Z"
    }
   },
   "id": "32b43c2b69210929",
   "execution_count": 10
  },
  {
   "cell_type": "code",
   "outputs": [
    {
     "data": {
      "text/plain": "       road      km               type  LRPName                   name  \\\n2860   R250   1.948        Box Culvert  LRP002c  GOTATIKOR BOX CULVERT   \n2861   R250   4.083        Box Culvert  LRP004a      KUCHY BOX CULVERT   \n2862   R250   5.432        Box Culvert  LRP006a      KUCHY BOX CULVERT   \n2863   R250   8.107        Box Culvert  LRP008a  HELAL PUR BOX CULVERT   \n2864   R250  12.648        Box Culvert  LRP013a      SUKNA BOX CULVERT   \n...     ...     ...                ...      ...                    ...   \n16353  N204  10.785        Box Culvert  LRP012b      CHADCHURY CULVERT   \n16354  N204  28.968        Box Culvert  LRP034b    NORPATI BOX CULVERT   \n16355  N204  29.350        Box Culvert  LRP035a    NORPATI BOX CULVERT   \n16356  N204  32.210  RCC Girder Bridge  LRP038b        Durgapur Bridge   \n19503  N204  17.857        Box Culvert  LRP021a              KARAGANUT   \n\n       length condition  structureNr  \\\n2860     3.00         A       100484   \n2861     3.00         A       100485   \n2862     3.00         A       100486   \n2863     4.50         A       100489   \n2864     3.00         A       100487   \n...       ...       ...          ...   \n16353    4.60         C       104055   \n16354    3.12         C       104067   \n16355   24.20         C       104075   \n16356   17.85         C       120987   \n19503   13.50         D       104070   \n\n                                             roadName  chainage  width  \\\n2860          Sylhet-Golapganj-Charkhai-Jakiganj Road     1.948   9.70   \n2861          Sylhet-Golapganj-Charkhai-Jakiganj Road     4.083   9.70   \n2862          Sylhet-Golapganj-Charkhai-Jakiganj Road     5.432   9.70   \n2863          Sylhet-Golapganj-Charkhai-Jakiganj Road     8.107   9.70   \n2864          Sylhet-Golapganj-Charkhai-Jakiganj Road    12.648   9.70   \n...                                               ...       ...    ...   \n16353  Jagadishpur-Chunarughat-Shaistaganj (old part)    10.785  12.70   \n16354  Jagadishpur-Chunarughat-Shaistaganj (old part)    28.968  11.20   \n16355  Jagadishpur-Chunarughat-Shaistaganj (old part)    29.350   7.85   \n16356  Jagadishpur-Chunarughat-Shaistaganj (old part)    32.210    NaN   \n19503  Jagadishpur-Chunarughat-Shaistaganj (old part)    17.857   9.80   \n\n       constructionYear  spans    zone         circle  division sub-division  \\\n2860             1995.0    1.0  Sylhet         Sylhet    Sylhet    Golapganj   \n2861             1995.0    1.0  Sylhet         Sylhet    Sylhet    Golapganj   \n2862             1995.0    1.0  Sylhet         Sylhet    Sylhet    Golapganj   \n2863             1995.0    1.0  Sylhet         Sylhet    Sylhet    Golapganj   \n2864             1995.0    1.0  Sylhet         Sylhet    Sylhet    Golapganj   \n...                 ...    ...     ...            ...       ...          ...   \n16353            1986.0    2.0  Sylhet  Moulavi Bazar  Habiganj  Shaistagonj   \n16354            1978.0    1.0  Sylhet  Moulavi Bazar  Habiganj  Shaistagonj   \n16355            1986.0    5.0  Sylhet  Moulavi Bazar  Habiganj  Shaistagonj   \n16356               NaN    NaN  Sylhet  Moulavi Bazar  Habiganj  Shaistagonj   \n19503            1978.0    3.0  Sylhet  Moulavi Bazar  Habiganj  Shaistagonj   \n\n             lat        lon EstimatedLoc  \n2860   24.876110  91.881666  interpolate  \n2861   24.872902  91.902567  interpolate  \n2862   24.867792  91.914470  interpolate  \n2863   24.852237  91.934565  interpolate  \n2864   24.853910  91.976418  interpolate  \n...          ...        ...          ...  \n16353  24.128350  91.429691  interpolate  \n16354  24.227527  91.506074  interpolate  \n16355  24.230738  91.504886  interpolate  \n16356  24.252372  91.491274  interpolate  \n19503  24.146505  91.484286  interpolate  \n\n[2862 rows x 20 columns]",
      "text/html": "<div>\n<style scoped>\n    .dataframe tbody tr th:only-of-type {\n        vertical-align: middle;\n    }\n\n    .dataframe tbody tr th {\n        vertical-align: top;\n    }\n\n    .dataframe thead th {\n        text-align: right;\n    }\n</style>\n<table border=\"1\" class=\"dataframe\">\n  <thead>\n    <tr style=\"text-align: right;\">\n      <th></th>\n      <th>road</th>\n      <th>km</th>\n      <th>type</th>\n      <th>LRPName</th>\n      <th>name</th>\n      <th>length</th>\n      <th>condition</th>\n      <th>structureNr</th>\n      <th>roadName</th>\n      <th>chainage</th>\n      <th>width</th>\n      <th>constructionYear</th>\n      <th>spans</th>\n      <th>zone</th>\n      <th>circle</th>\n      <th>division</th>\n      <th>sub-division</th>\n      <th>lat</th>\n      <th>lon</th>\n      <th>EstimatedLoc</th>\n    </tr>\n  </thead>\n  <tbody>\n    <tr>\n      <th>2860</th>\n      <td>R250</td>\n      <td>1.948</td>\n      <td>Box Culvert</td>\n      <td>LRP002c</td>\n      <td>GOTATIKOR BOX CULVERT</td>\n      <td>3.00</td>\n      <td>A</td>\n      <td>100484</td>\n      <td>Sylhet-Golapganj-Charkhai-Jakiganj Road</td>\n      <td>1.948</td>\n      <td>9.70</td>\n      <td>1995.0</td>\n      <td>1.0</td>\n      <td>Sylhet</td>\n      <td>Sylhet</td>\n      <td>Sylhet</td>\n      <td>Golapganj</td>\n      <td>24.876110</td>\n      <td>91.881666</td>\n      <td>interpolate</td>\n    </tr>\n    <tr>\n      <th>2861</th>\n      <td>R250</td>\n      <td>4.083</td>\n      <td>Box Culvert</td>\n      <td>LRP004a</td>\n      <td>KUCHY BOX CULVERT</td>\n      <td>3.00</td>\n      <td>A</td>\n      <td>100485</td>\n      <td>Sylhet-Golapganj-Charkhai-Jakiganj Road</td>\n      <td>4.083</td>\n      <td>9.70</td>\n      <td>1995.0</td>\n      <td>1.0</td>\n      <td>Sylhet</td>\n      <td>Sylhet</td>\n      <td>Sylhet</td>\n      <td>Golapganj</td>\n      <td>24.872902</td>\n      <td>91.902567</td>\n      <td>interpolate</td>\n    </tr>\n    <tr>\n      <th>2862</th>\n      <td>R250</td>\n      <td>5.432</td>\n      <td>Box Culvert</td>\n      <td>LRP006a</td>\n      <td>KUCHY BOX CULVERT</td>\n      <td>3.00</td>\n      <td>A</td>\n      <td>100486</td>\n      <td>Sylhet-Golapganj-Charkhai-Jakiganj Road</td>\n      <td>5.432</td>\n      <td>9.70</td>\n      <td>1995.0</td>\n      <td>1.0</td>\n      <td>Sylhet</td>\n      <td>Sylhet</td>\n      <td>Sylhet</td>\n      <td>Golapganj</td>\n      <td>24.867792</td>\n      <td>91.914470</td>\n      <td>interpolate</td>\n    </tr>\n    <tr>\n      <th>2863</th>\n      <td>R250</td>\n      <td>8.107</td>\n      <td>Box Culvert</td>\n      <td>LRP008a</td>\n      <td>HELAL PUR BOX CULVERT</td>\n      <td>4.50</td>\n      <td>A</td>\n      <td>100489</td>\n      <td>Sylhet-Golapganj-Charkhai-Jakiganj Road</td>\n      <td>8.107</td>\n      <td>9.70</td>\n      <td>1995.0</td>\n      <td>1.0</td>\n      <td>Sylhet</td>\n      <td>Sylhet</td>\n      <td>Sylhet</td>\n      <td>Golapganj</td>\n      <td>24.852237</td>\n      <td>91.934565</td>\n      <td>interpolate</td>\n    </tr>\n    <tr>\n      <th>2864</th>\n      <td>R250</td>\n      <td>12.648</td>\n      <td>Box Culvert</td>\n      <td>LRP013a</td>\n      <td>SUKNA BOX CULVERT</td>\n      <td>3.00</td>\n      <td>A</td>\n      <td>100487</td>\n      <td>Sylhet-Golapganj-Charkhai-Jakiganj Road</td>\n      <td>12.648</td>\n      <td>9.70</td>\n      <td>1995.0</td>\n      <td>1.0</td>\n      <td>Sylhet</td>\n      <td>Sylhet</td>\n      <td>Sylhet</td>\n      <td>Golapganj</td>\n      <td>24.853910</td>\n      <td>91.976418</td>\n      <td>interpolate</td>\n    </tr>\n    <tr>\n      <th>...</th>\n      <td>...</td>\n      <td>...</td>\n      <td>...</td>\n      <td>...</td>\n      <td>...</td>\n      <td>...</td>\n      <td>...</td>\n      <td>...</td>\n      <td>...</td>\n      <td>...</td>\n      <td>...</td>\n      <td>...</td>\n      <td>...</td>\n      <td>...</td>\n      <td>...</td>\n      <td>...</td>\n      <td>...</td>\n      <td>...</td>\n      <td>...</td>\n      <td>...</td>\n    </tr>\n    <tr>\n      <th>16353</th>\n      <td>N204</td>\n      <td>10.785</td>\n      <td>Box Culvert</td>\n      <td>LRP012b</td>\n      <td>CHADCHURY CULVERT</td>\n      <td>4.60</td>\n      <td>C</td>\n      <td>104055</td>\n      <td>Jagadishpur-Chunarughat-Shaistaganj (old part)</td>\n      <td>10.785</td>\n      <td>12.70</td>\n      <td>1986.0</td>\n      <td>2.0</td>\n      <td>Sylhet</td>\n      <td>Moulavi Bazar</td>\n      <td>Habiganj</td>\n      <td>Shaistagonj</td>\n      <td>24.128350</td>\n      <td>91.429691</td>\n      <td>interpolate</td>\n    </tr>\n    <tr>\n      <th>16354</th>\n      <td>N204</td>\n      <td>28.968</td>\n      <td>Box Culvert</td>\n      <td>LRP034b</td>\n      <td>NORPATI BOX CULVERT</td>\n      <td>3.12</td>\n      <td>C</td>\n      <td>104067</td>\n      <td>Jagadishpur-Chunarughat-Shaistaganj (old part)</td>\n      <td>28.968</td>\n      <td>11.20</td>\n      <td>1978.0</td>\n      <td>1.0</td>\n      <td>Sylhet</td>\n      <td>Moulavi Bazar</td>\n      <td>Habiganj</td>\n      <td>Shaistagonj</td>\n      <td>24.227527</td>\n      <td>91.506074</td>\n      <td>interpolate</td>\n    </tr>\n    <tr>\n      <th>16355</th>\n      <td>N204</td>\n      <td>29.350</td>\n      <td>Box Culvert</td>\n      <td>LRP035a</td>\n      <td>NORPATI BOX CULVERT</td>\n      <td>24.20</td>\n      <td>C</td>\n      <td>104075</td>\n      <td>Jagadishpur-Chunarughat-Shaistaganj (old part)</td>\n      <td>29.350</td>\n      <td>7.85</td>\n      <td>1986.0</td>\n      <td>5.0</td>\n      <td>Sylhet</td>\n      <td>Moulavi Bazar</td>\n      <td>Habiganj</td>\n      <td>Shaistagonj</td>\n      <td>24.230738</td>\n      <td>91.504886</td>\n      <td>interpolate</td>\n    </tr>\n    <tr>\n      <th>16356</th>\n      <td>N204</td>\n      <td>32.210</td>\n      <td>RCC Girder Bridge</td>\n      <td>LRP038b</td>\n      <td>Durgapur Bridge</td>\n      <td>17.85</td>\n      <td>C</td>\n      <td>120987</td>\n      <td>Jagadishpur-Chunarughat-Shaistaganj (old part)</td>\n      <td>32.210</td>\n      <td>NaN</td>\n      <td>NaN</td>\n      <td>NaN</td>\n      <td>Sylhet</td>\n      <td>Moulavi Bazar</td>\n      <td>Habiganj</td>\n      <td>Shaistagonj</td>\n      <td>24.252372</td>\n      <td>91.491274</td>\n      <td>interpolate</td>\n    </tr>\n    <tr>\n      <th>19503</th>\n      <td>N204</td>\n      <td>17.857</td>\n      <td>Box Culvert</td>\n      <td>LRP021a</td>\n      <td>KARAGANUT</td>\n      <td>13.50</td>\n      <td>D</td>\n      <td>104070</td>\n      <td>Jagadishpur-Chunarughat-Shaistaganj (old part)</td>\n      <td>17.857</td>\n      <td>9.80</td>\n      <td>1978.0</td>\n      <td>3.0</td>\n      <td>Sylhet</td>\n      <td>Moulavi Bazar</td>\n      <td>Habiganj</td>\n      <td>Shaistagonj</td>\n      <td>24.146505</td>\n      <td>91.484286</td>\n      <td>interpolate</td>\n    </tr>\n  </tbody>\n</table>\n<p>2862 rows × 20 columns</p>\n</div>"
     },
     "execution_count": 11,
     "metadata": {},
     "output_type": "execute_result"
    }
   ],
   "source": [
    "# To get an insight into how many bridges have been removed, check the original amount of bridges\n",
    "bridges_df_list = []\n",
    "for road in roads:\n",
    "    dataframe = bridges_full[bridges_full['road'] == road]\n",
    "    bridges_df_list.append(dataframe)\n",
    "    df_bridges_full = pd.concat(bridges_df_list)\n",
    "\n",
    "df_bridges_full"
   ],
   "metadata": {
    "collapsed": false,
    "ExecuteTime": {
     "end_time": "2024-04-02T19:16:33.707593600Z",
     "start_time": "2024-04-02T19:16:33.491468800Z"
    }
   },
   "id": "374a84715d88a0d4",
   "execution_count": 11
  },
  {
   "cell_type": "code",
   "outputs": [
    {
     "data": {
      "text/plain": "road                  0\nkm                    0\ntype                  0\nLRPName               0\nname                  0\nlength                1\ncondition             0\nstructureNr           0\nroadName              0\nchainage              0\nwidth               463\nconstructionYear    463\nspans               463\nzone                  0\ncircle                0\ndivision              0\nsub-division          0\nlat                   0\nlon                   0\nEstimatedLoc          0\ndtype: int64"
     },
     "execution_count": 12,
     "metadata": {},
     "output_type": "execute_result"
    }
   ],
   "source": [
    "df_bridges_full.isna().sum()"
   ],
   "metadata": {
    "collapsed": false,
    "ExecuteTime": {
     "end_time": "2024-04-02T19:16:33.709594400Z",
     "start_time": "2024-04-02T19:16:33.615169Z"
    }
   },
   "id": "4442c58e70a357e",
   "execution_count": 12
  },
  {
   "cell_type": "code",
   "outputs": [],
   "source": [
    "def correct_dupes_LRP(df, road_list):\n",
    "    # Empty list to save in each cleaned dataframe per road\n",
    "    full_cleaned_df_list = []\n",
    "    \n",
    "    # For each road, go trough the find_dupes_LRP function\n",
    "    for road in road_list:\n",
    "        dataframe = df[df['road'] == road]\n",
    "        dataframe_cleaned = find_dupes_LRP(dataframe)\n",
    "        full_cleaned_df_list.append(dataframe_cleaned)\n",
    "    \n",
    "    # Once the bridges on all the roads have been cleaned, concat the seperate road dataframes into one big dataframe again    \n",
    "    df_cleaned = pd.concat(full_cleaned_df_list)\n",
    "    return df_cleaned"
   ],
   "metadata": {
    "collapsed": false,
    "ExecuteTime": {
     "end_time": "2024-04-02T19:16:33.773457300Z",
     "start_time": "2024-04-02T19:16:33.624077Z"
    }
   },
   "id": "75aa0bf8460637a8",
   "execution_count": 13
  },
  {
   "cell_type": "code",
   "outputs": [
    {
     "data": {
      "text/plain": "    index  road      km               type  LRPName  \\\n0    2860  R250   1.948        Box Culvert  LRP002c   \n1    2861  R250   4.083        Box Culvert  LRP004a   \n2    2862  R250   5.432        Box Culvert  LRP006a   \n3    2863  R250   8.107        Box Culvert  LRP008a   \n4    2864  R250  12.648        Box Culvert  LRP013a   \n..    ...   ...     ...                ...      ...   \n30   2618  N204  31.801        Box Culvert  LRP038a   \n31   2619  N204  32.210  RCC Girder Bridge  LRP038b   \n33   2620  N204  33.550        Box Culvert  LRP040a   \n34   2621  N204  34.300       Slab Culvert  LRP041a   \n35  16350  N204   0.546  RCC Girder Bridge    LRPSb   \n\n                             name  length condition  structureNr  \\\n0           GOTATIKOR BOX CULVERT     3.0         A       100484   \n1               KUCHY BOX CULVERT     3.0         A       100485   \n2               KUCHY BOX CULVERT     3.0         A       100486   \n3           HELAL PUR BOX CULVERT     4.5         A       100489   \n4               SUKNA BOX CULVERT     3.0         A       100487   \n..                            ...     ...       ...          ...   \n30                       DURGAPUR     1.5         A       104084   \n31      DORGAPUR RCC GIDER BRIDGE    17.8         C       104082   \n33  NEAR SHAIS TAGAMJ BOX CULVERT     4.5         A       104077   \n34           UBAHATA SLAB CULVERT     4.3         A       104085   \n35           JOGIDISH PUR TEMORIA     4.0         C       104038   \n\n                                          roadName  ...  width  \\\n0          Sylhet-Golapganj-Charkhai-Jakiganj Road  ...   9.70   \n1          Sylhet-Golapganj-Charkhai-Jakiganj Road  ...   9.70   \n2          Sylhet-Golapganj-Charkhai-Jakiganj Road  ...   9.70   \n3          Sylhet-Golapganj-Charkhai-Jakiganj Road  ...   9.70   \n4          Sylhet-Golapganj-Charkhai-Jakiganj Road  ...   9.70   \n..                                             ...  ...    ...   \n30  Jagadishpur-Chunarughat-Shaistaganj (old part)  ...  11.55   \n31  Jagadishpur-Chunarughat-Shaistaganj (old part)  ...   8.00   \n33  Jagadishpur-Chunarughat-Shaistaganj (old part)  ...   9.75   \n34  Jagadishpur-Chunarughat-Shaistaganj (old part)  ...   9.70   \n35  Jagadishpur-Chunarughat-Shaistaganj (old part)  ...   4.70   \n\n    constructionYear  spans    zone         circle  division sub-division  \\\n0             1995.0    1.0  Sylhet         Sylhet    Sylhet    Golapganj   \n1             1995.0    1.0  Sylhet         Sylhet    Sylhet    Golapganj   \n2             1995.0    1.0  Sylhet         Sylhet    Sylhet    Golapganj   \n3             1995.0    1.0  Sylhet         Sylhet    Sylhet    Golapganj   \n4             1995.0    1.0  Sylhet         Sylhet    Sylhet    Golapganj   \n..               ...    ...     ...            ...       ...          ...   \n30            1965.0    1.0  Sylhet  Moulavi Bazar  Habiganj  Shaistagonj   \n31            1965.0    1.0  Sylhet  Moulavi Bazar  Habiganj  Shaistagonj   \n33            1988.0    1.0  Sylhet  Moulavi Bazar  Habiganj  Shaistagonj   \n34            1964.0    1.0  Sylhet  Moulavi Bazar  Habiganj  Shaistagonj   \n35            1964.0    1.0  Sylhet  Moulavi Bazar  Habiganj  Shaistagonj   \n\n          lat        lon  EstimatedLoc  \n0   24.876110  91.881666   interpolate  \n1   24.872902  91.902567   interpolate  \n2   24.867792  91.914470   interpolate  \n3   24.852237  91.934565   interpolate  \n4   24.853910  91.976418   interpolate  \n..        ...        ...           ...  \n30  24.249896  91.493845   interpolate  \n31  24.252372  91.491274   interpolate  \n33  24.261595  91.482321   interpolate  \n34  24.266583  91.476944          bcs1  \n35  24.148351  91.351389   interpolate  \n\n[2399 rows x 21 columns]",
      "text/html": "<div>\n<style scoped>\n    .dataframe tbody tr th:only-of-type {\n        vertical-align: middle;\n    }\n\n    .dataframe tbody tr th {\n        vertical-align: top;\n    }\n\n    .dataframe thead th {\n        text-align: right;\n    }\n</style>\n<table border=\"1\" class=\"dataframe\">\n  <thead>\n    <tr style=\"text-align: right;\">\n      <th></th>\n      <th>index</th>\n      <th>road</th>\n      <th>km</th>\n      <th>type</th>\n      <th>LRPName</th>\n      <th>name</th>\n      <th>length</th>\n      <th>condition</th>\n      <th>structureNr</th>\n      <th>roadName</th>\n      <th>...</th>\n      <th>width</th>\n      <th>constructionYear</th>\n      <th>spans</th>\n      <th>zone</th>\n      <th>circle</th>\n      <th>division</th>\n      <th>sub-division</th>\n      <th>lat</th>\n      <th>lon</th>\n      <th>EstimatedLoc</th>\n    </tr>\n  </thead>\n  <tbody>\n    <tr>\n      <th>0</th>\n      <td>2860</td>\n      <td>R250</td>\n      <td>1.948</td>\n      <td>Box Culvert</td>\n      <td>LRP002c</td>\n      <td>GOTATIKOR BOX CULVERT</td>\n      <td>3.0</td>\n      <td>A</td>\n      <td>100484</td>\n      <td>Sylhet-Golapganj-Charkhai-Jakiganj Road</td>\n      <td>...</td>\n      <td>9.70</td>\n      <td>1995.0</td>\n      <td>1.0</td>\n      <td>Sylhet</td>\n      <td>Sylhet</td>\n      <td>Sylhet</td>\n      <td>Golapganj</td>\n      <td>24.876110</td>\n      <td>91.881666</td>\n      <td>interpolate</td>\n    </tr>\n    <tr>\n      <th>1</th>\n      <td>2861</td>\n      <td>R250</td>\n      <td>4.083</td>\n      <td>Box Culvert</td>\n      <td>LRP004a</td>\n      <td>KUCHY BOX CULVERT</td>\n      <td>3.0</td>\n      <td>A</td>\n      <td>100485</td>\n      <td>Sylhet-Golapganj-Charkhai-Jakiganj Road</td>\n      <td>...</td>\n      <td>9.70</td>\n      <td>1995.0</td>\n      <td>1.0</td>\n      <td>Sylhet</td>\n      <td>Sylhet</td>\n      <td>Sylhet</td>\n      <td>Golapganj</td>\n      <td>24.872902</td>\n      <td>91.902567</td>\n      <td>interpolate</td>\n    </tr>\n    <tr>\n      <th>2</th>\n      <td>2862</td>\n      <td>R250</td>\n      <td>5.432</td>\n      <td>Box Culvert</td>\n      <td>LRP006a</td>\n      <td>KUCHY BOX CULVERT</td>\n      <td>3.0</td>\n      <td>A</td>\n      <td>100486</td>\n      <td>Sylhet-Golapganj-Charkhai-Jakiganj Road</td>\n      <td>...</td>\n      <td>9.70</td>\n      <td>1995.0</td>\n      <td>1.0</td>\n      <td>Sylhet</td>\n      <td>Sylhet</td>\n      <td>Sylhet</td>\n      <td>Golapganj</td>\n      <td>24.867792</td>\n      <td>91.914470</td>\n      <td>interpolate</td>\n    </tr>\n    <tr>\n      <th>3</th>\n      <td>2863</td>\n      <td>R250</td>\n      <td>8.107</td>\n      <td>Box Culvert</td>\n      <td>LRP008a</td>\n      <td>HELAL PUR BOX CULVERT</td>\n      <td>4.5</td>\n      <td>A</td>\n      <td>100489</td>\n      <td>Sylhet-Golapganj-Charkhai-Jakiganj Road</td>\n      <td>...</td>\n      <td>9.70</td>\n      <td>1995.0</td>\n      <td>1.0</td>\n      <td>Sylhet</td>\n      <td>Sylhet</td>\n      <td>Sylhet</td>\n      <td>Golapganj</td>\n      <td>24.852237</td>\n      <td>91.934565</td>\n      <td>interpolate</td>\n    </tr>\n    <tr>\n      <th>4</th>\n      <td>2864</td>\n      <td>R250</td>\n      <td>12.648</td>\n      <td>Box Culvert</td>\n      <td>LRP013a</td>\n      <td>SUKNA BOX CULVERT</td>\n      <td>3.0</td>\n      <td>A</td>\n      <td>100487</td>\n      <td>Sylhet-Golapganj-Charkhai-Jakiganj Road</td>\n      <td>...</td>\n      <td>9.70</td>\n      <td>1995.0</td>\n      <td>1.0</td>\n      <td>Sylhet</td>\n      <td>Sylhet</td>\n      <td>Sylhet</td>\n      <td>Golapganj</td>\n      <td>24.853910</td>\n      <td>91.976418</td>\n      <td>interpolate</td>\n    </tr>\n    <tr>\n      <th>...</th>\n      <td>...</td>\n      <td>...</td>\n      <td>...</td>\n      <td>...</td>\n      <td>...</td>\n      <td>...</td>\n      <td>...</td>\n      <td>...</td>\n      <td>...</td>\n      <td>...</td>\n      <td>...</td>\n      <td>...</td>\n      <td>...</td>\n      <td>...</td>\n      <td>...</td>\n      <td>...</td>\n      <td>...</td>\n      <td>...</td>\n      <td>...</td>\n      <td>...</td>\n      <td>...</td>\n    </tr>\n    <tr>\n      <th>30</th>\n      <td>2618</td>\n      <td>N204</td>\n      <td>31.801</td>\n      <td>Box Culvert</td>\n      <td>LRP038a</td>\n      <td>DURGAPUR</td>\n      <td>1.5</td>\n      <td>A</td>\n      <td>104084</td>\n      <td>Jagadishpur-Chunarughat-Shaistaganj (old part)</td>\n      <td>...</td>\n      <td>11.55</td>\n      <td>1965.0</td>\n      <td>1.0</td>\n      <td>Sylhet</td>\n      <td>Moulavi Bazar</td>\n      <td>Habiganj</td>\n      <td>Shaistagonj</td>\n      <td>24.249896</td>\n      <td>91.493845</td>\n      <td>interpolate</td>\n    </tr>\n    <tr>\n      <th>31</th>\n      <td>2619</td>\n      <td>N204</td>\n      <td>32.210</td>\n      <td>RCC Girder Bridge</td>\n      <td>LRP038b</td>\n      <td>DORGAPUR RCC GIDER BRIDGE</td>\n      <td>17.8</td>\n      <td>C</td>\n      <td>104082</td>\n      <td>Jagadishpur-Chunarughat-Shaistaganj (old part)</td>\n      <td>...</td>\n      <td>8.00</td>\n      <td>1965.0</td>\n      <td>1.0</td>\n      <td>Sylhet</td>\n      <td>Moulavi Bazar</td>\n      <td>Habiganj</td>\n      <td>Shaistagonj</td>\n      <td>24.252372</td>\n      <td>91.491274</td>\n      <td>interpolate</td>\n    </tr>\n    <tr>\n      <th>33</th>\n      <td>2620</td>\n      <td>N204</td>\n      <td>33.550</td>\n      <td>Box Culvert</td>\n      <td>LRP040a</td>\n      <td>NEAR SHAIS TAGAMJ BOX CULVERT</td>\n      <td>4.5</td>\n      <td>A</td>\n      <td>104077</td>\n      <td>Jagadishpur-Chunarughat-Shaistaganj (old part)</td>\n      <td>...</td>\n      <td>9.75</td>\n      <td>1988.0</td>\n      <td>1.0</td>\n      <td>Sylhet</td>\n      <td>Moulavi Bazar</td>\n      <td>Habiganj</td>\n      <td>Shaistagonj</td>\n      <td>24.261595</td>\n      <td>91.482321</td>\n      <td>interpolate</td>\n    </tr>\n    <tr>\n      <th>34</th>\n      <td>2621</td>\n      <td>N204</td>\n      <td>34.300</td>\n      <td>Slab Culvert</td>\n      <td>LRP041a</td>\n      <td>UBAHATA SLAB CULVERT</td>\n      <td>4.3</td>\n      <td>A</td>\n      <td>104085</td>\n      <td>Jagadishpur-Chunarughat-Shaistaganj (old part)</td>\n      <td>...</td>\n      <td>9.70</td>\n      <td>1964.0</td>\n      <td>1.0</td>\n      <td>Sylhet</td>\n      <td>Moulavi Bazar</td>\n      <td>Habiganj</td>\n      <td>Shaistagonj</td>\n      <td>24.266583</td>\n      <td>91.476944</td>\n      <td>bcs1</td>\n    </tr>\n    <tr>\n      <th>35</th>\n      <td>16350</td>\n      <td>N204</td>\n      <td>0.546</td>\n      <td>RCC Girder Bridge</td>\n      <td>LRPSb</td>\n      <td>JOGIDISH PUR TEMORIA</td>\n      <td>4.0</td>\n      <td>C</td>\n      <td>104038</td>\n      <td>Jagadishpur-Chunarughat-Shaistaganj (old part)</td>\n      <td>...</td>\n      <td>4.70</td>\n      <td>1964.0</td>\n      <td>1.0</td>\n      <td>Sylhet</td>\n      <td>Moulavi Bazar</td>\n      <td>Habiganj</td>\n      <td>Shaistagonj</td>\n      <td>24.148351</td>\n      <td>91.351389</td>\n      <td>interpolate</td>\n    </tr>\n  </tbody>\n</table>\n<p>2399 rows × 21 columns</p>\n</div>"
     },
     "execution_count": 14,
     "metadata": {},
     "output_type": "execute_result"
    }
   ],
   "source": [
    "cleaned_bridges_LRP = correct_dupes_LRP(bridges_full, roads)\n",
    "cleaned_bridges_LRP"
   ],
   "metadata": {
    "collapsed": false,
    "ExecuteTime": {
     "end_time": "2024-04-02T19:16:34.016853200Z",
     "start_time": "2024-04-02T19:16:33.637504300Z"
    }
   },
   "id": "dbd2af0b105bd3fd",
   "execution_count": 14
  },
  {
   "cell_type": "code",
   "outputs": [
    {
     "data": {
      "text/plain": "index                0\nroad                 0\nkm                   0\ntype                 0\nLRPName              0\nname                 0\nlength               0\ncondition            0\nstructureNr          0\nroadName             0\nchainage             0\nwidth               30\nconstructionYear    30\nspans               30\nzone                 0\ncircle               0\ndivision             0\nsub-division         0\nlat                  0\nlon                  0\nEstimatedLoc         0\ndtype: int64"
     },
     "execution_count": 15,
     "metadata": {},
     "output_type": "execute_result"
    }
   ],
   "source": [
    "cleaned_bridges_LRP.isna().sum()"
   ],
   "metadata": {
    "collapsed": false,
    "ExecuteTime": {
     "end_time": "2024-04-02T19:16:34.016853200Z",
     "start_time": "2024-04-02T19:16:33.952314900Z"
    }
   },
   "id": "309ca9415798a23a",
   "execution_count": 15
  },
  {
   "cell_type": "markdown",
   "source": [
    "In this first iteration of cleaning, 427 duplicated bridges got removed. With this, the amount of missing values also greatly decreased, from 426 entries with missing values to only 21. Duplicates can also occur if bridges are put on exactly the same place, but do not have the same LRP. These duplicates will also be handeled "
   ],
   "metadata": {
    "collapsed": false
   },
   "id": "7bfbaa551f185091"
  },
  {
   "cell_type": "markdown",
   "source": [
    "## Check for dupes based on coordinates"
   ],
   "metadata": {
    "collapsed": false
   },
   "id": "3098d9aada47835d"
  },
  {
   "cell_type": "code",
   "outputs": [
    {
     "data": {
      "text/plain": "count\n1    2371\n2      14\nName: count, dtype: int64"
     },
     "execution_count": 16,
     "metadata": {},
     "output_type": "execute_result"
    }
   ],
   "source": [
    "lat_values = cleaned_bridges_LRP['lat'].value_counts()\n",
    "lat_values.value_counts()"
   ],
   "metadata": {
    "collapsed": false,
    "ExecuteTime": {
     "end_time": "2024-04-02T19:16:34.017853400Z",
     "start_time": "2024-04-02T19:16:33.959565300Z"
    }
   },
   "id": "a80a66d7f1dde393",
   "execution_count": 16
  },
  {
   "cell_type": "code",
   "outputs": [
    {
     "data": {
      "text/plain": "count\n1    2368\n2      14\n3       1\nName: count, dtype: int64"
     },
     "execution_count": 17,
     "metadata": {},
     "output_type": "execute_result"
    }
   ],
   "source": [
    "lon_values = cleaned_bridges_LRP['lon'].value_counts()\n",
    "lon_values.value_counts()"
   ],
   "metadata": {
    "collapsed": false,
    "ExecuteTime": {
     "end_time": "2024-04-02T19:16:34.017853400Z",
     "start_time": "2024-04-02T19:16:33.980007400Z"
    }
   },
   "id": "52fee74b31c9407d",
   "execution_count": 17
  },
  {
   "cell_type": "markdown",
   "source": [
    "As there are duplicates in the coordinates, repeat the same steps as before. "
   ],
   "metadata": {
    "collapsed": false
   },
   "id": "7520e2c2b8b0734e"
  },
  {
   "cell_type": "code",
   "outputs": [],
   "source": [
    "def find_dupes_coord(dataframe):\n",
    "    df_copy = dataframe.copy()\n",
    "    df_copy.sort_values(by=['lat', 'width'], inplace=True) #sort that the matching coordinates will be paired\n",
    "    df_copy.reset_index(inplace=True)\n",
    "    to_be_removed = []\n",
    "    lat_values = df_copy['lat'].value_counts()\n",
    "    lat_list = list(set((df_copy['lat'].to_list())))\n",
    "    \n",
    "    for lat in lat_list:\n",
    "        if lat_values[lat] == 2:\n",
    "            # For each duped latitude, check if the londitude also matches, before continuing\n",
    "            bridge1_index = df_copy.index.get_loc(df_copy[df_copy['lat'] == lat].index[0])\n",
    "            if df_copy.loc[bridge1_index, 'lon'] == df_copy.loc[bridge1_index+1, 'lon']: \n",
    "                con_bridge1 = df_copy.loc[bridge1_index, 'condition']\n",
    "                con_bridge2 = df_copy.loc[bridge1_index+1, 'condition']\n",
    "                if con_bridge1 < con_bridge2:\n",
    "                    df_copy.at[bridge1_index, 'condition'] = con_bridge2\n",
    "                to_be_removed.append(df_copy.loc[bridge1_index+1, 'structureNr'])\n",
    "            \n",
    "    df_cleaned = df_copy[~df_copy['structureNr'].isin(to_be_removed)]\n",
    "    return df_cleaned"
   ],
   "metadata": {
    "collapsed": false,
    "ExecuteTime": {
     "end_time": "2024-04-02T19:16:34.018853300Z",
     "start_time": "2024-04-02T19:16:33.985602900Z"
    }
   },
   "id": "6d8bf73ae080a06c",
   "execution_count": 18
  },
  {
   "cell_type": "code",
   "outputs": [],
   "source": [
    "def correct_dupes_coord(df, road_list):\n",
    "    full_cleaned_df_list = []\n",
    "    \n",
    "    for road in road_list:\n",
    "        dataframe = df[df['road'] == road]\n",
    "        dataframe_cleaned = find_dupes_coord(dataframe)\n",
    "        full_cleaned_df_list.append(dataframe_cleaned)\n",
    "        \n",
    "    df_cleaned = pd.concat(full_cleaned_df_list)\n",
    "    return df_cleaned"
   ],
   "metadata": {
    "collapsed": false,
    "ExecuteTime": {
     "end_time": "2024-04-02T19:16:34.054627100Z",
     "start_time": "2024-04-02T19:16:33.996847100Z"
    }
   },
   "id": "6bba84570955b9db",
   "execution_count": 19
  },
  {
   "cell_type": "code",
   "outputs": [
    {
     "data": {
      "text/plain": "    level_0  index  road      km               type  LRPName  \\\n0         3   2863  R250   8.107        Box Culvert  LRP008a   \n1         4   2864  R250  12.648        Box Culvert  LRP013a   \n2         7   2867  R250  15.317        Box Culvert  LRP015b   \n3         6   2866  R250  14.563        Box Culvert  LRP015a   \n4         5   2865  R250  14.032        Box Culvert  LRP014a   \n..      ...    ...   ...     ...                ...      ...   \n27       29   2617  N204  29.610        Box Culvert  LRP035c   \n28       30   2618  N204  31.801        Box Culvert  LRP038a   \n29       31   2619  N204  32.210  RCC Girder Bridge  LRP038b   \n30       33   2620  N204  33.550        Box Culvert  LRP040a   \n31       34   2621  N204  34.300       Slab Culvert  LRP041a   \n\n                             name  length condition  structureNr  ...  width  \\\n0           HELAL PUR BOX CULVERT    4.50         A       100489  ...   9.70   \n1               SUKNA BOX CULVERT    3.00         A       100487  ...   9.70   \n2             FULBARI BOX CULVERT    3.00         A       100491  ...   9.70   \n3             FULBARI BOX CULVERT    3.00         A       100490  ...   9.80   \n4            BOYTIKOL BOX CULVERT    3.00         A       100488  ...   9.70   \n..                            ...     ...       ...          ...  ...    ...   \n27                        CRIKOTA    1.55         A       104081  ...  11.00   \n28                       DURGAPUR    1.50         A       104084  ...  11.55   \n29      DORGAPUR RCC GIDER BRIDGE   17.80         C       104082  ...   8.00   \n30  NEAR SHAIS TAGAMJ BOX CULVERT    4.50         A       104077  ...   9.75   \n31           UBAHATA SLAB CULVERT    4.30         A       104085  ...   9.70   \n\n    constructionYear  spans    zone         circle  division sub-division  \\\n0             1995.0    1.0  Sylhet         Sylhet    Sylhet    Golapganj   \n1             1995.0    1.0  Sylhet         Sylhet    Sylhet    Golapganj   \n2             1995.0    1.0  Sylhet         Sylhet    Sylhet    Golapganj   \n3             1995.0    1.0  Sylhet         Sylhet    Sylhet    Golapganj   \n4             1995.0    1.0  Sylhet         Sylhet    Sylhet    Golapganj   \n..               ...    ...     ...            ...       ...          ...   \n27            1965.0    1.0  Sylhet  Moulavi Bazar  Habiganj  Shaistagonj   \n28            1965.0    1.0  Sylhet  Moulavi Bazar  Habiganj  Shaistagonj   \n29            1965.0    1.0  Sylhet  Moulavi Bazar  Habiganj  Shaistagonj   \n30            1988.0    1.0  Sylhet  Moulavi Bazar  Habiganj  Shaistagonj   \n31            1964.0    1.0  Sylhet  Moulavi Bazar  Habiganj  Shaistagonj   \n\n          lat        lon  EstimatedLoc  \n0   24.852237  91.934565   interpolate  \n1   24.853910  91.976418   interpolate  \n2   24.854289  92.001478   interpolate  \n3   24.856098  91.994234   interpolate  \n4   24.857246  91.989462   interpolate  \n..        ...        ...           ...  \n27  24.232763  91.504116   interpolate  \n28  24.249896  91.493845   interpolate  \n29  24.252372  91.491274   interpolate  \n30  24.261595  91.482321   interpolate  \n31  24.266583  91.476944          bcs1  \n\n[2385 rows x 22 columns]",
      "text/html": "<div>\n<style scoped>\n    .dataframe tbody tr th:only-of-type {\n        vertical-align: middle;\n    }\n\n    .dataframe tbody tr th {\n        vertical-align: top;\n    }\n\n    .dataframe thead th {\n        text-align: right;\n    }\n</style>\n<table border=\"1\" class=\"dataframe\">\n  <thead>\n    <tr style=\"text-align: right;\">\n      <th></th>\n      <th>level_0</th>\n      <th>index</th>\n      <th>road</th>\n      <th>km</th>\n      <th>type</th>\n      <th>LRPName</th>\n      <th>name</th>\n      <th>length</th>\n      <th>condition</th>\n      <th>structureNr</th>\n      <th>...</th>\n      <th>width</th>\n      <th>constructionYear</th>\n      <th>spans</th>\n      <th>zone</th>\n      <th>circle</th>\n      <th>division</th>\n      <th>sub-division</th>\n      <th>lat</th>\n      <th>lon</th>\n      <th>EstimatedLoc</th>\n    </tr>\n  </thead>\n  <tbody>\n    <tr>\n      <th>0</th>\n      <td>3</td>\n      <td>2863</td>\n      <td>R250</td>\n      <td>8.107</td>\n      <td>Box Culvert</td>\n      <td>LRP008a</td>\n      <td>HELAL PUR BOX CULVERT</td>\n      <td>4.50</td>\n      <td>A</td>\n      <td>100489</td>\n      <td>...</td>\n      <td>9.70</td>\n      <td>1995.0</td>\n      <td>1.0</td>\n      <td>Sylhet</td>\n      <td>Sylhet</td>\n      <td>Sylhet</td>\n      <td>Golapganj</td>\n      <td>24.852237</td>\n      <td>91.934565</td>\n      <td>interpolate</td>\n    </tr>\n    <tr>\n      <th>1</th>\n      <td>4</td>\n      <td>2864</td>\n      <td>R250</td>\n      <td>12.648</td>\n      <td>Box Culvert</td>\n      <td>LRP013a</td>\n      <td>SUKNA BOX CULVERT</td>\n      <td>3.00</td>\n      <td>A</td>\n      <td>100487</td>\n      <td>...</td>\n      <td>9.70</td>\n      <td>1995.0</td>\n      <td>1.0</td>\n      <td>Sylhet</td>\n      <td>Sylhet</td>\n      <td>Sylhet</td>\n      <td>Golapganj</td>\n      <td>24.853910</td>\n      <td>91.976418</td>\n      <td>interpolate</td>\n    </tr>\n    <tr>\n      <th>2</th>\n      <td>7</td>\n      <td>2867</td>\n      <td>R250</td>\n      <td>15.317</td>\n      <td>Box Culvert</td>\n      <td>LRP015b</td>\n      <td>FULBARI BOX CULVERT</td>\n      <td>3.00</td>\n      <td>A</td>\n      <td>100491</td>\n      <td>...</td>\n      <td>9.70</td>\n      <td>1995.0</td>\n      <td>1.0</td>\n      <td>Sylhet</td>\n      <td>Sylhet</td>\n      <td>Sylhet</td>\n      <td>Golapganj</td>\n      <td>24.854289</td>\n      <td>92.001478</td>\n      <td>interpolate</td>\n    </tr>\n    <tr>\n      <th>3</th>\n      <td>6</td>\n      <td>2866</td>\n      <td>R250</td>\n      <td>14.563</td>\n      <td>Box Culvert</td>\n      <td>LRP015a</td>\n      <td>FULBARI BOX CULVERT</td>\n      <td>3.00</td>\n      <td>A</td>\n      <td>100490</td>\n      <td>...</td>\n      <td>9.80</td>\n      <td>1995.0</td>\n      <td>1.0</td>\n      <td>Sylhet</td>\n      <td>Sylhet</td>\n      <td>Sylhet</td>\n      <td>Golapganj</td>\n      <td>24.856098</td>\n      <td>91.994234</td>\n      <td>interpolate</td>\n    </tr>\n    <tr>\n      <th>4</th>\n      <td>5</td>\n      <td>2865</td>\n      <td>R250</td>\n      <td>14.032</td>\n      <td>Box Culvert</td>\n      <td>LRP014a</td>\n      <td>BOYTIKOL BOX CULVERT</td>\n      <td>3.00</td>\n      <td>A</td>\n      <td>100488</td>\n      <td>...</td>\n      <td>9.70</td>\n      <td>1995.0</td>\n      <td>1.0</td>\n      <td>Sylhet</td>\n      <td>Sylhet</td>\n      <td>Sylhet</td>\n      <td>Golapganj</td>\n      <td>24.857246</td>\n      <td>91.989462</td>\n      <td>interpolate</td>\n    </tr>\n    <tr>\n      <th>...</th>\n      <td>...</td>\n      <td>...</td>\n      <td>...</td>\n      <td>...</td>\n      <td>...</td>\n      <td>...</td>\n      <td>...</td>\n      <td>...</td>\n      <td>...</td>\n      <td>...</td>\n      <td>...</td>\n      <td>...</td>\n      <td>...</td>\n      <td>...</td>\n      <td>...</td>\n      <td>...</td>\n      <td>...</td>\n      <td>...</td>\n      <td>...</td>\n      <td>...</td>\n      <td>...</td>\n    </tr>\n    <tr>\n      <th>27</th>\n      <td>29</td>\n      <td>2617</td>\n      <td>N204</td>\n      <td>29.610</td>\n      <td>Box Culvert</td>\n      <td>LRP035c</td>\n      <td>CRIKOTA</td>\n      <td>1.55</td>\n      <td>A</td>\n      <td>104081</td>\n      <td>...</td>\n      <td>11.00</td>\n      <td>1965.0</td>\n      <td>1.0</td>\n      <td>Sylhet</td>\n      <td>Moulavi Bazar</td>\n      <td>Habiganj</td>\n      <td>Shaistagonj</td>\n      <td>24.232763</td>\n      <td>91.504116</td>\n      <td>interpolate</td>\n    </tr>\n    <tr>\n      <th>28</th>\n      <td>30</td>\n      <td>2618</td>\n      <td>N204</td>\n      <td>31.801</td>\n      <td>Box Culvert</td>\n      <td>LRP038a</td>\n      <td>DURGAPUR</td>\n      <td>1.50</td>\n      <td>A</td>\n      <td>104084</td>\n      <td>...</td>\n      <td>11.55</td>\n      <td>1965.0</td>\n      <td>1.0</td>\n      <td>Sylhet</td>\n      <td>Moulavi Bazar</td>\n      <td>Habiganj</td>\n      <td>Shaistagonj</td>\n      <td>24.249896</td>\n      <td>91.493845</td>\n      <td>interpolate</td>\n    </tr>\n    <tr>\n      <th>29</th>\n      <td>31</td>\n      <td>2619</td>\n      <td>N204</td>\n      <td>32.210</td>\n      <td>RCC Girder Bridge</td>\n      <td>LRP038b</td>\n      <td>DORGAPUR RCC GIDER BRIDGE</td>\n      <td>17.80</td>\n      <td>C</td>\n      <td>104082</td>\n      <td>...</td>\n      <td>8.00</td>\n      <td>1965.0</td>\n      <td>1.0</td>\n      <td>Sylhet</td>\n      <td>Moulavi Bazar</td>\n      <td>Habiganj</td>\n      <td>Shaistagonj</td>\n      <td>24.252372</td>\n      <td>91.491274</td>\n      <td>interpolate</td>\n    </tr>\n    <tr>\n      <th>30</th>\n      <td>33</td>\n      <td>2620</td>\n      <td>N204</td>\n      <td>33.550</td>\n      <td>Box Culvert</td>\n      <td>LRP040a</td>\n      <td>NEAR SHAIS TAGAMJ BOX CULVERT</td>\n      <td>4.50</td>\n      <td>A</td>\n      <td>104077</td>\n      <td>...</td>\n      <td>9.75</td>\n      <td>1988.0</td>\n      <td>1.0</td>\n      <td>Sylhet</td>\n      <td>Moulavi Bazar</td>\n      <td>Habiganj</td>\n      <td>Shaistagonj</td>\n      <td>24.261595</td>\n      <td>91.482321</td>\n      <td>interpolate</td>\n    </tr>\n    <tr>\n      <th>31</th>\n      <td>34</td>\n      <td>2621</td>\n      <td>N204</td>\n      <td>34.300</td>\n      <td>Slab Culvert</td>\n      <td>LRP041a</td>\n      <td>UBAHATA SLAB CULVERT</td>\n      <td>4.30</td>\n      <td>A</td>\n      <td>104085</td>\n      <td>...</td>\n      <td>9.70</td>\n      <td>1964.0</td>\n      <td>1.0</td>\n      <td>Sylhet</td>\n      <td>Moulavi Bazar</td>\n      <td>Habiganj</td>\n      <td>Shaistagonj</td>\n      <td>24.266583</td>\n      <td>91.476944</td>\n      <td>bcs1</td>\n    </tr>\n  </tbody>\n</table>\n<p>2385 rows × 22 columns</p>\n</div>"
     },
     "execution_count": 20,
     "metadata": {},
     "output_type": "execute_result"
    }
   ],
   "source": [
    "df_cleaned_coord = correct_dupes_coord(cleaned_bridges_LRP, roads)\n",
    "df_cleaned_coord"
   ],
   "metadata": {
    "collapsed": false,
    "ExecuteTime": {
     "end_time": "2024-04-02T19:16:34.262727400Z",
     "start_time": "2024-04-02T19:16:34.040302900Z"
    }
   },
   "id": "c85061f446055609",
   "execution_count": 20
  },
  {
   "cell_type": "code",
   "outputs": [
    {
     "data": {
      "text/plain": "level_0              0\nindex                0\nroad                 0\nkm                   0\ntype                 0\nLRPName              0\nname                 0\nlength               0\ncondition            0\nstructureNr          0\nroadName             0\nchainage             0\nwidth               18\nconstructionYear    18\nspans               18\nzone                 0\ncircle               0\ndivision             0\nsub-division         0\nlat                  0\nlon                  0\nEstimatedLoc         0\ndtype: int64"
     },
     "execution_count": 21,
     "metadata": {},
     "output_type": "execute_result"
    }
   ],
   "source": [
    "df_cleaned_coord.isna().sum()"
   ],
   "metadata": {
    "collapsed": false,
    "ExecuteTime": {
     "end_time": "2024-04-02T19:16:34.264676900Z",
     "start_time": "2024-04-02T19:16:34.182970600Z"
    }
   },
   "id": "30d3a39f7b2ca5cc",
   "execution_count": 21
  },
  {
   "cell_type": "markdown",
   "source": [
    "In this last and final iteration of cleaning, 11 bridges got removed. With this, the missing values got reduced to 17 entries"
   ],
   "metadata": {
    "collapsed": false
   },
   "id": "9c86c5fadee436aa"
  },
  {
   "cell_type": "markdown",
   "source": [
    "## Find out which bridge width corresponds to which amount of lanes\n",
    "In order to make the probability of the bridges braking down in the model as accurate as possible, the amount of lanes each bridge has will be added based on the width of the bridge "
   ],
   "metadata": {
    "collapsed": false
   },
   "id": "5861e57830bb1d45"
  },
  {
   "cell_type": "code",
   "outputs": [],
   "source": [
    "# Import the RMMS width files from the N1 and N2\n",
    "N1_width = pd.read_table('../data/raw/N1.widths.processed.txt')\n",
    "N2_width = pd.read_table('../data/raw/N2.widths.processed.txt')"
   ],
   "metadata": {
    "collapsed": false,
    "ExecuteTime": {
     "end_time": "2024-04-02T19:16:34.264676900Z",
     "start_time": "2024-04-02T19:16:34.199671500Z"
    }
   },
   "id": "77e8cbe28d554a5c",
   "execution_count": 22
  },
  {
   "cell_type": "code",
   "outputs": [
    {
     "data": {
      "text/plain": "   roadNo  roadId  startChainage  endChainage  width  nrLanes\n0      N1    1585          0.000        0.130   29.7        8\n1      N1    1585          0.130        0.400   14.0        4\n2      N1    1585          0.400        1.050   28.3        8\n3      N1    1585          1.050        5.100   16.5        5\n4      N1    1585          5.100        6.200   16.2        5\n..    ...     ...            ...          ...    ...      ...\n59     N1    1585        429.682      437.968    5.8        2\n60     N1    1585        437.968      444.511    5.7        2\n61     N1    1585        444.511      451.519    5.6        2\n62     N1    1585        451.519      459.326    5.7        2\n63     N1    1585        459.326      462.254    6.3        2\n\n[64 rows x 6 columns]",
      "text/html": "<div>\n<style scoped>\n    .dataframe tbody tr th:only-of-type {\n        vertical-align: middle;\n    }\n\n    .dataframe tbody tr th {\n        vertical-align: top;\n    }\n\n    .dataframe thead th {\n        text-align: right;\n    }\n</style>\n<table border=\"1\" class=\"dataframe\">\n  <thead>\n    <tr style=\"text-align: right;\">\n      <th></th>\n      <th>roadNo</th>\n      <th>roadId</th>\n      <th>startChainage</th>\n      <th>endChainage</th>\n      <th>width</th>\n      <th>nrLanes</th>\n    </tr>\n  </thead>\n  <tbody>\n    <tr>\n      <th>0</th>\n      <td>N1</td>\n      <td>1585</td>\n      <td>0.000</td>\n      <td>0.130</td>\n      <td>29.7</td>\n      <td>8</td>\n    </tr>\n    <tr>\n      <th>1</th>\n      <td>N1</td>\n      <td>1585</td>\n      <td>0.130</td>\n      <td>0.400</td>\n      <td>14.0</td>\n      <td>4</td>\n    </tr>\n    <tr>\n      <th>2</th>\n      <td>N1</td>\n      <td>1585</td>\n      <td>0.400</td>\n      <td>1.050</td>\n      <td>28.3</td>\n      <td>8</td>\n    </tr>\n    <tr>\n      <th>3</th>\n      <td>N1</td>\n      <td>1585</td>\n      <td>1.050</td>\n      <td>5.100</td>\n      <td>16.5</td>\n      <td>5</td>\n    </tr>\n    <tr>\n      <th>4</th>\n      <td>N1</td>\n      <td>1585</td>\n      <td>5.100</td>\n      <td>6.200</td>\n      <td>16.2</td>\n      <td>5</td>\n    </tr>\n    <tr>\n      <th>...</th>\n      <td>...</td>\n      <td>...</td>\n      <td>...</td>\n      <td>...</td>\n      <td>...</td>\n      <td>...</td>\n    </tr>\n    <tr>\n      <th>59</th>\n      <td>N1</td>\n      <td>1585</td>\n      <td>429.682</td>\n      <td>437.968</td>\n      <td>5.8</td>\n      <td>2</td>\n    </tr>\n    <tr>\n      <th>60</th>\n      <td>N1</td>\n      <td>1585</td>\n      <td>437.968</td>\n      <td>444.511</td>\n      <td>5.7</td>\n      <td>2</td>\n    </tr>\n    <tr>\n      <th>61</th>\n      <td>N1</td>\n      <td>1585</td>\n      <td>444.511</td>\n      <td>451.519</td>\n      <td>5.6</td>\n      <td>2</td>\n    </tr>\n    <tr>\n      <th>62</th>\n      <td>N1</td>\n      <td>1585</td>\n      <td>451.519</td>\n      <td>459.326</td>\n      <td>5.7</td>\n      <td>2</td>\n    </tr>\n    <tr>\n      <th>63</th>\n      <td>N1</td>\n      <td>1585</td>\n      <td>459.326</td>\n      <td>462.254</td>\n      <td>6.3</td>\n      <td>2</td>\n    </tr>\n  </tbody>\n</table>\n<p>64 rows × 6 columns</p>\n</div>"
     },
     "execution_count": 23,
     "metadata": {},
     "output_type": "execute_result"
    }
   ],
   "source": [
    "N1_width"
   ],
   "metadata": {
    "collapsed": false,
    "ExecuteTime": {
     "end_time": "2024-04-02T19:16:34.264676900Z",
     "start_time": "2024-04-02T19:16:34.217131600Z"
    }
   },
   "id": "139186ffd8ccfb4",
   "execution_count": 23
  },
  {
   "cell_type": "code",
   "outputs": [],
   "source": [
    "def find_min_max(dataframe, lanes):\n",
    "    min, max = 100, 0 # pick numbers that will be overruled \n",
    "    df_lanes = dataframe[dataframe['nrLanes']==lanes]\n",
    "    df_lanes.reset_index(inplace=True)\n",
    "    for row in range(len(df_lanes)):\n",
    "        if df_lanes.loc[row, 'width'] > max:\n",
    "            max = df_lanes.at[row, 'width']\n",
    "        if df_lanes.loc[row, 'width'] < min:\n",
    "            min = df_lanes.at[row, 'width']\n",
    "    return min, max"
   ],
   "metadata": {
    "collapsed": false,
    "ExecuteTime": {
     "end_time": "2024-04-02T19:16:34.264676900Z",
     "start_time": "2024-04-02T19:16:34.247637400Z"
    }
   },
   "id": "35f95413e6d54331",
   "execution_count": 24
  },
  {
   "cell_type": "code",
   "outputs": [
    {
     "name": "stdout",
     "output_type": "stream",
     "text": [
      "Information from N1 width files\n",
      "Lanes: 0 - min width: 100 meters - max width: 0 meters\n",
      "Lanes: 1 - min width: 100 meters - max width: 0 meters\n",
      "Lanes: 2 - min width: 5.6 meters - max width: 8.2 meters\n",
      "Lanes: 3 - min width: 10.3 meters - max width: 10.3 meters\n",
      "Lanes: 4 - min width: 14.0 meters - max width: 15.0 meters\n",
      "Lanes: 5 - min width: 15.3 meters - max width: 16.5 meters\n",
      "Lanes: 6 - min width: 18.6 meters - max width: 46.9 meters\n",
      "Lanes: 7 - min width: 100 meters - max width: 0 meters\n",
      "Lanes: 8 - min width: 25.7 meters - max width: 29.7 meters\n"
     ]
    }
   ],
   "source": [
    "print('Information from N1 width files')\n",
    "for lanes in range(9):\n",
    "    min_lane, max_lane = find_min_max(N1_width, lanes)\n",
    "    print(f'Lanes: {lanes} - min width: {min_lane} meters - max width: {max_lane} meters')"
   ],
   "metadata": {
    "collapsed": false,
    "ExecuteTime": {
     "end_time": "2024-04-02T19:16:34.314600400Z",
     "start_time": "2024-04-02T19:16:34.258849700Z"
    }
   },
   "id": "9bea18c5504c4f37",
   "execution_count": 25
  },
  {
   "cell_type": "code",
   "outputs": [
    {
     "data": {
      "text/plain": "   roadNo  roadId  startChainage  endChainage  width  nrLanes\n18     N1    1585         22.330       22.800   46.9        6\n26     N1    1585         41.761       45.819   18.9        6\n27     N1    1585         45.819       54.029   18.9        6\n28     N1    1585         54.029      229.046   18.8        6\n30     N1    1585        230.606      232.754   18.6        6",
      "text/html": "<div>\n<style scoped>\n    .dataframe tbody tr th:only-of-type {\n        vertical-align: middle;\n    }\n\n    .dataframe tbody tr th {\n        vertical-align: top;\n    }\n\n    .dataframe thead th {\n        text-align: right;\n    }\n</style>\n<table border=\"1\" class=\"dataframe\">\n  <thead>\n    <tr style=\"text-align: right;\">\n      <th></th>\n      <th>roadNo</th>\n      <th>roadId</th>\n      <th>startChainage</th>\n      <th>endChainage</th>\n      <th>width</th>\n      <th>nrLanes</th>\n    </tr>\n  </thead>\n  <tbody>\n    <tr>\n      <th>18</th>\n      <td>N1</td>\n      <td>1585</td>\n      <td>22.330</td>\n      <td>22.800</td>\n      <td>46.9</td>\n      <td>6</td>\n    </tr>\n    <tr>\n      <th>26</th>\n      <td>N1</td>\n      <td>1585</td>\n      <td>41.761</td>\n      <td>45.819</td>\n      <td>18.9</td>\n      <td>6</td>\n    </tr>\n    <tr>\n      <th>27</th>\n      <td>N1</td>\n      <td>1585</td>\n      <td>45.819</td>\n      <td>54.029</td>\n      <td>18.9</td>\n      <td>6</td>\n    </tr>\n    <tr>\n      <th>28</th>\n      <td>N1</td>\n      <td>1585</td>\n      <td>54.029</td>\n      <td>229.046</td>\n      <td>18.8</td>\n      <td>6</td>\n    </tr>\n    <tr>\n      <th>30</th>\n      <td>N1</td>\n      <td>1585</td>\n      <td>230.606</td>\n      <td>232.754</td>\n      <td>18.6</td>\n      <td>6</td>\n    </tr>\n  </tbody>\n</table>\n</div>"
     },
     "execution_count": 26,
     "metadata": {},
     "output_type": "execute_result"
    }
   ],
   "source": [
    "# There is an outlier in the 6 lanes maximum\n",
    "N1_width[N1_width['nrLanes'] == 6] # so it has to be 18.9 meters"
   ],
   "metadata": {
    "collapsed": false,
    "ExecuteTime": {
     "end_time": "2024-04-02T19:16:34.414643600Z",
     "start_time": "2024-04-02T19:16:34.284073200Z"
    }
   },
   "id": "e052902a0b98c8de",
   "execution_count": 26
  },
  {
   "cell_type": "code",
   "outputs": [
    {
     "name": "stdout",
     "output_type": "stream",
     "text": [
      "Information from N2 width files\n",
      "Lanes: 0 - min width: 100 meters - max width: 0 meters\n",
      "Lanes: 1 - min width: 100 meters - max width: 0 meters\n",
      "Lanes: 2 - min width: 7.0 meters - max width: 8.0 meters\n",
      "Lanes: 3 - min width: 8.0 meters - max width: 12.0 meters\n",
      "Lanes: 4 - min width: 13.0 meters - max width: 140.0 meters\n",
      "Lanes: 5 - min width: 17.2 meters - max width: 17.2 meters\n",
      "Lanes: 6 - min width: 18.0 meters - max width: 21.0 meters\n",
      "Lanes: 7 - min width: 100 meters - max width: 0 meters\n",
      "Lanes: 8 - min width: 100 meters - max width: 0 meters\n"
     ]
    }
   ],
   "source": [
    "print('Information from N2 width files')\n",
    "for lanes in range(9):\n",
    "    min_lane, max_lane = find_min_max(N2_width, lanes)\n",
    "    print(f'Lanes: {lanes} - min width: {min_lane} meters - max width: {max_lane} meters')"
   ],
   "metadata": {
    "collapsed": false,
    "ExecuteTime": {
     "end_time": "2024-04-02T19:16:34.414643600Z",
     "start_time": "2024-04-02T19:16:34.299432900Z"
    }
   },
   "id": "c1232d1d384ef0de",
   "execution_count": 27
  },
  {
   "cell_type": "code",
   "outputs": [
    {
     "data": {
      "text/plain": "    roadNo  roadId  startChainage  endChainage  width  nrLanes\n0       N2    1479          0.000        0.130   15.2        4\n1       N2    1479          0.130        0.260   14.0        4\n10      N2    1479         10.996       11.276   14.0        4\n16      N2    1479         25.416       26.036   13.4        4\n19      N2    1479         27.376       27.626   13.4        4\n20      N2    1479         27.626       27.876   13.4        4\n21      N2    1479         27.876       28.426   14.0        4\n23      N2    1479         29.826       30.076   13.4        4\n24      N2    1479         30.076       30.426  140.0        4\n34      N2    1479         42.526       42.616   17.0        4\n35      N2    1479         42.616       42.766   17.0        4\n36      N2    1479         42.766       42.916   14.0        4\n38      N2    1479         50.171       50.391   17.0        4\n40      N2    1479         51.671       51.871   16.0        4\n42      N2    1479         52.671       52.821   16.0        4\n44      N2    1479         54.436       54.726   16.4        4\n46      N2    1479         58.876       59.126   16.0        4\n48      N2    1479         63.848       64.048   16.0        4\n52      N2    1479         70.098       70.848   16.0        4\n54      N2    1479         71.108       73.598   17.0        4\n55      N2    1479         73.598       73.848   13.5        4\n58      N2    1479         85.713       85.963   14.0        4\n62      N2    1479         92.246       92.796   16.0        4\n69      N2    1479        116.126      116.516   13.0        4\n77      N2    1479        141.181      141.431   16.0        4\n80      N2    1479        145.841      146.081   16.0        4\n100     N2    1479        181.580      181.730   16.0        4\n102     N2    1479        190.820      190.970   16.0        4\n120     N2    1479        225.323      225.528   16.0        4",
      "text/html": "<div>\n<style scoped>\n    .dataframe tbody tr th:only-of-type {\n        vertical-align: middle;\n    }\n\n    .dataframe tbody tr th {\n        vertical-align: top;\n    }\n\n    .dataframe thead th {\n        text-align: right;\n    }\n</style>\n<table border=\"1\" class=\"dataframe\">\n  <thead>\n    <tr style=\"text-align: right;\">\n      <th></th>\n      <th>roadNo</th>\n      <th>roadId</th>\n      <th>startChainage</th>\n      <th>endChainage</th>\n      <th>width</th>\n      <th>nrLanes</th>\n    </tr>\n  </thead>\n  <tbody>\n    <tr>\n      <th>0</th>\n      <td>N2</td>\n      <td>1479</td>\n      <td>0.000</td>\n      <td>0.130</td>\n      <td>15.2</td>\n      <td>4</td>\n    </tr>\n    <tr>\n      <th>1</th>\n      <td>N2</td>\n      <td>1479</td>\n      <td>0.130</td>\n      <td>0.260</td>\n      <td>14.0</td>\n      <td>4</td>\n    </tr>\n    <tr>\n      <th>10</th>\n      <td>N2</td>\n      <td>1479</td>\n      <td>10.996</td>\n      <td>11.276</td>\n      <td>14.0</td>\n      <td>4</td>\n    </tr>\n    <tr>\n      <th>16</th>\n      <td>N2</td>\n      <td>1479</td>\n      <td>25.416</td>\n      <td>26.036</td>\n      <td>13.4</td>\n      <td>4</td>\n    </tr>\n    <tr>\n      <th>19</th>\n      <td>N2</td>\n      <td>1479</td>\n      <td>27.376</td>\n      <td>27.626</td>\n      <td>13.4</td>\n      <td>4</td>\n    </tr>\n    <tr>\n      <th>20</th>\n      <td>N2</td>\n      <td>1479</td>\n      <td>27.626</td>\n      <td>27.876</td>\n      <td>13.4</td>\n      <td>4</td>\n    </tr>\n    <tr>\n      <th>21</th>\n      <td>N2</td>\n      <td>1479</td>\n      <td>27.876</td>\n      <td>28.426</td>\n      <td>14.0</td>\n      <td>4</td>\n    </tr>\n    <tr>\n      <th>23</th>\n      <td>N2</td>\n      <td>1479</td>\n      <td>29.826</td>\n      <td>30.076</td>\n      <td>13.4</td>\n      <td>4</td>\n    </tr>\n    <tr>\n      <th>24</th>\n      <td>N2</td>\n      <td>1479</td>\n      <td>30.076</td>\n      <td>30.426</td>\n      <td>140.0</td>\n      <td>4</td>\n    </tr>\n    <tr>\n      <th>34</th>\n      <td>N2</td>\n      <td>1479</td>\n      <td>42.526</td>\n      <td>42.616</td>\n      <td>17.0</td>\n      <td>4</td>\n    </tr>\n    <tr>\n      <th>35</th>\n      <td>N2</td>\n      <td>1479</td>\n      <td>42.616</td>\n      <td>42.766</td>\n      <td>17.0</td>\n      <td>4</td>\n    </tr>\n    <tr>\n      <th>36</th>\n      <td>N2</td>\n      <td>1479</td>\n      <td>42.766</td>\n      <td>42.916</td>\n      <td>14.0</td>\n      <td>4</td>\n    </tr>\n    <tr>\n      <th>38</th>\n      <td>N2</td>\n      <td>1479</td>\n      <td>50.171</td>\n      <td>50.391</td>\n      <td>17.0</td>\n      <td>4</td>\n    </tr>\n    <tr>\n      <th>40</th>\n      <td>N2</td>\n      <td>1479</td>\n      <td>51.671</td>\n      <td>51.871</td>\n      <td>16.0</td>\n      <td>4</td>\n    </tr>\n    <tr>\n      <th>42</th>\n      <td>N2</td>\n      <td>1479</td>\n      <td>52.671</td>\n      <td>52.821</td>\n      <td>16.0</td>\n      <td>4</td>\n    </tr>\n    <tr>\n      <th>44</th>\n      <td>N2</td>\n      <td>1479</td>\n      <td>54.436</td>\n      <td>54.726</td>\n      <td>16.4</td>\n      <td>4</td>\n    </tr>\n    <tr>\n      <th>46</th>\n      <td>N2</td>\n      <td>1479</td>\n      <td>58.876</td>\n      <td>59.126</td>\n      <td>16.0</td>\n      <td>4</td>\n    </tr>\n    <tr>\n      <th>48</th>\n      <td>N2</td>\n      <td>1479</td>\n      <td>63.848</td>\n      <td>64.048</td>\n      <td>16.0</td>\n      <td>4</td>\n    </tr>\n    <tr>\n      <th>52</th>\n      <td>N2</td>\n      <td>1479</td>\n      <td>70.098</td>\n      <td>70.848</td>\n      <td>16.0</td>\n      <td>4</td>\n    </tr>\n    <tr>\n      <th>54</th>\n      <td>N2</td>\n      <td>1479</td>\n      <td>71.108</td>\n      <td>73.598</td>\n      <td>17.0</td>\n      <td>4</td>\n    </tr>\n    <tr>\n      <th>55</th>\n      <td>N2</td>\n      <td>1479</td>\n      <td>73.598</td>\n      <td>73.848</td>\n      <td>13.5</td>\n      <td>4</td>\n    </tr>\n    <tr>\n      <th>58</th>\n      <td>N2</td>\n      <td>1479</td>\n      <td>85.713</td>\n      <td>85.963</td>\n      <td>14.0</td>\n      <td>4</td>\n    </tr>\n    <tr>\n      <th>62</th>\n      <td>N2</td>\n      <td>1479</td>\n      <td>92.246</td>\n      <td>92.796</td>\n      <td>16.0</td>\n      <td>4</td>\n    </tr>\n    <tr>\n      <th>69</th>\n      <td>N2</td>\n      <td>1479</td>\n      <td>116.126</td>\n      <td>116.516</td>\n      <td>13.0</td>\n      <td>4</td>\n    </tr>\n    <tr>\n      <th>77</th>\n      <td>N2</td>\n      <td>1479</td>\n      <td>141.181</td>\n      <td>141.431</td>\n      <td>16.0</td>\n      <td>4</td>\n    </tr>\n    <tr>\n      <th>80</th>\n      <td>N2</td>\n      <td>1479</td>\n      <td>145.841</td>\n      <td>146.081</td>\n      <td>16.0</td>\n      <td>4</td>\n    </tr>\n    <tr>\n      <th>100</th>\n      <td>N2</td>\n      <td>1479</td>\n      <td>181.580</td>\n      <td>181.730</td>\n      <td>16.0</td>\n      <td>4</td>\n    </tr>\n    <tr>\n      <th>102</th>\n      <td>N2</td>\n      <td>1479</td>\n      <td>190.820</td>\n      <td>190.970</td>\n      <td>16.0</td>\n      <td>4</td>\n    </tr>\n    <tr>\n      <th>120</th>\n      <td>N2</td>\n      <td>1479</td>\n      <td>225.323</td>\n      <td>225.528</td>\n      <td>16.0</td>\n      <td>4</td>\n    </tr>\n  </tbody>\n</table>\n</div>"
     },
     "execution_count": 28,
     "metadata": {},
     "output_type": "execute_result"
    }
   ],
   "source": [
    "# There is an outlier in the 4 lanes maximum\n",
    "N2_width[N2_width['nrLanes'] == 4] # so it has to be 17.0 meters"
   ],
   "metadata": {
    "collapsed": false,
    "ExecuteTime": {
     "end_time": "2024-04-02T19:16:34.426402700Z",
     "start_time": "2024-04-02T19:16:34.313601700Z"
    }
   },
   "id": "d8a38cd73df9ffab",
   "execution_count": 28
  },
  {
   "cell_type": "markdown",
   "source": [
    "Based on the width values from the RMMS files, and the assumption that roads are always symmetrical, and the values from this official Bangladeshi source (https://www.rhd.gov.bd/Documents/RoadDesignAndSafety/Road%20Geometric%20Design%20Manual/Cross-Sections.pdf), which states that a roads needs to be 3.7m wide, we have landed on the following amount of lanes for width ranges <br>\n",
    "<12m = 2 lanes <br>\n",
    "12-18m = 4 lanes <br>\n",
    "18-22m = 6 lanes <br>\n",
    "22-30m = 8 lanes <br>"
   ],
   "metadata": {
    "collapsed": false
   },
   "id": "1e91d44913372c28"
  },
  {
   "cell_type": "markdown",
   "source": [
    "## Generate the amount of lanes per road"
   ],
   "metadata": {
    "collapsed": false
   },
   "id": "a4c62f77424bff4d"
  },
  {
   "cell_type": "code",
   "outputs": [
    {
     "data": {
      "text/plain": "     level_0  index   road       km                   type  LRPName  \\\n38        20   2873   R250   32.593      RCC Girder Bridge  LRP033a   \n75       150  15762     N2   97.263      RCC Girder Bridge  LRP098a   \n89        72  15743     N2   58.035      RCC Girder Bridge  LRP058a   \n335      390    772     N2  183.481       PC Girder Bridge  LRP184a   \n387      454    823     N2  224.112       PC Girder Bridge  LRP225a   \n36        47   5619  Z1042   31.775      RCC Girder Bridge  LRP034a   \n18        18  16292   R203   15.057  Truss with Steel Deck  LRP015a   \n30        21  17358  Z1048   10.195  Baily with Steel Deck  LRP011b   \n15        52   2281   R151   31.573  Truss with Steel Deck  LRP033d   \n21        44  16188   R151   26.086  Truss with Steel Deck  LRP026a   \n1         96  15266   R170   55.306      RCC Girder Bridge  LRP054c   \n507      174     89     N1  148.174       PC Girder Bridge  LRP149b   \n624       21     14     N1   17.222       PC Girder Bridge  LRP018a   \n629       14     11     N1   12.688       PC Girder Bridge  LRP013b   \n14       118  15498   R360  102.911       PC Girder Bridge  LRP103b   \n16        24   2853   R241   39.086             RCC Bridge  LRP039a   \n21        18  11292  Z1031   18.998      RCC Girder Bridge  LRP019a   \n9         14   2607   N204   16.284      RCC Girder Bridge  LRP019b   \n\n                     name  length condition  structureNr  ... width  \\\n38      Kamar Gram Bridge   14.50         A       121823  ...   NaN   \n75        Khilsima Bridge   27.03         C       121822  ...   NaN   \n89      Bridge Over Arial  241.61         C       121824  ...   NaN   \n335       Minazpur Bridge   73.00         A       120959  ...   NaN   \n387     Teli Bazar Bridge   40.80         A       120623  ...   NaN   \n36          Shalpa Bridge   36.60         A       120374  ...   NaN   \n18    Ramchandradi Bridge  148.11         C       120134  ...   NaN   \n30           Gogor Bridge   15.25         C       120804  ...   NaN   \n15         Gozaria Bridge   42.67         A       121390  ...   NaN   \n21         Datmara Bridge   18.38         C       121817  ...   NaN   \n1    Hashiyar Para Bridge   15.80         B       121173  ...   NaN   \n507      Rampur Bridge(R)   22.15         A       121134  ...   NaN   \n624  Darikandi Bridge (L)   20.50         A       119921  ...   NaN   \n629    Madanpur Bridge(R)   27.50         A       119900  ...   NaN   \n14       Ganokkhal Bridge   43.45         B       120041  ...   NaN   \n16          Chayra Bridge   19.20         A       121842  ...   NaN   \n21     Mandair pul Bridge    9.46         B       121846  ...   NaN   \n9       Ram Bhanga Bridge   50.00         A       120979  ...   NaN   \n\n     constructionYear  spans        zone         circle      division  \\\n38                NaN    NaN      Sylhet         Sylhet        Sylhet   \n75                NaN    NaN     Comilla        Comilla  Brahmanbaria   \n89                NaN    NaN       Dhaka          Dhaka     Narsingdi   \n335               NaN    NaN      Sylhet  Moulavi Bazar      Habiganj   \n387               NaN    NaN      Sylhet         Sylhet        Sylhet   \n36                NaN    NaN     Comilla        Comilla  Brahmanbaria   \n18                NaN    NaN       Dhaka          Dhaka   Narayanganj   \n30                NaN    NaN     Comilla        Comilla       Comilla   \n15                NaN    NaN  Chittagong     Chittagong    Chittagong   \n21                NaN    NaN  Chittagong     Chittagong    Chittagong   \n1                 NaN    NaN  Chittagong     Chittagong      Dohazari   \n507               NaN    NaN     Comilla       Noakhali          Feni   \n624               NaN    NaN       Dhaka          Dhaka   Narayanganj   \n629               NaN    NaN       Dhaka          Dhaka   Narayanganj   \n14                NaN    NaN  Mymensingh     Mymensingh   Kishoreganj   \n16                NaN    NaN      Sylhet         Sylhet     Sunamganj   \n21                NaN    NaN     Comilla       Noakhali          Feni   \n9                 NaN    NaN      Sylhet  Moulavi Bazar      Habiganj   \n\n      sub-division        lat        lon  EstimatedLoc  \n38       Golapganj  24.906861  92.153000   interpolate  \n75    Brahmanbaria  24.041972  91.213833   interpolate  \n89         Shibpur  24.046916  90.862139   interpolate  \n335       Habigonj  24.599886  91.614736   interpolate  \n387         Sylhet  24.860883  91.846677   interpolate  \n36    Bancharampur  23.702074  90.899216   interpolate  \n18   Narayanganj-1  23.790643  90.708091   interpolate  \n30         Comilla  23.178267  91.197997   interpolate  \n15       Sitakunda  22.809674  91.718117   interpolate  \n21       Sitakunda  22.852972  91.706056   interpolate  \n1         Dohazari  21.898680  91.965668   interpolate  \n507         Feni-1  22.994594  91.402454   interpolate  \n624      Vitikandi  23.653972  90.577410   interpolate  \n629      Vitikandi  23.685362  90.551359   interpolate  \n14         Bhairab  24.148679  90.905343   interpolate  \n16         Chattak  24.878444  91.489139   interpolate  \n21          Feni-2  23.036916  91.492750   interpolate  \n9      Shaistagonj  24.134762  91.476983   interpolate  \n\n[18 rows x 22 columns]",
      "text/html": "<div>\n<style scoped>\n    .dataframe tbody tr th:only-of-type {\n        vertical-align: middle;\n    }\n\n    .dataframe tbody tr th {\n        vertical-align: top;\n    }\n\n    .dataframe thead th {\n        text-align: right;\n    }\n</style>\n<table border=\"1\" class=\"dataframe\">\n  <thead>\n    <tr style=\"text-align: right;\">\n      <th></th>\n      <th>level_0</th>\n      <th>index</th>\n      <th>road</th>\n      <th>km</th>\n      <th>type</th>\n      <th>LRPName</th>\n      <th>name</th>\n      <th>length</th>\n      <th>condition</th>\n      <th>structureNr</th>\n      <th>...</th>\n      <th>width</th>\n      <th>constructionYear</th>\n      <th>spans</th>\n      <th>zone</th>\n      <th>circle</th>\n      <th>division</th>\n      <th>sub-division</th>\n      <th>lat</th>\n      <th>lon</th>\n      <th>EstimatedLoc</th>\n    </tr>\n  </thead>\n  <tbody>\n    <tr>\n      <th>38</th>\n      <td>20</td>\n      <td>2873</td>\n      <td>R250</td>\n      <td>32.593</td>\n      <td>RCC Girder Bridge</td>\n      <td>LRP033a</td>\n      <td>Kamar Gram Bridge</td>\n      <td>14.50</td>\n      <td>A</td>\n      <td>121823</td>\n      <td>...</td>\n      <td>NaN</td>\n      <td>NaN</td>\n      <td>NaN</td>\n      <td>Sylhet</td>\n      <td>Sylhet</td>\n      <td>Sylhet</td>\n      <td>Golapganj</td>\n      <td>24.906861</td>\n      <td>92.153000</td>\n      <td>interpolate</td>\n    </tr>\n    <tr>\n      <th>75</th>\n      <td>150</td>\n      <td>15762</td>\n      <td>N2</td>\n      <td>97.263</td>\n      <td>RCC Girder Bridge</td>\n      <td>LRP098a</td>\n      <td>Khilsima Bridge</td>\n      <td>27.03</td>\n      <td>C</td>\n      <td>121822</td>\n      <td>...</td>\n      <td>NaN</td>\n      <td>NaN</td>\n      <td>NaN</td>\n      <td>Comilla</td>\n      <td>Comilla</td>\n      <td>Brahmanbaria</td>\n      <td>Brahmanbaria</td>\n      <td>24.041972</td>\n      <td>91.213833</td>\n      <td>interpolate</td>\n    </tr>\n    <tr>\n      <th>89</th>\n      <td>72</td>\n      <td>15743</td>\n      <td>N2</td>\n      <td>58.035</td>\n      <td>RCC Girder Bridge</td>\n      <td>LRP058a</td>\n      <td>Bridge Over Arial</td>\n      <td>241.61</td>\n      <td>C</td>\n      <td>121824</td>\n      <td>...</td>\n      <td>NaN</td>\n      <td>NaN</td>\n      <td>NaN</td>\n      <td>Dhaka</td>\n      <td>Dhaka</td>\n      <td>Narsingdi</td>\n      <td>Shibpur</td>\n      <td>24.046916</td>\n      <td>90.862139</td>\n      <td>interpolate</td>\n    </tr>\n    <tr>\n      <th>335</th>\n      <td>390</td>\n      <td>772</td>\n      <td>N2</td>\n      <td>183.481</td>\n      <td>PC Girder Bridge</td>\n      <td>LRP184a</td>\n      <td>Minazpur Bridge</td>\n      <td>73.00</td>\n      <td>A</td>\n      <td>120959</td>\n      <td>...</td>\n      <td>NaN</td>\n      <td>NaN</td>\n      <td>NaN</td>\n      <td>Sylhet</td>\n      <td>Moulavi Bazar</td>\n      <td>Habiganj</td>\n      <td>Habigonj</td>\n      <td>24.599886</td>\n      <td>91.614736</td>\n      <td>interpolate</td>\n    </tr>\n    <tr>\n      <th>387</th>\n      <td>454</td>\n      <td>823</td>\n      <td>N2</td>\n      <td>224.112</td>\n      <td>PC Girder Bridge</td>\n      <td>LRP225a</td>\n      <td>Teli Bazar Bridge</td>\n      <td>40.80</td>\n      <td>A</td>\n      <td>120623</td>\n      <td>...</td>\n      <td>NaN</td>\n      <td>NaN</td>\n      <td>NaN</td>\n      <td>Sylhet</td>\n      <td>Sylhet</td>\n      <td>Sylhet</td>\n      <td>Sylhet</td>\n      <td>24.860883</td>\n      <td>91.846677</td>\n      <td>interpolate</td>\n    </tr>\n    <tr>\n      <th>36</th>\n      <td>47</td>\n      <td>5619</td>\n      <td>Z1042</td>\n      <td>31.775</td>\n      <td>RCC Girder Bridge</td>\n      <td>LRP034a</td>\n      <td>Shalpa Bridge</td>\n      <td>36.60</td>\n      <td>A</td>\n      <td>120374</td>\n      <td>...</td>\n      <td>NaN</td>\n      <td>NaN</td>\n      <td>NaN</td>\n      <td>Comilla</td>\n      <td>Comilla</td>\n      <td>Brahmanbaria</td>\n      <td>Bancharampur</td>\n      <td>23.702074</td>\n      <td>90.899216</td>\n      <td>interpolate</td>\n    </tr>\n    <tr>\n      <th>18</th>\n      <td>18</td>\n      <td>16292</td>\n      <td>R203</td>\n      <td>15.057</td>\n      <td>Truss with Steel Deck</td>\n      <td>LRP015a</td>\n      <td>Ramchandradi Bridge</td>\n      <td>148.11</td>\n      <td>C</td>\n      <td>120134</td>\n      <td>...</td>\n      <td>NaN</td>\n      <td>NaN</td>\n      <td>NaN</td>\n      <td>Dhaka</td>\n      <td>Dhaka</td>\n      <td>Narayanganj</td>\n      <td>Narayanganj-1</td>\n      <td>23.790643</td>\n      <td>90.708091</td>\n      <td>interpolate</td>\n    </tr>\n    <tr>\n      <th>30</th>\n      <td>21</td>\n      <td>17358</td>\n      <td>Z1048</td>\n      <td>10.195</td>\n      <td>Baily with Steel Deck</td>\n      <td>LRP011b</td>\n      <td>Gogor Bridge</td>\n      <td>15.25</td>\n      <td>C</td>\n      <td>120804</td>\n      <td>...</td>\n      <td>NaN</td>\n      <td>NaN</td>\n      <td>NaN</td>\n      <td>Comilla</td>\n      <td>Comilla</td>\n      <td>Comilla</td>\n      <td>Comilla</td>\n      <td>23.178267</td>\n      <td>91.197997</td>\n      <td>interpolate</td>\n    </tr>\n    <tr>\n      <th>15</th>\n      <td>52</td>\n      <td>2281</td>\n      <td>R151</td>\n      <td>31.573</td>\n      <td>Truss with Steel Deck</td>\n      <td>LRP033d</td>\n      <td>Gozaria Bridge</td>\n      <td>42.67</td>\n      <td>A</td>\n      <td>121390</td>\n      <td>...</td>\n      <td>NaN</td>\n      <td>NaN</td>\n      <td>NaN</td>\n      <td>Chittagong</td>\n      <td>Chittagong</td>\n      <td>Chittagong</td>\n      <td>Sitakunda</td>\n      <td>22.809674</td>\n      <td>91.718117</td>\n      <td>interpolate</td>\n    </tr>\n    <tr>\n      <th>21</th>\n      <td>44</td>\n      <td>16188</td>\n      <td>R151</td>\n      <td>26.086</td>\n      <td>Truss with Steel Deck</td>\n      <td>LRP026a</td>\n      <td>Datmara Bridge</td>\n      <td>18.38</td>\n      <td>C</td>\n      <td>121817</td>\n      <td>...</td>\n      <td>NaN</td>\n      <td>NaN</td>\n      <td>NaN</td>\n      <td>Chittagong</td>\n      <td>Chittagong</td>\n      <td>Chittagong</td>\n      <td>Sitakunda</td>\n      <td>22.852972</td>\n      <td>91.706056</td>\n      <td>interpolate</td>\n    </tr>\n    <tr>\n      <th>1</th>\n      <td>96</td>\n      <td>15266</td>\n      <td>R170</td>\n      <td>55.306</td>\n      <td>RCC Girder Bridge</td>\n      <td>LRP054c</td>\n      <td>Hashiyar Para Bridge</td>\n      <td>15.80</td>\n      <td>B</td>\n      <td>121173</td>\n      <td>...</td>\n      <td>NaN</td>\n      <td>NaN</td>\n      <td>NaN</td>\n      <td>Chittagong</td>\n      <td>Chittagong</td>\n      <td>Dohazari</td>\n      <td>Dohazari</td>\n      <td>21.898680</td>\n      <td>91.965668</td>\n      <td>interpolate</td>\n    </tr>\n    <tr>\n      <th>507</th>\n      <td>174</td>\n      <td>89</td>\n      <td>N1</td>\n      <td>148.174</td>\n      <td>PC Girder Bridge</td>\n      <td>LRP149b</td>\n      <td>Rampur Bridge(R)</td>\n      <td>22.15</td>\n      <td>A</td>\n      <td>121134</td>\n      <td>...</td>\n      <td>NaN</td>\n      <td>NaN</td>\n      <td>NaN</td>\n      <td>Comilla</td>\n      <td>Noakhali</td>\n      <td>Feni</td>\n      <td>Feni-1</td>\n      <td>22.994594</td>\n      <td>91.402454</td>\n      <td>interpolate</td>\n    </tr>\n    <tr>\n      <th>624</th>\n      <td>21</td>\n      <td>14</td>\n      <td>N1</td>\n      <td>17.222</td>\n      <td>PC Girder Bridge</td>\n      <td>LRP018a</td>\n      <td>Darikandi Bridge (L)</td>\n      <td>20.50</td>\n      <td>A</td>\n      <td>119921</td>\n      <td>...</td>\n      <td>NaN</td>\n      <td>NaN</td>\n      <td>NaN</td>\n      <td>Dhaka</td>\n      <td>Dhaka</td>\n      <td>Narayanganj</td>\n      <td>Vitikandi</td>\n      <td>23.653972</td>\n      <td>90.577410</td>\n      <td>interpolate</td>\n    </tr>\n    <tr>\n      <th>629</th>\n      <td>14</td>\n      <td>11</td>\n      <td>N1</td>\n      <td>12.688</td>\n      <td>PC Girder Bridge</td>\n      <td>LRP013b</td>\n      <td>Madanpur Bridge(R)</td>\n      <td>27.50</td>\n      <td>A</td>\n      <td>119900</td>\n      <td>...</td>\n      <td>NaN</td>\n      <td>NaN</td>\n      <td>NaN</td>\n      <td>Dhaka</td>\n      <td>Dhaka</td>\n      <td>Narayanganj</td>\n      <td>Vitikandi</td>\n      <td>23.685362</td>\n      <td>90.551359</td>\n      <td>interpolate</td>\n    </tr>\n    <tr>\n      <th>14</th>\n      <td>118</td>\n      <td>15498</td>\n      <td>R360</td>\n      <td>102.911</td>\n      <td>PC Girder Bridge</td>\n      <td>LRP103b</td>\n      <td>Ganokkhal Bridge</td>\n      <td>43.45</td>\n      <td>B</td>\n      <td>120041</td>\n      <td>...</td>\n      <td>NaN</td>\n      <td>NaN</td>\n      <td>NaN</td>\n      <td>Mymensingh</td>\n      <td>Mymensingh</td>\n      <td>Kishoreganj</td>\n      <td>Bhairab</td>\n      <td>24.148679</td>\n      <td>90.905343</td>\n      <td>interpolate</td>\n    </tr>\n    <tr>\n      <th>16</th>\n      <td>24</td>\n      <td>2853</td>\n      <td>R241</td>\n      <td>39.086</td>\n      <td>RCC Bridge</td>\n      <td>LRP039a</td>\n      <td>Chayra Bridge</td>\n      <td>19.20</td>\n      <td>A</td>\n      <td>121842</td>\n      <td>...</td>\n      <td>NaN</td>\n      <td>NaN</td>\n      <td>NaN</td>\n      <td>Sylhet</td>\n      <td>Sylhet</td>\n      <td>Sunamganj</td>\n      <td>Chattak</td>\n      <td>24.878444</td>\n      <td>91.489139</td>\n      <td>interpolate</td>\n    </tr>\n    <tr>\n      <th>21</th>\n      <td>18</td>\n      <td>11292</td>\n      <td>Z1031</td>\n      <td>18.998</td>\n      <td>RCC Girder Bridge</td>\n      <td>LRP019a</td>\n      <td>Mandair pul Bridge</td>\n      <td>9.46</td>\n      <td>B</td>\n      <td>121846</td>\n      <td>...</td>\n      <td>NaN</td>\n      <td>NaN</td>\n      <td>NaN</td>\n      <td>Comilla</td>\n      <td>Noakhali</td>\n      <td>Feni</td>\n      <td>Feni-2</td>\n      <td>23.036916</td>\n      <td>91.492750</td>\n      <td>interpolate</td>\n    </tr>\n    <tr>\n      <th>9</th>\n      <td>14</td>\n      <td>2607</td>\n      <td>N204</td>\n      <td>16.284</td>\n      <td>RCC Girder Bridge</td>\n      <td>LRP019b</td>\n      <td>Ram Bhanga Bridge</td>\n      <td>50.00</td>\n      <td>A</td>\n      <td>120979</td>\n      <td>...</td>\n      <td>NaN</td>\n      <td>NaN</td>\n      <td>NaN</td>\n      <td>Sylhet</td>\n      <td>Moulavi Bazar</td>\n      <td>Habiganj</td>\n      <td>Shaistagonj</td>\n      <td>24.134762</td>\n      <td>91.476983</td>\n      <td>interpolate</td>\n    </tr>\n  </tbody>\n</table>\n<p>18 rows × 22 columns</p>\n</div>"
     },
     "execution_count": 29,
     "metadata": {},
     "output_type": "execute_result"
    }
   ],
   "source": [
    "# For the bridges with missing values in the width column, check where on the road they are placed\n",
    "df_cleaned_coord[df_cleaned_coord['width'].isna()]"
   ],
   "metadata": {
    "collapsed": false,
    "ExecuteTime": {
     "end_time": "2024-04-02T19:16:34.517217300Z",
     "start_time": "2024-04-02T19:16:34.382343500Z"
    }
   },
   "id": "d61a66176fea98d2",
   "execution_count": 29
  },
  {
   "cell_type": "code",
   "outputs": [
    {
     "data": {
      "text/plain": "    level_0  index  road      km               type  LRPName  \\\n0         3   2863  R250   8.107        Box Culvert  LRP008a   \n1         4   2864  R250  12.648        Box Culvert  LRP013a   \n2         7   2867  R250  15.317        Box Culvert  LRP015b   \n3         6   2866  R250  14.563        Box Culvert  LRP015a   \n4         5   2865  R250  14.032        Box Culvert  LRP014a   \n..      ...    ...   ...     ...                ...      ...   \n27       29   2617  N204  29.610        Box Culvert  LRP035c   \n28       30   2618  N204  31.801        Box Culvert  LRP038a   \n29       31   2619  N204  32.210  RCC Girder Bridge  LRP038b   \n30       33   2620  N204  33.550        Box Culvert  LRP040a   \n31       34   2621  N204  34.300       Slab Culvert  LRP041a   \n\n                             name  length condition  structureNr  ...  width  \\\n0           HELAL PUR BOX CULVERT    4.50         A       100489  ...   9.70   \n1               SUKNA BOX CULVERT    3.00         A       100487  ...   9.70   \n2             FULBARI BOX CULVERT    3.00         A       100491  ...   9.70   \n3             FULBARI BOX CULVERT    3.00         A       100490  ...   9.80   \n4            BOYTIKOL BOX CULVERT    3.00         A       100488  ...   9.70   \n..                            ...     ...       ...          ...  ...    ...   \n27                        CRIKOTA    1.55         A       104081  ...  11.00   \n28                       DURGAPUR    1.50         A       104084  ...  11.55   \n29      DORGAPUR RCC GIDER BRIDGE   17.80         C       104082  ...   8.00   \n30  NEAR SHAIS TAGAMJ BOX CULVERT    4.50         A       104077  ...   9.75   \n31           UBAHATA SLAB CULVERT    4.30         A       104085  ...   9.70   \n\n    constructionYear  spans    zone         circle  division sub-division  \\\n0             1995.0    1.0  Sylhet         Sylhet    Sylhet    Golapganj   \n1             1995.0    1.0  Sylhet         Sylhet    Sylhet    Golapganj   \n2             1995.0    1.0  Sylhet         Sylhet    Sylhet    Golapganj   \n3             1995.0    1.0  Sylhet         Sylhet    Sylhet    Golapganj   \n4             1995.0    1.0  Sylhet         Sylhet    Sylhet    Golapganj   \n..               ...    ...     ...            ...       ...          ...   \n27            1965.0    1.0  Sylhet  Moulavi Bazar  Habiganj  Shaistagonj   \n28            1965.0    1.0  Sylhet  Moulavi Bazar  Habiganj  Shaistagonj   \n29            1965.0    1.0  Sylhet  Moulavi Bazar  Habiganj  Shaistagonj   \n30            1988.0    1.0  Sylhet  Moulavi Bazar  Habiganj  Shaistagonj   \n31            1964.0    1.0  Sylhet  Moulavi Bazar  Habiganj  Shaistagonj   \n\n          lat        lon  EstimatedLoc  \n0   24.852237  91.934565   interpolate  \n1   24.853910  91.976418   interpolate  \n2   24.854289  92.001478   interpolate  \n3   24.856098  91.994234   interpolate  \n4   24.857246  91.989462   interpolate  \n..        ...        ...           ...  \n27  24.232763  91.504116   interpolate  \n28  24.249896  91.493845   interpolate  \n29  24.252372  91.491274   interpolate  \n30  24.261595  91.482321   interpolate  \n31  24.266583  91.476944          bcs1  \n\n[2385 rows x 22 columns]",
      "text/html": "<div>\n<style scoped>\n    .dataframe tbody tr th:only-of-type {\n        vertical-align: middle;\n    }\n\n    .dataframe tbody tr th {\n        vertical-align: top;\n    }\n\n    .dataframe thead th {\n        text-align: right;\n    }\n</style>\n<table border=\"1\" class=\"dataframe\">\n  <thead>\n    <tr style=\"text-align: right;\">\n      <th></th>\n      <th>level_0</th>\n      <th>index</th>\n      <th>road</th>\n      <th>km</th>\n      <th>type</th>\n      <th>LRPName</th>\n      <th>name</th>\n      <th>length</th>\n      <th>condition</th>\n      <th>structureNr</th>\n      <th>...</th>\n      <th>width</th>\n      <th>constructionYear</th>\n      <th>spans</th>\n      <th>zone</th>\n      <th>circle</th>\n      <th>division</th>\n      <th>sub-division</th>\n      <th>lat</th>\n      <th>lon</th>\n      <th>EstimatedLoc</th>\n    </tr>\n  </thead>\n  <tbody>\n    <tr>\n      <th>0</th>\n      <td>3</td>\n      <td>2863</td>\n      <td>R250</td>\n      <td>8.107</td>\n      <td>Box Culvert</td>\n      <td>LRP008a</td>\n      <td>HELAL PUR BOX CULVERT</td>\n      <td>4.50</td>\n      <td>A</td>\n      <td>100489</td>\n      <td>...</td>\n      <td>9.70</td>\n      <td>1995.0</td>\n      <td>1.0</td>\n      <td>Sylhet</td>\n      <td>Sylhet</td>\n      <td>Sylhet</td>\n      <td>Golapganj</td>\n      <td>24.852237</td>\n      <td>91.934565</td>\n      <td>interpolate</td>\n    </tr>\n    <tr>\n      <th>1</th>\n      <td>4</td>\n      <td>2864</td>\n      <td>R250</td>\n      <td>12.648</td>\n      <td>Box Culvert</td>\n      <td>LRP013a</td>\n      <td>SUKNA BOX CULVERT</td>\n      <td>3.00</td>\n      <td>A</td>\n      <td>100487</td>\n      <td>...</td>\n      <td>9.70</td>\n      <td>1995.0</td>\n      <td>1.0</td>\n      <td>Sylhet</td>\n      <td>Sylhet</td>\n      <td>Sylhet</td>\n      <td>Golapganj</td>\n      <td>24.853910</td>\n      <td>91.976418</td>\n      <td>interpolate</td>\n    </tr>\n    <tr>\n      <th>2</th>\n      <td>7</td>\n      <td>2867</td>\n      <td>R250</td>\n      <td>15.317</td>\n      <td>Box Culvert</td>\n      <td>LRP015b</td>\n      <td>FULBARI BOX CULVERT</td>\n      <td>3.00</td>\n      <td>A</td>\n      <td>100491</td>\n      <td>...</td>\n      <td>9.70</td>\n      <td>1995.0</td>\n      <td>1.0</td>\n      <td>Sylhet</td>\n      <td>Sylhet</td>\n      <td>Sylhet</td>\n      <td>Golapganj</td>\n      <td>24.854289</td>\n      <td>92.001478</td>\n      <td>interpolate</td>\n    </tr>\n    <tr>\n      <th>3</th>\n      <td>6</td>\n      <td>2866</td>\n      <td>R250</td>\n      <td>14.563</td>\n      <td>Box Culvert</td>\n      <td>LRP015a</td>\n      <td>FULBARI BOX CULVERT</td>\n      <td>3.00</td>\n      <td>A</td>\n      <td>100490</td>\n      <td>...</td>\n      <td>9.80</td>\n      <td>1995.0</td>\n      <td>1.0</td>\n      <td>Sylhet</td>\n      <td>Sylhet</td>\n      <td>Sylhet</td>\n      <td>Golapganj</td>\n      <td>24.856098</td>\n      <td>91.994234</td>\n      <td>interpolate</td>\n    </tr>\n    <tr>\n      <th>4</th>\n      <td>5</td>\n      <td>2865</td>\n      <td>R250</td>\n      <td>14.032</td>\n      <td>Box Culvert</td>\n      <td>LRP014a</td>\n      <td>BOYTIKOL BOX CULVERT</td>\n      <td>3.00</td>\n      <td>A</td>\n      <td>100488</td>\n      <td>...</td>\n      <td>9.70</td>\n      <td>1995.0</td>\n      <td>1.0</td>\n      <td>Sylhet</td>\n      <td>Sylhet</td>\n      <td>Sylhet</td>\n      <td>Golapganj</td>\n      <td>24.857246</td>\n      <td>91.989462</td>\n      <td>interpolate</td>\n    </tr>\n    <tr>\n      <th>...</th>\n      <td>...</td>\n      <td>...</td>\n      <td>...</td>\n      <td>...</td>\n      <td>...</td>\n      <td>...</td>\n      <td>...</td>\n      <td>...</td>\n      <td>...</td>\n      <td>...</td>\n      <td>...</td>\n      <td>...</td>\n      <td>...</td>\n      <td>...</td>\n      <td>...</td>\n      <td>...</td>\n      <td>...</td>\n      <td>...</td>\n      <td>...</td>\n      <td>...</td>\n      <td>...</td>\n    </tr>\n    <tr>\n      <th>27</th>\n      <td>29</td>\n      <td>2617</td>\n      <td>N204</td>\n      <td>29.610</td>\n      <td>Box Culvert</td>\n      <td>LRP035c</td>\n      <td>CRIKOTA</td>\n      <td>1.55</td>\n      <td>A</td>\n      <td>104081</td>\n      <td>...</td>\n      <td>11.00</td>\n      <td>1965.0</td>\n      <td>1.0</td>\n      <td>Sylhet</td>\n      <td>Moulavi Bazar</td>\n      <td>Habiganj</td>\n      <td>Shaistagonj</td>\n      <td>24.232763</td>\n      <td>91.504116</td>\n      <td>interpolate</td>\n    </tr>\n    <tr>\n      <th>28</th>\n      <td>30</td>\n      <td>2618</td>\n      <td>N204</td>\n      <td>31.801</td>\n      <td>Box Culvert</td>\n      <td>LRP038a</td>\n      <td>DURGAPUR</td>\n      <td>1.50</td>\n      <td>A</td>\n      <td>104084</td>\n      <td>...</td>\n      <td>11.55</td>\n      <td>1965.0</td>\n      <td>1.0</td>\n      <td>Sylhet</td>\n      <td>Moulavi Bazar</td>\n      <td>Habiganj</td>\n      <td>Shaistagonj</td>\n      <td>24.249896</td>\n      <td>91.493845</td>\n      <td>interpolate</td>\n    </tr>\n    <tr>\n      <th>29</th>\n      <td>31</td>\n      <td>2619</td>\n      <td>N204</td>\n      <td>32.210</td>\n      <td>RCC Girder Bridge</td>\n      <td>LRP038b</td>\n      <td>DORGAPUR RCC GIDER BRIDGE</td>\n      <td>17.80</td>\n      <td>C</td>\n      <td>104082</td>\n      <td>...</td>\n      <td>8.00</td>\n      <td>1965.0</td>\n      <td>1.0</td>\n      <td>Sylhet</td>\n      <td>Moulavi Bazar</td>\n      <td>Habiganj</td>\n      <td>Shaistagonj</td>\n      <td>24.252372</td>\n      <td>91.491274</td>\n      <td>interpolate</td>\n    </tr>\n    <tr>\n      <th>30</th>\n      <td>33</td>\n      <td>2620</td>\n      <td>N204</td>\n      <td>33.550</td>\n      <td>Box Culvert</td>\n      <td>LRP040a</td>\n      <td>NEAR SHAIS TAGAMJ BOX CULVERT</td>\n      <td>4.50</td>\n      <td>A</td>\n      <td>104077</td>\n      <td>...</td>\n      <td>9.75</td>\n      <td>1988.0</td>\n      <td>1.0</td>\n      <td>Sylhet</td>\n      <td>Moulavi Bazar</td>\n      <td>Habiganj</td>\n      <td>Shaistagonj</td>\n      <td>24.261595</td>\n      <td>91.482321</td>\n      <td>interpolate</td>\n    </tr>\n    <tr>\n      <th>31</th>\n      <td>34</td>\n      <td>2621</td>\n      <td>N204</td>\n      <td>34.300</td>\n      <td>Slab Culvert</td>\n      <td>LRP041a</td>\n      <td>UBAHATA SLAB CULVERT</td>\n      <td>4.30</td>\n      <td>A</td>\n      <td>104085</td>\n      <td>...</td>\n      <td>9.70</td>\n      <td>1964.0</td>\n      <td>1.0</td>\n      <td>Sylhet</td>\n      <td>Moulavi Bazar</td>\n      <td>Habiganj</td>\n      <td>Shaistagonj</td>\n      <td>24.266583</td>\n      <td>91.476944</td>\n      <td>bcs1</td>\n    </tr>\n  </tbody>\n</table>\n<p>2385 rows × 22 columns</p>\n</div>"
     },
     "execution_count": 30,
     "metadata": {},
     "output_type": "execute_result"
    }
   ],
   "source": [
    "# Based on the LRPName and the chainge, none of the brides with NaN values are placed at the beginning of the end of their respective roads. This makes it safe to fill the missing values using forward fill, as there is no risk of filling the bridge with values from another road\n",
    "df_cleaned_coord.ffill()"
   ],
   "metadata": {
    "collapsed": false,
    "ExecuteTime": {
     "end_time": "2024-04-02T19:16:34.550360800Z",
     "start_time": "2024-04-02T19:16:34.409144700Z"
    }
   },
   "id": "ddfbad42aef0f783",
   "execution_count": 30
  },
  {
   "cell_type": "code",
   "outputs": [],
   "source": [
    "def add_lanes(df):\n",
    "    dataframe = df.copy()\n",
    "    dataframe.drop(columns=['level_0', 'index'], inplace=True)\n",
    "    dataframe.reset_index(inplace=True)\n",
    "    dataframe.drop(columns=['index'], inplace=True)\n",
    "    for row in range(len(dataframe)):\n",
    "         if dataframe.loc[row, 'width'] < 12:\n",
    "            dataframe.at[row, 'lanes'] = 2\n",
    "         elif (dataframe.loc[row, 'width'] >= 12) & (dataframe.loc[row, 'width'] < 18):\n",
    "            dataframe.at[row, 'lanes'] = 4\n",
    "         elif (dataframe.loc[row, 'width'] >= 18) & (dataframe.loc[row, 'width'] < 22):\n",
    "            dataframe.at[row, 'lanes'] = 6\n",
    "         else:\n",
    "            dataframe.at[row, 'lanes'] = 8\n",
    "    return dataframe"
   ],
   "metadata": {
    "collapsed": false,
    "ExecuteTime": {
     "end_time": "2024-04-02T19:16:34.685928800Z",
     "start_time": "2024-04-02T19:16:34.439180200Z"
    }
   },
   "id": "acf1c823eb7f16e9",
   "execution_count": 31
  },
  {
   "cell_type": "code",
   "outputs": [
    {
     "data": {
      "text/plain": "      road      km               type  LRPName                           name  \\\n0     R250   8.107        Box Culvert  LRP008a          HELAL PUR BOX CULVERT   \n1     R250  12.648        Box Culvert  LRP013a              SUKNA BOX CULVERT   \n2     R250  15.317        Box Culvert  LRP015b            FULBARI BOX CULVERT   \n3     R250  14.563        Box Culvert  LRP015a            FULBARI BOX CULVERT   \n4     R250  14.032        Box Culvert  LRP014a           BOYTIKOL BOX CULVERT   \n...    ...     ...                ...      ...                            ...   \n2380  N204  29.610        Box Culvert  LRP035c                        CRIKOTA   \n2381  N204  31.801        Box Culvert  LRP038a                       DURGAPUR   \n2382  N204  32.210  RCC Girder Bridge  LRP038b      DORGAPUR RCC GIDER BRIDGE   \n2383  N204  33.550        Box Culvert  LRP040a  NEAR SHAIS TAGAMJ BOX CULVERT   \n2384  N204  34.300       Slab Culvert  LRP041a           UBAHATA SLAB CULVERT   \n\n      length condition  structureNr  \\\n0       4.50         A       100489   \n1       3.00         A       100487   \n2       3.00         A       100491   \n3       3.00         A       100490   \n4       3.00         A       100488   \n...      ...       ...          ...   \n2380    1.55         A       104081   \n2381    1.50         A       104084   \n2382   17.80         C       104082   \n2383    4.50         A       104077   \n2384    4.30         A       104085   \n\n                                            roadName  chainage  ...  \\\n0            Sylhet-Golapganj-Charkhai-Jakiganj Road     8.107  ...   \n1            Sylhet-Golapganj-Charkhai-Jakiganj Road    12.648  ...   \n2            Sylhet-Golapganj-Charkhai-Jakiganj Road    15.317  ...   \n3            Sylhet-Golapganj-Charkhai-Jakiganj Road    14.563  ...   \n4            Sylhet-Golapganj-Charkhai-Jakiganj Road    14.032  ...   \n...                                              ...       ...  ...   \n2380  Jagadishpur-Chunarughat-Shaistaganj (old part)    29.610  ...   \n2381  Jagadishpur-Chunarughat-Shaistaganj (old part)    31.801  ...   \n2382  Jagadishpur-Chunarughat-Shaistaganj (old part)    32.210  ...   \n2383  Jagadishpur-Chunarughat-Shaistaganj (old part)    33.550  ...   \n2384  Jagadishpur-Chunarughat-Shaistaganj (old part)    34.300  ...   \n\n      constructionYear  spans    zone         circle  division sub-division  \\\n0               1995.0    1.0  Sylhet         Sylhet    Sylhet    Golapganj   \n1               1995.0    1.0  Sylhet         Sylhet    Sylhet    Golapganj   \n2               1995.0    1.0  Sylhet         Sylhet    Sylhet    Golapganj   \n3               1995.0    1.0  Sylhet         Sylhet    Sylhet    Golapganj   \n4               1995.0    1.0  Sylhet         Sylhet    Sylhet    Golapganj   \n...                ...    ...     ...            ...       ...          ...   \n2380            1965.0    1.0  Sylhet  Moulavi Bazar  Habiganj  Shaistagonj   \n2381            1965.0    1.0  Sylhet  Moulavi Bazar  Habiganj  Shaistagonj   \n2382            1965.0    1.0  Sylhet  Moulavi Bazar  Habiganj  Shaistagonj   \n2383            1988.0    1.0  Sylhet  Moulavi Bazar  Habiganj  Shaistagonj   \n2384            1964.0    1.0  Sylhet  Moulavi Bazar  Habiganj  Shaistagonj   \n\n            lat        lon  EstimatedLoc lanes  \n0     24.852237  91.934565   interpolate   2.0  \n1     24.853910  91.976418   interpolate   2.0  \n2     24.854289  92.001478   interpolate   2.0  \n3     24.856098  91.994234   interpolate   2.0  \n4     24.857246  91.989462   interpolate   2.0  \n...         ...        ...           ...   ...  \n2380  24.232763  91.504116   interpolate   2.0  \n2381  24.249896  91.493845   interpolate   2.0  \n2382  24.252372  91.491274   interpolate   2.0  \n2383  24.261595  91.482321   interpolate   2.0  \n2384  24.266583  91.476944          bcs1   2.0  \n\n[2385 rows x 21 columns]",
      "text/html": "<div>\n<style scoped>\n    .dataframe tbody tr th:only-of-type {\n        vertical-align: middle;\n    }\n\n    .dataframe tbody tr th {\n        vertical-align: top;\n    }\n\n    .dataframe thead th {\n        text-align: right;\n    }\n</style>\n<table border=\"1\" class=\"dataframe\">\n  <thead>\n    <tr style=\"text-align: right;\">\n      <th></th>\n      <th>road</th>\n      <th>km</th>\n      <th>type</th>\n      <th>LRPName</th>\n      <th>name</th>\n      <th>length</th>\n      <th>condition</th>\n      <th>structureNr</th>\n      <th>roadName</th>\n      <th>chainage</th>\n      <th>...</th>\n      <th>constructionYear</th>\n      <th>spans</th>\n      <th>zone</th>\n      <th>circle</th>\n      <th>division</th>\n      <th>sub-division</th>\n      <th>lat</th>\n      <th>lon</th>\n      <th>EstimatedLoc</th>\n      <th>lanes</th>\n    </tr>\n  </thead>\n  <tbody>\n    <tr>\n      <th>0</th>\n      <td>R250</td>\n      <td>8.107</td>\n      <td>Box Culvert</td>\n      <td>LRP008a</td>\n      <td>HELAL PUR BOX CULVERT</td>\n      <td>4.50</td>\n      <td>A</td>\n      <td>100489</td>\n      <td>Sylhet-Golapganj-Charkhai-Jakiganj Road</td>\n      <td>8.107</td>\n      <td>...</td>\n      <td>1995.0</td>\n      <td>1.0</td>\n      <td>Sylhet</td>\n      <td>Sylhet</td>\n      <td>Sylhet</td>\n      <td>Golapganj</td>\n      <td>24.852237</td>\n      <td>91.934565</td>\n      <td>interpolate</td>\n      <td>2.0</td>\n    </tr>\n    <tr>\n      <th>1</th>\n      <td>R250</td>\n      <td>12.648</td>\n      <td>Box Culvert</td>\n      <td>LRP013a</td>\n      <td>SUKNA BOX CULVERT</td>\n      <td>3.00</td>\n      <td>A</td>\n      <td>100487</td>\n      <td>Sylhet-Golapganj-Charkhai-Jakiganj Road</td>\n      <td>12.648</td>\n      <td>...</td>\n      <td>1995.0</td>\n      <td>1.0</td>\n      <td>Sylhet</td>\n      <td>Sylhet</td>\n      <td>Sylhet</td>\n      <td>Golapganj</td>\n      <td>24.853910</td>\n      <td>91.976418</td>\n      <td>interpolate</td>\n      <td>2.0</td>\n    </tr>\n    <tr>\n      <th>2</th>\n      <td>R250</td>\n      <td>15.317</td>\n      <td>Box Culvert</td>\n      <td>LRP015b</td>\n      <td>FULBARI BOX CULVERT</td>\n      <td>3.00</td>\n      <td>A</td>\n      <td>100491</td>\n      <td>Sylhet-Golapganj-Charkhai-Jakiganj Road</td>\n      <td>15.317</td>\n      <td>...</td>\n      <td>1995.0</td>\n      <td>1.0</td>\n      <td>Sylhet</td>\n      <td>Sylhet</td>\n      <td>Sylhet</td>\n      <td>Golapganj</td>\n      <td>24.854289</td>\n      <td>92.001478</td>\n      <td>interpolate</td>\n      <td>2.0</td>\n    </tr>\n    <tr>\n      <th>3</th>\n      <td>R250</td>\n      <td>14.563</td>\n      <td>Box Culvert</td>\n      <td>LRP015a</td>\n      <td>FULBARI BOX CULVERT</td>\n      <td>3.00</td>\n      <td>A</td>\n      <td>100490</td>\n      <td>Sylhet-Golapganj-Charkhai-Jakiganj Road</td>\n      <td>14.563</td>\n      <td>...</td>\n      <td>1995.0</td>\n      <td>1.0</td>\n      <td>Sylhet</td>\n      <td>Sylhet</td>\n      <td>Sylhet</td>\n      <td>Golapganj</td>\n      <td>24.856098</td>\n      <td>91.994234</td>\n      <td>interpolate</td>\n      <td>2.0</td>\n    </tr>\n    <tr>\n      <th>4</th>\n      <td>R250</td>\n      <td>14.032</td>\n      <td>Box Culvert</td>\n      <td>LRP014a</td>\n      <td>BOYTIKOL BOX CULVERT</td>\n      <td>3.00</td>\n      <td>A</td>\n      <td>100488</td>\n      <td>Sylhet-Golapganj-Charkhai-Jakiganj Road</td>\n      <td>14.032</td>\n      <td>...</td>\n      <td>1995.0</td>\n      <td>1.0</td>\n      <td>Sylhet</td>\n      <td>Sylhet</td>\n      <td>Sylhet</td>\n      <td>Golapganj</td>\n      <td>24.857246</td>\n      <td>91.989462</td>\n      <td>interpolate</td>\n      <td>2.0</td>\n    </tr>\n    <tr>\n      <th>...</th>\n      <td>...</td>\n      <td>...</td>\n      <td>...</td>\n      <td>...</td>\n      <td>...</td>\n      <td>...</td>\n      <td>...</td>\n      <td>...</td>\n      <td>...</td>\n      <td>...</td>\n      <td>...</td>\n      <td>...</td>\n      <td>...</td>\n      <td>...</td>\n      <td>...</td>\n      <td>...</td>\n      <td>...</td>\n      <td>...</td>\n      <td>...</td>\n      <td>...</td>\n      <td>...</td>\n    </tr>\n    <tr>\n      <th>2380</th>\n      <td>N204</td>\n      <td>29.610</td>\n      <td>Box Culvert</td>\n      <td>LRP035c</td>\n      <td>CRIKOTA</td>\n      <td>1.55</td>\n      <td>A</td>\n      <td>104081</td>\n      <td>Jagadishpur-Chunarughat-Shaistaganj (old part)</td>\n      <td>29.610</td>\n      <td>...</td>\n      <td>1965.0</td>\n      <td>1.0</td>\n      <td>Sylhet</td>\n      <td>Moulavi Bazar</td>\n      <td>Habiganj</td>\n      <td>Shaistagonj</td>\n      <td>24.232763</td>\n      <td>91.504116</td>\n      <td>interpolate</td>\n      <td>2.0</td>\n    </tr>\n    <tr>\n      <th>2381</th>\n      <td>N204</td>\n      <td>31.801</td>\n      <td>Box Culvert</td>\n      <td>LRP038a</td>\n      <td>DURGAPUR</td>\n      <td>1.50</td>\n      <td>A</td>\n      <td>104084</td>\n      <td>Jagadishpur-Chunarughat-Shaistaganj (old part)</td>\n      <td>31.801</td>\n      <td>...</td>\n      <td>1965.0</td>\n      <td>1.0</td>\n      <td>Sylhet</td>\n      <td>Moulavi Bazar</td>\n      <td>Habiganj</td>\n      <td>Shaistagonj</td>\n      <td>24.249896</td>\n      <td>91.493845</td>\n      <td>interpolate</td>\n      <td>2.0</td>\n    </tr>\n    <tr>\n      <th>2382</th>\n      <td>N204</td>\n      <td>32.210</td>\n      <td>RCC Girder Bridge</td>\n      <td>LRP038b</td>\n      <td>DORGAPUR RCC GIDER BRIDGE</td>\n      <td>17.80</td>\n      <td>C</td>\n      <td>104082</td>\n      <td>Jagadishpur-Chunarughat-Shaistaganj (old part)</td>\n      <td>32.210</td>\n      <td>...</td>\n      <td>1965.0</td>\n      <td>1.0</td>\n      <td>Sylhet</td>\n      <td>Moulavi Bazar</td>\n      <td>Habiganj</td>\n      <td>Shaistagonj</td>\n      <td>24.252372</td>\n      <td>91.491274</td>\n      <td>interpolate</td>\n      <td>2.0</td>\n    </tr>\n    <tr>\n      <th>2383</th>\n      <td>N204</td>\n      <td>33.550</td>\n      <td>Box Culvert</td>\n      <td>LRP040a</td>\n      <td>NEAR SHAIS TAGAMJ BOX CULVERT</td>\n      <td>4.50</td>\n      <td>A</td>\n      <td>104077</td>\n      <td>Jagadishpur-Chunarughat-Shaistaganj (old part)</td>\n      <td>33.550</td>\n      <td>...</td>\n      <td>1988.0</td>\n      <td>1.0</td>\n      <td>Sylhet</td>\n      <td>Moulavi Bazar</td>\n      <td>Habiganj</td>\n      <td>Shaistagonj</td>\n      <td>24.261595</td>\n      <td>91.482321</td>\n      <td>interpolate</td>\n      <td>2.0</td>\n    </tr>\n    <tr>\n      <th>2384</th>\n      <td>N204</td>\n      <td>34.300</td>\n      <td>Slab Culvert</td>\n      <td>LRP041a</td>\n      <td>UBAHATA SLAB CULVERT</td>\n      <td>4.30</td>\n      <td>A</td>\n      <td>104085</td>\n      <td>Jagadishpur-Chunarughat-Shaistaganj (old part)</td>\n      <td>34.300</td>\n      <td>...</td>\n      <td>1964.0</td>\n      <td>1.0</td>\n      <td>Sylhet</td>\n      <td>Moulavi Bazar</td>\n      <td>Habiganj</td>\n      <td>Shaistagonj</td>\n      <td>24.266583</td>\n      <td>91.476944</td>\n      <td>bcs1</td>\n      <td>2.0</td>\n    </tr>\n  </tbody>\n</table>\n<p>2385 rows × 21 columns</p>\n</div>"
     },
     "execution_count": 32,
     "metadata": {},
     "output_type": "execute_result"
    }
   ],
   "source": [
    "cleaned_bridges_final = add_lanes(df_cleaned_coord)\n",
    "cleaned_bridges_final"
   ],
   "metadata": {
    "collapsed": false,
    "ExecuteTime": {
     "end_time": "2024-04-02T19:16:34.957790800Z",
     "start_time": "2024-04-02T19:16:34.471903400Z"
    }
   },
   "id": "a7d439b69267520",
   "execution_count": 32
  },
  {
   "cell_type": "code",
   "outputs": [],
   "source": [
    "cleaned_bridges_final.to_csv('../data/semi-processed/cleaned_bridges_final.csv')"
   ],
   "metadata": {
    "collapsed": false,
    "ExecuteTime": {
     "end_time": "2024-04-02T19:16:34.980404700Z",
     "start_time": "2024-04-02T19:16:34.659785700Z"
    }
   },
   "id": "56178c0e008147b8",
   "execution_count": 33
  },
  {
   "cell_type": "markdown",
   "source": [
    "### Check how many bridges got deleted in each cleaning iteration according to road type"
   ],
   "metadata": {
    "collapsed": false
   },
   "id": "e3bfebbf8ba99eb"
  },
  {
   "cell_type": "code",
   "outputs": [],
   "source": [
    "# Check how many bridges, from which type of road did not get a match \n",
    "from collections import Counter\n",
    "\n",
    "def identify_roads(df):\n",
    "    dataframe = df.copy()\n",
    "    dataframe['road'] = dataframe['road'].astype(str)\n",
    "    road_list = dataframe['road'].to_list()\n",
    "    \n",
    "    road_letter = []\n",
    "    road_number = []\n",
    "    for road in road_list:\n",
    "        letter = road[0]\n",
    "        road_letter.append(letter)\n",
    "        number = road[1:]\n",
    "        road_number.append(number)\n",
    "        \n",
    "    print(f'The amount of bridges on Z, R and N roads respectivly: {Counter(road_letter).values()}')"
   ],
   "metadata": {
    "collapsed": false,
    "ExecuteTime": {
     "end_time": "2024-04-02T19:16:34.980827900Z",
     "start_time": "2024-04-02T19:16:34.699016400Z"
    }
   },
   "id": "3d0da62ecfb45615",
   "execution_count": 34
  },
  {
   "cell_type": "code",
   "outputs": [
    {
     "name": "stdout",
     "output_type": "stream",
     "text": [
      "The amount of bridges on Z, R and N roads respectivly: dict_values([798, 1662, 402])\n"
     ]
    }
   ],
   "source": [
    "identify_roads(df_bridges_full)"
   ],
   "metadata": {
    "collapsed": false,
    "ExecuteTime": {
     "end_time": "2024-04-02T19:16:35.018862Z",
     "start_time": "2024-04-02T19:16:34.713017800Z"
    }
   },
   "id": "fa937d6be9d00854",
   "execution_count": 35
  },
  {
   "cell_type": "code",
   "outputs": [
    {
     "name": "stdout",
     "output_type": "stream",
     "text": [
      "The amount of bridges on Z, R and N roads respectivly: dict_values([676, 1380, 343])\n"
     ]
    }
   ],
   "source": [
    "identify_roads(cleaned_bridges_LRP)"
   ],
   "metadata": {
    "collapsed": false,
    "ExecuteTime": {
     "end_time": "2024-04-02T19:16:35.020070100Z",
     "start_time": "2024-04-02T19:16:34.725903200Z"
    }
   },
   "id": "3bd96cc8167e55cb",
   "execution_count": 36
  },
  {
   "cell_type": "code",
   "outputs": [
    {
     "name": "stdout",
     "output_type": "stream",
     "text": [
      "The amount of bridges on Z, R and N roads respectivly: dict_values([676, 1366, 343])\n"
     ]
    }
   ],
   "source": [
    "identify_roads(df_cleaned_coord)"
   ],
   "metadata": {
    "collapsed": false,
    "ExecuteTime": {
     "end_time": "2024-04-02T19:16:35.020668100Z",
     "start_time": "2024-04-02T19:16:34.741100200Z"
    }
   },
   "id": "256a36ca4fb47ab7",
   "execution_count": 37
  },
  {
   "cell_type": "markdown",
   "source": [
    "## Lets make a beautiful visualisation to show the distribution of bridge contitions (to compare with the bonus)"
   ],
   "metadata": {
    "collapsed": false
   },
   "id": "a2b54ab3ca91fe6a"
  },
  {
   "cell_type": "code",
   "execution_count": 38,
   "outputs": [
    {
     "data": {
      "text/plain": "condition\nA    1377\nC     482\nB     440\nD      86\nName: count, dtype: int64"
     },
     "execution_count": 38,
     "metadata": {},
     "output_type": "execute_result"
    }
   ],
   "source": [
    "df_cleaned_coord.condition.value_counts()"
   ],
   "metadata": {
    "collapsed": false,
    "ExecuteTime": {
     "end_time": "2024-04-02T19:16:35.021851800Z",
     "start_time": "2024-04-02T19:16:34.761952900Z"
    }
   },
   "id": "eb1d9f53ab7b224e"
  },
  {
   "cell_type": "code",
   "execution_count": 39,
   "outputs": [
    {
     "data": {
      "text/plain": "<Figure size 800x600 with 1 Axes>",
      "image/png": "[encoded data removed]"
     },
     "metadata": {},
     "output_type": "display_data"
    }
   ],
   "source": [
    "# Get value counts of the 'Category' column\n",
    "value_counts = df_cleaned_coord['condition'].value_counts()\n",
    "\n",
    "\n",
    "# Create bar plot using Pyplot\n",
    "plt.figure(figsize=(8, 6))  \n",
    "plt.bar(value_counts.index, value_counts.values, color='skyblue')\n",
    "plt.title('Amount of bridges in different conditions')\n",
    "plt.xlabel('Categories')\n",
    "plt.ylabel('Bridges')\n",
    "plt.xticks(rotation=45)  \n",
    "plt.grid(axis='y', linestyle='--', alpha=0.7)  \n",
    "plt.show()"
   ],
   "metadata": {
    "collapsed": false,
    "ExecuteTime": {
     "end_time": "2024-04-02T19:16:35.192691500Z",
     "start_time": "2024-04-02T19:16:34.782415100Z"
    }
   },
   "id": "a1c6da1ede5f0e78"
  },
  {
   "cell_type": "code",
   "execution_count": 40,
   "outputs": [
    {
     "name": "stdout",
     "output_type": "stream",
     "text": [
      "condition\n",
      "A    0.577358\n",
      "C    0.202096\n",
      "B    0.184486\n",
      "D    0.036059\n",
      "Name: count, dtype: float64\n"
     ]
    }
   ],
   "source": [
    "print(df_cleaned_coord.condition.value_counts()/df_cleaned_coord.condition.value_counts().sum())"
   ],
   "metadata": {
    "collapsed": false,
    "ExecuteTime": {
     "end_time": "2024-04-02T19:16:35.192691500Z",
     "start_time": "2024-04-02T19:16:35.028733400Z"
    }
   },
   "id": "a9381f5bd5843792"
  }
 ],
 "metadata": {
  "kernelspec": {
   "display_name": "Python 3",
   "language": "python",
   "name": "python3"
  },
  "language_info": {
   "codemirror_mode": {
    "name": "ipython",
    "version": 2
   },
   "file_extension": ".py",
   "mimetype": "text/x-python",
   "name": "python",
   "nbconvert_exporter": "python",
   "pygments_lexer": "ipython2",
   "version": "2.7.6"
  }
 },
 "nbformat": 4,
 "nbformat_minor": 5
}
