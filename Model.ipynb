{
 "cells": [
  {
   "cell_type": "code",
   "execution_count": 2,
   "id": "f407c363-b40f-4119-828b-069a4ec40d65",
   "metadata": {},
   "outputs": [],
   "source": [
    "import pickle"
   ]
  },
  {
   "cell_type": "code",
   "execution_count": 4,
   "id": "023f9264-fc42-4d1d-9387-62344488891e",
   "metadata": {},
   "outputs": [],
   "source": [
    "G = pickle.load(open('Data/TheHagueStreets.pickle', 'rb'))"
   ]
  },
  {
   "cell_type": "code",
   "execution_count": 5,
   "id": "1b022c26-28fd-4e1e-9e2e-682ff2b5f26a",
   "metadata": {},
   "outputs": [],
   "source": [
    "def Close_Street(G, street, attribute_compare = \"name\", attribute_to_false = \"Closed\"):\n",
    "    names = nx.get_edge_attributes(G, attribute_compare)\n",
    "\n",
    "    Nodes_check = []\n",
    "    \n",
    "    for nodes, street_check in names.items():\n",
    "        if street_check == street:\n",
    "            Nodes_check.append(nodes)\n",
    "\n",
    "    for edges in Nodes_check:\n",
    "        G[edges[0]][edges[1]][edges[2]][attribute_to_false] = True"
   ]
  },
  {
   "cell_type": "code",
   "execution_count": null,
   "id": "08e43f2a-4c49-4401-bd22-a783806daf2b",
   "metadata": {},
   "outputs": [],
   "source": []
  }
 ],
 "metadata": {
  "kernelspec": {
   "display_name": "Python 3 (ipykernel)",
   "language": "python",
   "name": "python3"
  },
  "language_info": {
   "codemirror_mode": {
    "name": "ipython",
    "version": 3
   },
   "file_extension": ".py",
   "mimetype": "text/x-python",
   "name": "python",
   "nbconvert_exporter": "python",
   "pygments_lexer": "ipython3",
   "version": "3.10.15"
  }
 },
 "nbformat": 4,
 "nbformat_minor": 5
}
